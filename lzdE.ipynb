{
 "cells": [
  {
   "cell_type": "markdown",
   "id": "60350c50eeda5b81",
   "metadata": {},
   "source": [
    "# INTRODUCTION\n",
    "\n",
    "E-commerce, or electronic commerce, refers to the buying and selling of goods and services over the Internet. With the rapid growth of online shopping platforms and digital marketplaces, e-commerce has become a crucial aspect of modern business operations. The rise of e-commerce has transformed the way businesses operate, enabling them to reach a global customer base and providing consumers with unparalleled convenience and access to a vast array of products and services.\n",
    "\n",
    "Machine learning, a subset of artificial intelligence (AI), has revolutionized the e-commerce industry by offering numerous benefits and opportunities. Machine learning involves the development of algorithms and statistical models that enable systems to learn from data and make predictions or decisions without being explicitly programmed. In the context of e-commerce, machine learning techniques are employed in areas such as personalized recommendations, demand forecasting, pricing optimization, fraud detection, chatbots and virtual assistants, and image and text analysis. By leveraging machine learning technologies, e-commerce businesses can gain valuable insights, streamline operations, enhance customer experiences, and ultimately drive growth and profitability in an increasingly competitive online marketplace.\n",
    "\n",
    "Through this report, we will demonstrate how machine learning can be used to predict quantity sold of products on any e-commerce platform, or in particular, Lazada.\n"
   ]
  },
  {
   "cell_type": "markdown",
   "id": "815b152657457d4d",
   "metadata": {},
   "source": [
    "# ETLS"
   ]
  },
  {
   "cell_type": "markdown",
   "id": "659500c87d58d47d",
   "metadata": {},
   "source": [
    "## *Crawl dataset from Lazada using Selenium*\n",
    "\n",
    "There are two common ways to crawl data using Python:\n",
    "\n",
    "1. **Web Scraping**:\n",
    "   Web scraping involves extracting information from websites by parsing the HTML content. Python provides several libraries for web scraping, such as **Beautiful Soup**, **Requests**, and **Scrapy**. Here's a brief overview of each:\n",
    "   - **Beautiful Soup**: A powerful library for parsing HTML and XML documents. It allows you to navigate the document tree, extract specific elements, and retrieve data.\n",
    "   - **Requests**: A popular library for making HTTP requests. You can use it to fetch web pages and then parse the content using Beautiful Soup.\n",
    "   - **Scrapy**: A comprehensive framework for web crawling and data extraction. Scrapy provides built-in features like handling redirects, managing cookies, and following links.\n",
    "\n",
    "2. **APIs and Data APIs**:\n",
    "   Another way to collect data is by using APIs (Application Programming Interfaces). Many websites and services offer APIs that allow you to retrieve structured data directly. Here's how it works:\n",
    "   - **RESTful APIs**: These APIs follow REST principles and provide endpoints to access specific data. You can use Python's **requests** library to make API calls and retrieve JSON or XML responses.\n",
    "   - **Data APIs**: Some platforms, such as Twitter, GitHub, or Google Maps, offer specific APIs to access their data. For example, the Twitter API allows you to search for tweets, retrieve user profiles, and post tweets programmatically.\n",
    "\n",
    "For Lazada, APIs are not available for crawling, thus web scraping is more appropriate than API crawling. To do so, we need to use `selenium` package. One thing to note that `selenium` will require a UI driver to execute. That's why you must have chromedriver.exe if you use Google Chrome for crawling. Here's how to download chromedriver.exe:\n",
    "- Paste this link onto the search bar: https://storage.googleapis.com/chrome-for-testing-public/115.0.5763.0/win64/chromedriver-win64.zip\n",
    "- Once it's automatically downloaded, unzip the files and copy the file `chromedriver.exe` into the folder that contains this notebook.\n",
    "\n",
    "Here's how you can do it. "
   ]
  },
  {
   "cell_type": "code",
   "execution_count": 5,
   "id": "f87d41b7",
   "metadata": {},
   "outputs": [
    {
     "name": "stdout",
     "output_type": "stream",
     "text": [
      "Collecting webdriver-manager\n",
      "  Downloading webdriver_manager-4.0.2-py2.py3-none-any.whl.metadata (12 kB)\n",
      "Requirement already satisfied: requests in /Library/Frameworks/Python.framework/Versions/3.12/lib/python3.12/site-packages (from webdriver-manager) (2.32.3)\n",
      "Collecting python-dotenv (from webdriver-manager)\n",
      "  Downloading python_dotenv-1.0.1-py3-none-any.whl.metadata (23 kB)\n",
      "Requirement already satisfied: packaging in /Users/putan/Library/Python/3.12/lib/python/site-packages (from webdriver-manager) (24.2)\n",
      "Requirement already satisfied: charset-normalizer<4,>=2 in /Library/Frameworks/Python.framework/Versions/3.12/lib/python3.12/site-packages (from requests->webdriver-manager) (3.4.0)\n",
      "Requirement already satisfied: idna<4,>=2.5 in /Library/Frameworks/Python.framework/Versions/3.12/lib/python3.12/site-packages (from requests->webdriver-manager) (3.10)\n",
      "Requirement already satisfied: urllib3<3,>=1.21.1 in /Library/Frameworks/Python.framework/Versions/3.12/lib/python3.12/site-packages (from requests->webdriver-manager) (2.3.0)\n",
      "Requirement already satisfied: certifi>=2017.4.17 in /Users/putan/Library/Python/3.12/lib/python/site-packages (from requests->webdriver-manager) (2024.8.30)\n",
      "Downloading webdriver_manager-4.0.2-py2.py3-none-any.whl (27 kB)\n",
      "Downloading python_dotenv-1.0.1-py3-none-any.whl (19 kB)\n",
      "Installing collected packages: python-dotenv, webdriver-manager\n",
      "Successfully installed python-dotenv-1.0.1 webdriver-manager-4.0.2\n",
      "\n",
      "\u001b[1m[\u001b[0m\u001b[34;49mnotice\u001b[0m\u001b[1;39;49m]\u001b[0m\u001b[39;49m A new release of pip is available: \u001b[0m\u001b[31;49m24.2\u001b[0m\u001b[39;49m -> \u001b[0m\u001b[32;49m25.0.1\u001b[0m\n",
      "\u001b[1m[\u001b[0m\u001b[34;49mnotice\u001b[0m\u001b[1;39;49m]\u001b[0m\u001b[39;49m To update, run: \u001b[0m\u001b[32;49mpip3 install --upgrade pip\u001b[0m\n"
     ]
    }
   ],
   "source": [
    "# !pip3 install selenium\n",
    "!pip3 install webdriver-manager"
   ]
  },
  {
   "cell_type": "code",
   "execution_count": 7,
   "id": "dca5c832",
   "metadata": {},
   "outputs": [],
   "source": [
    "!chmod +x ./chromedriver/chromedriver.exe"
   ]
  },
  {
   "cell_type": "code",
   "execution_count": 9,
   "id": "initial_id",
   "metadata": {
    "ExecuteTime": {
     "end_time": "2024-05-23T13:09:05.991701Z",
     "start_time": "2024-05-23T12:26:43.561584Z"
    },
    "collapsed": true,
    "jupyter": {
     "outputs_hidden": true
    }
   },
   "outputs": [
    {
     "name": "stdout",
     "output_type": "stream",
     "text": [
      "No discount found for item 1 or timeout occurred\n",
      "No discount found for item 2 or timeout occurred\n",
      "No discount found for item 3 or timeout occurred\n",
      "No discount found for item 4 or timeout occurred\n",
      "No discount found for item 5 or timeout occurred\n",
      "No discount found for item 6 or timeout occurred\n",
      "No discount found for item 7 or timeout occurred\n",
      "No discount found for item 8 or timeout occurred\n",
      "No discount found for item 9 or timeout occurred\n",
      "No discount found for item 10 or timeout occurred\n",
      "No discount found for item 11 or timeout occurred\n",
      "No discount found for item 12 or timeout occurred\n",
      "No discount found for item 13 or timeout occurred\n",
      "No discount found for item 14 or timeout occurred\n",
      "No discount found for item 15 or timeout occurred\n",
      "No discount found for item 16 or timeout occurred\n",
      "No discount found for item 17 or timeout occurred\n",
      "No discount found for item 18 or timeout occurred\n",
      "No discount found for item 19 or timeout occurred\n",
      "No discount found for item 20 or timeout occurred\n",
      "No discount found for item 21 or timeout occurred\n",
      "No discount found for item 22 or timeout occurred\n",
      "No discount found for item 23 or timeout occurred\n",
      "No discount found for item 24 or timeout occurred\n",
      "No discount found for item 25 or timeout occurred\n",
      "No discount found for item 26 or timeout occurred\n",
      "No discount found for item 27 or timeout occurred\n",
      "No discount found for item 28 or timeout occurred\n",
      "No discount found for item 29 or timeout occurred\n",
      "No discount found for item 30 or timeout occurred\n",
      "No discount found for item 31 or timeout occurred\n",
      "No discount found for item 32 or timeout occurred\n",
      "No discount found for item 33 or timeout occurred\n",
      "No discount found for item 34 or timeout occurred\n",
      "No discount found for item 35 or timeout occurred\n",
      "No discount found for item 36 or timeout occurred\n",
      "No discount found for item 37 or timeout occurred\n",
      "No discount found for item 38 or timeout occurred\n",
      "No discount found for item 39 or timeout occurred\n",
      "No discount found for item 40 or timeout occurred\n",
      "No discount found for item 1 or timeout occurred\n",
      "No discount found for item 2 or timeout occurred\n",
      "No discount found for item 3 or timeout occurred\n",
      "No discount found for item 4 or timeout occurred\n",
      "No discount found for item 5 or timeout occurred\n",
      "No discount found for item 6 or timeout occurred\n",
      "No discount found for item 7 or timeout occurred\n",
      "No discount found for item 8 or timeout occurred\n",
      "No discount found for item 9 or timeout occurred\n",
      "No discount found for item 10 or timeout occurred\n",
      "No discount found for item 11 or timeout occurred\n",
      "No discount found for item 12 or timeout occurred\n",
      "No discount found for item 13 or timeout occurred\n",
      "No discount found for item 14 or timeout occurred\n",
      "No discount found for item 15 or timeout occurred\n",
      "No discount found for item 16 or timeout occurred\n",
      "No discount found for item 17 or timeout occurred\n",
      "No discount found for item 18 or timeout occurred\n",
      "No discount found for item 19 or timeout occurred\n",
      "No discount found for item 20 or timeout occurred\n",
      "No discount found for item 21 or timeout occurred\n",
      "No discount found for item 22 or timeout occurred\n",
      "No discount found for item 23 or timeout occurred\n",
      "No discount found for item 24 or timeout occurred\n",
      "No discount found for item 25 or timeout occurred\n",
      "No discount found for item 26 or timeout occurred\n",
      "No discount found for item 27 or timeout occurred\n",
      "No discount found for item 28 or timeout occurred\n",
      "No discount found for item 29 or timeout occurred\n",
      "No discount found for item 30 or timeout occurred\n",
      "No discount found for item 31 or timeout occurred\n",
      "No discount found for item 32 or timeout occurred\n",
      "No discount found for item 33 or timeout occurred\n",
      "No discount found for item 34 or timeout occurred\n",
      "No discount found for item 35 or timeout occurred\n",
      "No discount found for item 36 or timeout occurred\n",
      "No discount found for item 37 or timeout occurred\n",
      "No discount found for item 38 or timeout occurred\n",
      "No discount found for item 39 or timeout occurred\n",
      "No discount found for item 40 or timeout occurred\n",
      "No discount found for item 1 or timeout occurred\n",
      "No discount found for item 2 or timeout occurred\n",
      "No discount found for item 3 or timeout occurred\n",
      "No discount found for item 4 or timeout occurred\n",
      "No discount found for item 5 or timeout occurred\n",
      "No discount found for item 6 or timeout occurred\n",
      "No discount found for item 7 or timeout occurred\n",
      "No discount found for item 8 or timeout occurred\n",
      "No discount found for item 9 or timeout occurred\n",
      "No discount found for item 10 or timeout occurred\n",
      "No discount found for item 11 or timeout occurred\n",
      "No discount found for item 12 or timeout occurred\n",
      "No discount found for item 13 or timeout occurred\n",
      "No discount found for item 14 or timeout occurred\n",
      "No discount found for item 15 or timeout occurred\n",
      "No discount found for item 16 or timeout occurred\n",
      "No discount found for item 17 or timeout occurred\n",
      "No discount found for item 18 or timeout occurred\n",
      "No discount found for item 19 or timeout occurred\n",
      "No discount found for item 20 or timeout occurred\n",
      "No discount found for item 21 or timeout occurred\n",
      "No discount found for item 22 or timeout occurred\n",
      "No discount found for item 23 or timeout occurred\n",
      "No discount found for item 24 or timeout occurred\n",
      "No discount found for item 25 or timeout occurred\n",
      "No discount found for item 26 or timeout occurred\n",
      "No discount found for item 27 or timeout occurred\n",
      "No discount found for item 28 or timeout occurred\n",
      "No discount found for item 29 or timeout occurred\n",
      "No discount found for item 30 or timeout occurred\n",
      "No discount found for item 31 or timeout occurred\n",
      "No discount found for item 32 or timeout occurred\n",
      "No discount found for item 33 or timeout occurred\n",
      "No discount found for item 34 or timeout occurred\n",
      "No discount found for item 35 or timeout occurred\n",
      "No discount found for item 36 or timeout occurred\n",
      "No discount found for item 37 or timeout occurred\n",
      "No discount found for item 38 or timeout occurred\n",
      "No discount found for item 39 or timeout occurred\n",
      "No discount found for item 40 or timeout occurred\n",
      "No discount found for item 1 or timeout occurred\n",
      "No discount found for item 2 or timeout occurred\n",
      "No discount found for item 3 or timeout occurred\n",
      "No discount found for item 4 or timeout occurred\n",
      "No discount found for item 5 or timeout occurred\n",
      "No discount found for item 6 or timeout occurred\n",
      "No discount found for item 7 or timeout occurred\n",
      "No discount found for item 8 or timeout occurred\n",
      "No discount found for item 9 or timeout occurred\n",
      "No discount found for item 10 or timeout occurred\n",
      "No discount found for item 11 or timeout occurred\n",
      "No discount found for item 12 or timeout occurred\n",
      "No discount found for item 13 or timeout occurred\n",
      "No discount found for item 14 or timeout occurred\n",
      "No discount found for item 15 or timeout occurred\n",
      "No discount found for item 16 or timeout occurred\n",
      "No discount found for item 17 or timeout occurred\n",
      "No discount found for item 18 or timeout occurred\n",
      "No discount found for item 19 or timeout occurred\n",
      "No discount found for item 20 or timeout occurred\n",
      "No discount found for item 21 or timeout occurred\n",
      "No discount found for item 22 or timeout occurred\n",
      "No discount found for item 23 or timeout occurred\n",
      "No discount found for item 24 or timeout occurred\n",
      "No discount found for item 25 or timeout occurred\n",
      "No discount found for item 26 or timeout occurred\n",
      "No discount found for item 27 or timeout occurred\n",
      "No discount found for item 28 or timeout occurred\n",
      "No discount found for item 29 or timeout occurred\n",
      "No discount found for item 30 or timeout occurred\n",
      "No discount found for item 31 or timeout occurred\n",
      "No discount found for item 32 or timeout occurred\n",
      "No discount found for item 33 or timeout occurred\n",
      "No discount found for item 34 or timeout occurred\n",
      "No discount found for item 35 or timeout occurred\n",
      "No discount found for item 36 or timeout occurred\n",
      "No discount found for item 37 or timeout occurred\n",
      "No discount found for item 38 or timeout occurred\n",
      "No discount found for item 39 or timeout occurred\n",
      "No discount found for item 40 or timeout occurred\n",
      "No discount found for item 1 or timeout occurred\n",
      "No discount found for item 2 or timeout occurred\n",
      "No discount found for item 3 or timeout occurred\n",
      "No discount found for item 4 or timeout occurred\n",
      "No discount found for item 5 or timeout occurred\n",
      "No discount found for item 6 or timeout occurred\n",
      "No discount found for item 7 or timeout occurred\n",
      "No discount found for item 8 or timeout occurred\n",
      "No discount found for item 9 or timeout occurred\n",
      "No discount found for item 10 or timeout occurred\n",
      "No discount found for item 11 or timeout occurred\n",
      "No discount found for item 12 or timeout occurred\n",
      "No discount found for item 13 or timeout occurred\n",
      "No discount found for item 14 or timeout occurred\n",
      "No discount found for item 15 or timeout occurred\n",
      "No discount found for item 16 or timeout occurred\n",
      "No discount found for item 17 or timeout occurred\n",
      "No discount found for item 18 or timeout occurred\n",
      "No discount found for item 19 or timeout occurred\n",
      "No discount found for item 20 or timeout occurred\n",
      "No discount found for item 21 or timeout occurred\n",
      "No discount found for item 22 or timeout occurred\n",
      "No discount found for item 23 or timeout occurred\n",
      "No discount found for item 24 or timeout occurred\n",
      "No discount found for item 25 or timeout occurred\n",
      "No discount found for item 26 or timeout occurred\n",
      "No discount found for item 27 or timeout occurred\n",
      "No discount found for item 28 or timeout occurred\n",
      "No discount found for item 29 or timeout occurred\n",
      "No discount found for item 30 or timeout occurred\n",
      "No discount found for item 31 or timeout occurred\n",
      "No discount found for item 32 or timeout occurred\n",
      "No discount found for item 33 or timeout occurred\n",
      "No discount found for item 34 or timeout occurred\n",
      "No discount found for item 35 or timeout occurred\n",
      "No discount found for item 36 or timeout occurred\n",
      "No discount found for item 37 or timeout occurred\n",
      "No discount found for item 38 or timeout occurred\n",
      "No discount found for item 39 or timeout occurred\n",
      "No discount found for item 40 or timeout occurred\n",
      "No discount found for item 1 or timeout occurred\n",
      "No discount found for item 2 or timeout occurred\n",
      "No discount found for item 3 or timeout occurred\n",
      "No discount found for item 4 or timeout occurred\n",
      "No discount found for item 5 or timeout occurred\n",
      "No discount found for item 6 or timeout occurred\n",
      "No discount found for item 7 or timeout occurred\n",
      "No discount found for item 8 or timeout occurred\n",
      "No discount found for item 9 or timeout occurred\n",
      "No discount found for item 10 or timeout occurred\n",
      "No discount found for item 11 or timeout occurred\n",
      "No discount found for item 12 or timeout occurred\n",
      "No discount found for item 13 or timeout occurred\n",
      "No discount found for item 14 or timeout occurred\n",
      "No discount found for item 15 or timeout occurred\n",
      "No discount found for item 16 or timeout occurred\n",
      "No discount found for item 17 or timeout occurred\n",
      "No discount found for item 18 or timeout occurred\n",
      "No discount found for item 19 or timeout occurred\n",
      "No discount found for item 20 or timeout occurred\n",
      "No discount found for item 21 or timeout occurred\n",
      "No discount found for item 22 or timeout occurred\n",
      "No discount found for item 23 or timeout occurred\n",
      "No discount found for item 24 or timeout occurred\n",
      "No discount found for item 25 or timeout occurred\n",
      "No discount found for item 26 or timeout occurred\n",
      "No discount found for item 27 or timeout occurred\n",
      "No discount found for item 28 or timeout occurred\n",
      "No discount found for item 29 or timeout occurred\n",
      "No discount found for item 30 or timeout occurred\n",
      "No discount found for item 31 or timeout occurred\n",
      "No discount found for item 32 or timeout occurred\n",
      "No discount found for item 33 or timeout occurred\n",
      "No discount found for item 34 or timeout occurred\n",
      "No discount found for item 35 or timeout occurred\n",
      "No discount found for item 36 or timeout occurred\n",
      "No discount found for item 37 or timeout occurred\n",
      "No discount found for item 38 or timeout occurred\n",
      "No discount found for item 39 or timeout occurred\n",
      "No discount found for item 40 or timeout occurred\n",
      "No discount found for item 1 or timeout occurred\n",
      "No discount found for item 2 or timeout occurred\n",
      "No discount found for item 3 or timeout occurred\n",
      "No discount found for item 4 or timeout occurred\n",
      "No discount found for item 5 or timeout occurred\n",
      "No discount found for item 6 or timeout occurred\n",
      "No discount found for item 7 or timeout occurred\n",
      "No discount found for item 8 or timeout occurred\n",
      "No discount found for item 9 or timeout occurred\n",
      "No discount found for item 10 or timeout occurred\n",
      "No discount found for item 11 or timeout occurred\n",
      "No discount found for item 12 or timeout occurred\n",
      "No discount found for item 13 or timeout occurred\n",
      "No discount found for item 14 or timeout occurred\n",
      "No discount found for item 15 or timeout occurred\n",
      "No discount found for item 16 or timeout occurred\n",
      "No discount found for item 17 or timeout occurred\n",
      "No discount found for item 18 or timeout occurred\n",
      "No discount found for item 19 or timeout occurred\n",
      "No discount found for item 20 or timeout occurred\n",
      "No discount found for item 21 or timeout occurred\n",
      "No discount found for item 22 or timeout occurred\n",
      "No discount found for item 23 or timeout occurred\n",
      "No discount found for item 24 or timeout occurred\n",
      "No discount found for item 25 or timeout occurred\n",
      "No discount found for item 26 or timeout occurred\n",
      "No discount found for item 27 or timeout occurred\n",
      "No discount found for item 28 or timeout occurred\n",
      "No discount found for item 29 or timeout occurred\n",
      "No discount found for item 30 or timeout occurred\n",
      "No discount found for item 31 or timeout occurred\n",
      "No discount found for item 32 or timeout occurred\n",
      "No discount found for item 33 or timeout occurred\n",
      "No discount found for item 34 or timeout occurred\n",
      "No discount found for item 35 or timeout occurred\n",
      "No discount found for item 36 or timeout occurred\n",
      "No discount found for item 37 or timeout occurred\n",
      "No discount found for item 38 or timeout occurred\n",
      "No discount found for item 39 or timeout occurred\n",
      "No discount found for item 40 or timeout occurred\n",
      "No discount found for item 1 or timeout occurred\n",
      "No discount found for item 2 or timeout occurred\n",
      "No discount found for item 3 or timeout occurred\n",
      "No discount found for item 4 or timeout occurred\n",
      "No discount found for item 5 or timeout occurred\n",
      "No discount found for item 6 or timeout occurred\n",
      "No discount found for item 7 or timeout occurred\n",
      "No discount found for item 8 or timeout occurred\n",
      "No discount found for item 9 or timeout occurred\n",
      "No discount found for item 10 or timeout occurred\n",
      "No discount found for item 11 or timeout occurred\n",
      "No discount found for item 12 or timeout occurred\n",
      "No discount found for item 13 or timeout occurred\n",
      "No discount found for item 14 or timeout occurred\n",
      "No discount found for item 15 or timeout occurred\n",
      "No discount found for item 16 or timeout occurred\n",
      "No discount found for item 17 or timeout occurred\n",
      "No discount found for item 18 or timeout occurred\n",
      "No discount found for item 19 or timeout occurred\n",
      "No discount found for item 20 or timeout occurred\n",
      "No discount found for item 21 or timeout occurred\n",
      "No discount found for item 22 or timeout occurred\n",
      "No discount found for item 23 or timeout occurred\n",
      "No discount found for item 24 or timeout occurred\n",
      "No discount found for item 25 or timeout occurred\n",
      "No discount found for item 26 or timeout occurred\n",
      "No discount found for item 27 or timeout occurred\n",
      "No discount found for item 28 or timeout occurred\n",
      "No discount found for item 29 or timeout occurred\n",
      "No discount found for item 30 or timeout occurred\n",
      "No discount found for item 31 or timeout occurred\n",
      "No discount found for item 32 or timeout occurred\n",
      "No discount found for item 33 or timeout occurred\n",
      "No discount found for item 34 or timeout occurred\n",
      "No discount found for item 35 or timeout occurred\n",
      "No discount found for item 36 or timeout occurred\n",
      "No discount found for item 37 or timeout occurred\n",
      "No discount found for item 38 or timeout occurred\n",
      "No discount found for item 39 or timeout occurred\n",
      "No discount found for item 40 or timeout occurred\n",
      "No discount found for item 1 or timeout occurred\n",
      "No discount found for item 2 or timeout occurred\n",
      "No discount found for item 3 or timeout occurred\n",
      "No discount found for item 4 or timeout occurred\n",
      "No discount found for item 5 or timeout occurred\n",
      "No discount found for item 6 or timeout occurred\n",
      "No discount found for item 7 or timeout occurred\n",
      "No discount found for item 8 or timeout occurred\n",
      "No discount found for item 9 or timeout occurred\n",
      "No discount found for item 10 or timeout occurred\n",
      "No discount found for item 11 or timeout occurred\n",
      "No discount found for item 12 or timeout occurred\n",
      "No discount found for item 13 or timeout occurred\n",
      "No discount found for item 14 or timeout occurred\n",
      "No discount found for item 15 or timeout occurred\n",
      "No discount found for item 16 or timeout occurred\n",
      "No discount found for item 17 or timeout occurred\n",
      "No discount found for item 18 or timeout occurred\n",
      "No discount found for item 19 or timeout occurred\n",
      "No discount found for item 20 or timeout occurred\n",
      "No discount found for item 21 or timeout occurred\n",
      "No discount found for item 22 or timeout occurred\n",
      "No discount found for item 23 or timeout occurred\n",
      "No discount found for item 24 or timeout occurred\n",
      "No discount found for item 25 or timeout occurred\n",
      "No discount found for item 26 or timeout occurred\n",
      "No discount found for item 27 or timeout occurred\n",
      "No discount found for item 28 or timeout occurred\n",
      "No discount found for item 29 or timeout occurred\n",
      "No discount found for item 30 or timeout occurred\n",
      "No discount found for item 31 or timeout occurred\n",
      "No discount found for item 32 or timeout occurred\n",
      "No discount found for item 33 or timeout occurred\n",
      "No discount found for item 34 or timeout occurred\n",
      "No discount found for item 35 or timeout occurred\n",
      "No discount found for item 36 or timeout occurred\n",
      "No discount found for item 37 or timeout occurred\n",
      "No discount found for item 38 or timeout occurred\n",
      "No discount found for item 39 or timeout occurred\n",
      "No discount found for item 40 or timeout occurred\n",
      "No discount found for item 1 or timeout occurred\n",
      "No discount found for item 2 or timeout occurred\n",
      "No discount found for item 3 or timeout occurred\n",
      "No discount found for item 4 or timeout occurred\n",
      "No discount found for item 5 or timeout occurred\n",
      "No discount found for item 6 or timeout occurred\n",
      "No discount found for item 7 or timeout occurred\n",
      "No discount found for item 8 or timeout occurred\n",
      "No discount found for item 9 or timeout occurred\n",
      "No discount found for item 10 or timeout occurred\n",
      "No discount found for item 11 or timeout occurred\n",
      "No discount found for item 12 or timeout occurred\n",
      "No discount found for item 13 or timeout occurred\n",
      "No discount found for item 14 or timeout occurred\n",
      "No discount found for item 15 or timeout occurred\n",
      "No discount found for item 16 or timeout occurred\n",
      "No discount found for item 17 or timeout occurred\n",
      "No discount found for item 18 or timeout occurred\n",
      "No discount found for item 19 or timeout occurred\n",
      "No discount found for item 20 or timeout occurred\n",
      "No discount found for item 21 or timeout occurred\n",
      "No discount found for item 22 or timeout occurred\n",
      "No discount found for item 23 or timeout occurred\n",
      "No discount found for item 24 or timeout occurred\n",
      "No discount found for item 25 or timeout occurred\n",
      "No discount found for item 26 or timeout occurred\n",
      "No discount found for item 27 or timeout occurred\n",
      "No discount found for item 28 or timeout occurred\n",
      "No discount found for item 29 or timeout occurred\n",
      "No discount found for item 30 or timeout occurred\n",
      "No discount found for item 31 or timeout occurred\n",
      "No discount found for item 32 or timeout occurred\n",
      "No discount found for item 33 or timeout occurred\n",
      "No discount found for item 34 or timeout occurred\n",
      "No discount found for item 35 or timeout occurred\n",
      "No discount found for item 36 or timeout occurred\n",
      "No discount found for item 37 or timeout occurred\n",
      "No discount found for item 38 or timeout occurred\n",
      "No discount found for item 39 or timeout occurred\n",
      "No discount found for item 40 or timeout occurred\n",
      "No discount found for item 1 or timeout occurred\n",
      "No discount found for item 2 or timeout occurred\n",
      "No discount found for item 3 or timeout occurred\n",
      "No discount found for item 4 or timeout occurred\n",
      "No discount found for item 5 or timeout occurred\n",
      "No discount found for item 6 or timeout occurred\n",
      "No discount found for item 7 or timeout occurred\n",
      "No discount found for item 8 or timeout occurred\n",
      "No discount found for item 9 or timeout occurred\n",
      "No discount found for item 10 or timeout occurred\n",
      "No discount found for item 11 or timeout occurred\n",
      "No discount found for item 12 or timeout occurred\n",
      "No discount found for item 13 or timeout occurred\n",
      "No discount found for item 14 or timeout occurred\n",
      "No discount found for item 15 or timeout occurred\n",
      "No discount found for item 16 or timeout occurred\n",
      "No discount found for item 17 or timeout occurred\n",
      "No discount found for item 18 or timeout occurred\n",
      "No discount found for item 19 or timeout occurred\n",
      "No discount found for item 20 or timeout occurred\n",
      "No discount found for item 21 or timeout occurred\n",
      "No discount found for item 22 or timeout occurred\n",
      "No discount found for item 23 or timeout occurred\n",
      "No discount found for item 24 or timeout occurred\n",
      "No discount found for item 25 or timeout occurred\n",
      "No discount found for item 26 or timeout occurred\n",
      "No discount found for item 27 or timeout occurred\n",
      "No discount found for item 28 or timeout occurred\n",
      "No discount found for item 29 or timeout occurred\n",
      "No discount found for item 30 or timeout occurred\n",
      "No discount found for item 31 or timeout occurred\n",
      "No discount found for item 32 or timeout occurred\n",
      "No discount found for item 33 or timeout occurred\n",
      "No discount found for item 34 or timeout occurred\n",
      "No discount found for item 35 or timeout occurred\n",
      "No discount found for item 36 or timeout occurred\n",
      "No discount found for item 37 or timeout occurred\n",
      "No discount found for item 38 or timeout occurred\n",
      "No discount found for item 39 or timeout occurred\n",
      "No discount found for item 40 or timeout occurred\n",
      "No discount found for item 1 or timeout occurred\n",
      "No discount found for item 2 or timeout occurred\n",
      "No discount found for item 3 or timeout occurred\n",
      "No discount found for item 4 or timeout occurred\n",
      "No discount found for item 5 or timeout occurred\n",
      "No discount found for item 6 or timeout occurred\n",
      "No discount found for item 7 or timeout occurred\n",
      "No discount found for item 8 or timeout occurred\n",
      "No discount found for item 9 or timeout occurred\n",
      "No discount found for item 10 or timeout occurred\n",
      "No discount found for item 11 or timeout occurred\n",
      "No discount found for item 12 or timeout occurred\n",
      "No discount found for item 13 or timeout occurred\n",
      "No discount found for item 14 or timeout occurred\n",
      "No discount found for item 15 or timeout occurred\n",
      "No discount found for item 16 or timeout occurred\n",
      "No discount found for item 17 or timeout occurred\n",
      "No discount found for item 18 or timeout occurred\n",
      "No discount found for item 19 or timeout occurred\n",
      "No discount found for item 20 or timeout occurred\n",
      "No discount found for item 21 or timeout occurred\n",
      "No discount found for item 22 or timeout occurred\n",
      "No discount found for item 23 or timeout occurred\n",
      "No discount found for item 24 or timeout occurred\n",
      "No discount found for item 25 or timeout occurred\n",
      "No discount found for item 26 or timeout occurred\n",
      "No discount found for item 27 or timeout occurred\n",
      "No discount found for item 28 or timeout occurred\n",
      "No discount found for item 29 or timeout occurred\n",
      "No discount found for item 30 or timeout occurred\n",
      "No discount found for item 31 or timeout occurred\n",
      "No discount found for item 32 or timeout occurred\n",
      "No discount found for item 33 or timeout occurred\n",
      "No discount found for item 34 or timeout occurred\n",
      "No discount found for item 35 or timeout occurred\n",
      "No discount found for item 36 or timeout occurred\n",
      "No discount found for item 37 or timeout occurred\n",
      "No discount found for item 38 or timeout occurred\n",
      "No discount found for item 39 or timeout occurred\n",
      "No discount found for item 40 or timeout occurred\n",
      "<class 'pandas.core.frame.DataFrame'>\n",
      "RangeIndex: 480 entries, 0 to 479\n",
      "Data columns (total 7 columns):\n",
      " #   Column                 Non-Null Count  Dtype \n",
      "---  ------                 --------------  ----- \n",
      " 0   title                  480 non-null    object\n",
      " 1   price                  480 non-null    object\n",
      " 2   link_item              480 non-null    object\n",
      " 3   index_                 480 non-null    object\n",
      " 4   discount_idx           480 non-null    object\n",
      " 5   discount_percent_list  0 non-null      object\n",
      " 6   countReviews           480 non-null    object\n",
      "dtypes: object(7)\n",
      "memory usage: 26.4+ KB\n"
     ]
    }
   ],
   "source": [
    "from selenium import webdriver\n",
    "from selenium.webdriver.common.keys import Keys\n",
    "from selenium.webdriver.common.by import By\n",
    "from selenium.webdriver.support.ui import WebDriverWait\n",
    "from selenium.webdriver import ActionChains\n",
    "from webdriver_manager.chrome import ChromeDriverManager\n",
    "from selenium.webdriver.support import expected_conditions as EC\n",
    "from selenium.common.exceptions import TimeoutException\n",
    "from selenium.webdriver.chrome.service import Service\n",
    "from selenium.webdriver.chrome.options import Options\n",
    "from time import sleep\n",
    "import numpy as np\n",
    "import pandas as pd\n",
    "from selenium.common.exceptions import NoSuchElementException, ElementNotInteractableException\n",
    "\n",
    "# Set Chrome options\n",
    "chrome_options = Options()\n",
    "chrome_options.add_argument(\"--headless\")\n",
    "\n",
    "# Set path to chromedriver as a Service object\n",
    "webdriver_service = Service(ChromeDriverManager().install())\n",
    "\n",
    "# Declare browser\n",
    "driver = webdriver.Chrome(service=webdriver_service, options=chrome_options)\n",
    "\n",
    "# Crawl all the dataset\n",
    "page = 1\n",
    "df = pd.DataFrame()\n",
    "while page <= 101:\n",
    "    # Open browser\n",
    "    driver.get(f'https://www.lazada.vn/cac-loai-tai-nghe/?page={page}&spm=a2o4n.searchlistcategory.cate_1_5.1.180c25bcBWpu23')\n",
    "    sleep(2)\n",
    "\n",
    "    # Set up WebDriverWait\n",
    "    wait = WebDriverWait(driver, 4)\n",
    "\n",
    "    # Get link/title of each item\n",
    "    elements = driver.find_elements(By.CSS_SELECTOR, '.RfADt [href]')\n",
    "    title = [element.text for element in elements]\n",
    "    links = [element.get_attribute('href') for element in elements]\n",
    "\n",
    "    # Get price\n",
    "    element_price = driver.find_elements(By.CSS_SELECTOR, '.aBrP0')\n",
    "    prices = [element.text for element in element_price]\n",
    "\n",
    "    df1 = pd.DataFrame(list(zip(title, prices, links)), columns=['title', 'price', 'link_item'])\n",
    "    df1['index_'] = np.arange(1, len(df1) + 1)\n",
    "\n",
    "    discount_idx, discount_percent_list = [], []\n",
    "    if page == 1:\n",
    "        for i in range(1, len(title) + 1):  # Iterate through DataFrame rows\n",
    "            try:\n",
    "                # Use CSS selector to target discount element\n",
    "                discount_per = driver.find_element('xpath',\n",
    "                                                   '/html/body/div[3]/div/div[3]/div[1]/div/div[1]/div[2]/div[{}]/div/div/div[2]/div[4]/span'.format(i))\n",
    "                discount_percent_list.append(discount_per.text)\n",
    "                discount_idx.append(i)  # Adjust index for DataFrame row\n",
    "            except (TimeoutException, NoSuchElementException, ElementNotInteractableException):\n",
    "                print(f'No discount found for item {i} or timeout occurred')\n",
    "                discount_percent_list.append(np.nan)  # Add 'NA' for missing values\n",
    "                discount_idx.append(i)\n",
    "    else:\n",
    "        for i in range(1, len(title) + 1):  # Iterate through DataFrame rows\n",
    "            try:\n",
    "                # Use CSS selector to target discount element\n",
    "                discount_per = driver.find_element('xpath',\n",
    "                                                   '/html/body/div[3]/div/div[2]/div[1]/div/div[1]/div[2]/div[{}]/div/div/div[2]/div[4]/span'.format(i))\n",
    "                discount_percent_list.append(discount_per.text)\n",
    "                discount_idx.append(i)  # Adjust index for DataFrame row\n",
    "            except (TimeoutException, NoSuchElementException, ElementNotInteractableException):\n",
    "                print(f'No discount found for item {i} or timeout occurred')\n",
    "                discount_percent_list.append(np.nan)  # Add 'NA' for missing values\n",
    "                discount_idx.append(i)\n",
    "\n",
    "    df2 = pd.DataFrame(list(zip(discount_idx, discount_percent_list)), columns=['discount_idx', 'discount_percent_list'])\n",
    "    df3 = df1.merge(df2, how = 'left', left_on = 'index_', right_on = 'discount_idx')\n",
    "\n",
    "    # Get location/number of reviews\n",
    "    elements_countReview = driver.find_elements(By.CSS_SELECTOR, '._6uN7R')\n",
    "    countReviews = [element.text for element in elements_countReview]\n",
    "    df3['countReviews'] = countReviews\n",
    "\n",
    "    df = pd.concat([df, df3], ignore_index = True)\n",
    "    page += 1\n",
    "    \n",
    "df.info()"
   ]
  },
  {
   "cell_type": "code",
   "execution_count": 10,
   "id": "41b9499dbc4a666d",
   "metadata": {
    "ExecuteTime": {
     "end_time": "2024-05-23T17:43:46.646166Z",
     "start_time": "2024-05-23T17:43:46.578412Z"
    }
   },
   "outputs": [
    {
     "data": {
      "text/html": [
       "<div>\n",
       "<style scoped>\n",
       "    .dataframe tbody tr th:only-of-type {\n",
       "        vertical-align: middle;\n",
       "    }\n",
       "\n",
       "    .dataframe tbody tr th {\n",
       "        vertical-align: top;\n",
       "    }\n",
       "\n",
       "    .dataframe thead th {\n",
       "        text-align: right;\n",
       "    }\n",
       "</style>\n",
       "<table border=\"1\" class=\"dataframe\">\n",
       "  <thead>\n",
       "    <tr style=\"text-align: right;\">\n",
       "      <th></th>\n",
       "      <th>title</th>\n",
       "      <th>price</th>\n",
       "      <th>link_item</th>\n",
       "      <th>index_</th>\n",
       "      <th>discount_idx</th>\n",
       "      <th>discount_percent_list</th>\n",
       "      <th>countReviews</th>\n",
       "    </tr>\n",
       "  </thead>\n",
       "  <tbody>\n",
       "    <tr>\n",
       "      <th>0</th>\n",
       "      <td>Bluetooth Earphone Bluetooth Headset Sports He...</td>\n",
       "      <td>414.669 ₫</td>\n",
       "      <td>https://www.lazada.vn/products/bluetooth-earph...</td>\n",
       "      <td>1</td>\n",
       "      <td>1</td>\n",
       "      <td>NaN</td>\n",
       "      <td>China</td>\n",
       "    </tr>\n",
       "    <tr>\n",
       "      <th>1</th>\n",
       "      <td>Bnlight Tai nghe trẻ em khủng long dễ thương T...</td>\n",
       "      <td>161.000 ₫</td>\n",
       "      <td>https://www.lazada.vn/products/bnlight-tai-ngh...</td>\n",
       "      <td>2</td>\n",
       "      <td>2</td>\n",
       "      <td>NaN</td>\n",
       "      <td>Nước ngoài</td>\n",
       "    </tr>\n",
       "    <tr>\n",
       "      <th>2</th>\n",
       "      <td>(MEBR) Replacement Gaming Headphone Omnidirect...</td>\n",
       "      <td>167.000 ₫</td>\n",
       "      <td>https://www.lazada.vn/products/mebr-replacemen...</td>\n",
       "      <td>3</td>\n",
       "      <td>3</td>\n",
       "      <td>NaN</td>\n",
       "      <td>China</td>\n",
       "    </tr>\n",
       "    <tr>\n",
       "      <th>3</th>\n",
       "      <td>(MEBR) Replacement Gaming Headphone Omnidirect...</td>\n",
       "      <td>167.000 ₫</td>\n",
       "      <td>https://www.lazada.vn/products/mebr-replacemen...</td>\n",
       "      <td>4</td>\n",
       "      <td>4</td>\n",
       "      <td>NaN</td>\n",
       "      <td>China</td>\n",
       "    </tr>\n",
       "    <tr>\n",
       "      <th>4</th>\n",
       "      <td>K75 Lavalier Bluetooth 5.4 Tai Nghe Kinh Doanh...</td>\n",
       "      <td>294.700 ₫</td>\n",
       "      <td>https://www.lazada.vn/products/k75-lavalier-bl...</td>\n",
       "      <td>5</td>\n",
       "      <td>5</td>\n",
       "      <td>NaN</td>\n",
       "      <td>210 Đã bán\\nChina</td>\n",
       "    </tr>\n",
       "  </tbody>\n",
       "</table>\n",
       "</div>"
      ],
      "text/plain": [
       "                                               title      price  \\\n",
       "0  Bluetooth Earphone Bluetooth Headset Sports He...  414.669 ₫   \n",
       "1  Bnlight Tai nghe trẻ em khủng long dễ thương T...  161.000 ₫   \n",
       "2  (MEBR) Replacement Gaming Headphone Omnidirect...  167.000 ₫   \n",
       "3  (MEBR) Replacement Gaming Headphone Omnidirect...  167.000 ₫   \n",
       "4  K75 Lavalier Bluetooth 5.4 Tai Nghe Kinh Doanh...  294.700 ₫   \n",
       "\n",
       "                                           link_item index_ discount_idx  \\\n",
       "0  https://www.lazada.vn/products/bluetooth-earph...      1            1   \n",
       "1  https://www.lazada.vn/products/bnlight-tai-ngh...      2            2   \n",
       "2  https://www.lazada.vn/products/mebr-replacemen...      3            3   \n",
       "3  https://www.lazada.vn/products/mebr-replacemen...      4            4   \n",
       "4  https://www.lazada.vn/products/k75-lavalier-bl...      5            5   \n",
       "\n",
       "  discount_percent_list       countReviews  \n",
       "0                   NaN              China  \n",
       "1                   NaN         Nước ngoài  \n",
       "2                   NaN              China  \n",
       "3                   NaN              China  \n",
       "4                   NaN  210 Đã bán\\nChina  "
      ]
     },
     "execution_count": 10,
     "metadata": {},
     "output_type": "execute_result"
    }
   ],
   "source": [
    "df.head()"
   ]
  },
  {
   "cell_type": "markdown",
   "id": "add82af9eb5318fe",
   "metadata": {},
   "source": [
    "## *Data Cleaning*"
   ]
  },
  {
   "cell_type": "markdown",
   "id": "bff801c178668bcc",
   "metadata": {},
   "source": []
  },
  {
   "cell_type": "code",
   "execution_count": 11,
   "id": "3a195995e0a1fe98",
   "metadata": {
    "ExecuteTime": {
     "end_time": "2024-05-23T17:44:21.865699Z",
     "start_time": "2024-05-23T17:44:21.846163Z"
    }
   },
   "outputs": [
    {
     "name": "stdout",
     "output_type": "stream",
     "text": [
      "<class 'pandas.core.frame.DataFrame'>\n",
      "RangeIndex: 480 entries, 0 to 479\n",
      "Data columns (total 7 columns):\n",
      " #   Column                 Non-Null Count  Dtype \n",
      "---  ------                 --------------  ----- \n",
      " 0   title                  480 non-null    object\n",
      " 1   price                  480 non-null    object\n",
      " 2   link_item              480 non-null    object\n",
      " 3   index_                 480 non-null    object\n",
      " 4   discount_idx           480 non-null    object\n",
      " 5   discount_percent_list  0 non-null      object\n",
      " 6   countReviews           480 non-null    object\n",
      "dtypes: object(7)\n",
      "memory usage: 26.4+ KB\n"
     ]
    }
   ],
   "source": [
    "df.info()"
   ]
  },
  {
   "cell_type": "code",
   "execution_count": 12,
   "id": "97bdcc7432635739",
   "metadata": {
    "ExecuteTime": {
     "end_time": "2024-05-23T17:45:57.141316Z",
     "start_time": "2024-05-23T17:45:57.110774Z"
    }
   },
   "outputs": [
    {
     "name": "stdout",
     "output_type": "stream",
     "text": [
      "<class 'pandas.core.frame.DataFrame'>\n",
      "RangeIndex: 480 entries, 0 to 479\n",
      "Data columns (total 7 columns):\n",
      " #   Column                 Non-Null Count  Dtype \n",
      "---  ------                 --------------  ----- \n",
      " 0   title                  480 non-null    object\n",
      " 1   price                  480 non-null    int64 \n",
      " 2   link_item              480 non-null    object\n",
      " 3   index_                 480 non-null    object\n",
      " 4   discount_idx           480 non-null    object\n",
      " 5   discount_percent_list  0 non-null      object\n",
      " 6   countReviews           480 non-null    object\n",
      "dtypes: int64(1), object(6)\n",
      "memory usage: 26.4+ KB\n"
     ]
    }
   ],
   "source": [
    "df['price'] = df['price'].str.replace('.', '')\n",
    "df['price'] = df['price'].str[:-2]\n",
    "df['price'] = df['price'].astype(int)\n",
    "df.info()"
   ]
  },
  {
   "cell_type": "code",
   "execution_count": 13,
   "id": "5ed788e20bd6d110",
   "metadata": {
    "ExecuteTime": {
     "end_time": "2024-05-23T17:46:42.329616Z",
     "start_time": "2024-05-23T17:46:42.305834Z"
    }
   },
   "outputs": [],
   "source": [
    "df = df.drop(['index_', 'discount_idx'], axis = 1)"
   ]
  },
  {
   "cell_type": "code",
   "execution_count": 14,
   "id": "605e6210a4cb54bd",
   "metadata": {
    "ExecuteTime": {
     "end_time": "2024-05-23T17:48:02.957217Z",
     "start_time": "2024-05-23T17:48:02.925776Z"
    }
   },
   "outputs": [
    {
     "data": {
      "text/html": [
       "<div>\n",
       "<style scoped>\n",
       "    .dataframe tbody tr th:only-of-type {\n",
       "        vertical-align: middle;\n",
       "    }\n",
       "\n",
       "    .dataframe tbody tr th {\n",
       "        vertical-align: top;\n",
       "    }\n",
       "\n",
       "    .dataframe thead th {\n",
       "        text-align: right;\n",
       "    }\n",
       "</style>\n",
       "<table border=\"1\" class=\"dataframe\">\n",
       "  <thead>\n",
       "    <tr style=\"text-align: right;\">\n",
       "      <th></th>\n",
       "      <th>title</th>\n",
       "      <th>price</th>\n",
       "      <th>link_item</th>\n",
       "      <th>discount_percent_list</th>\n",
       "      <th>countReviews</th>\n",
       "    </tr>\n",
       "  </thead>\n",
       "  <tbody>\n",
       "    <tr>\n",
       "      <th>0</th>\n",
       "      <td>Bluetooth Earphone Bluetooth Headset Sports He...</td>\n",
       "      <td>414669</td>\n",
       "      <td>https://www.lazada.vn/products/bluetooth-earph...</td>\n",
       "      <td>NaN</td>\n",
       "      <td>China</td>\n",
       "    </tr>\n",
       "    <tr>\n",
       "      <th>1</th>\n",
       "      <td>Bnlight Tai nghe trẻ em khủng long dễ thương T...</td>\n",
       "      <td>161000</td>\n",
       "      <td>https://www.lazada.vn/products/bnlight-tai-ngh...</td>\n",
       "      <td>NaN</td>\n",
       "      <td>Nước ngoài</td>\n",
       "    </tr>\n",
       "    <tr>\n",
       "      <th>2</th>\n",
       "      <td>(MEBR) Replacement Gaming Headphone Omnidirect...</td>\n",
       "      <td>167000</td>\n",
       "      <td>https://www.lazada.vn/products/mebr-replacemen...</td>\n",
       "      <td>NaN</td>\n",
       "      <td>China</td>\n",
       "    </tr>\n",
       "    <tr>\n",
       "      <th>3</th>\n",
       "      <td>(MEBR) Replacement Gaming Headphone Omnidirect...</td>\n",
       "      <td>167000</td>\n",
       "      <td>https://www.lazada.vn/products/mebr-replacemen...</td>\n",
       "      <td>NaN</td>\n",
       "      <td>China</td>\n",
       "    </tr>\n",
       "    <tr>\n",
       "      <th>4</th>\n",
       "      <td>K75 Lavalier Bluetooth 5.4 Tai Nghe Kinh Doanh...</td>\n",
       "      <td>294700</td>\n",
       "      <td>https://www.lazada.vn/products/k75-lavalier-bl...</td>\n",
       "      <td>NaN</td>\n",
       "      <td>210 Đã bán\\nChina</td>\n",
       "    </tr>\n",
       "  </tbody>\n",
       "</table>\n",
       "</div>"
      ],
      "text/plain": [
       "                                               title   price  \\\n",
       "0  Bluetooth Earphone Bluetooth Headset Sports He...  414669   \n",
       "1  Bnlight Tai nghe trẻ em khủng long dễ thương T...  161000   \n",
       "2  (MEBR) Replacement Gaming Headphone Omnidirect...  167000   \n",
       "3  (MEBR) Replacement Gaming Headphone Omnidirect...  167000   \n",
       "4  K75 Lavalier Bluetooth 5.4 Tai Nghe Kinh Doanh...  294700   \n",
       "\n",
       "                                           link_item  discount_percent_list  \\\n",
       "0  https://www.lazada.vn/products/bluetooth-earph...                    NaN   \n",
       "1  https://www.lazada.vn/products/bnlight-tai-ngh...                    NaN   \n",
       "2  https://www.lazada.vn/products/mebr-replacemen...                    NaN   \n",
       "3  https://www.lazada.vn/products/mebr-replacemen...                    NaN   \n",
       "4  https://www.lazada.vn/products/k75-lavalier-bl...                    NaN   \n",
       "\n",
       "        countReviews  \n",
       "0              China  \n",
       "1         Nước ngoài  \n",
       "2              China  \n",
       "3              China  \n",
       "4  210 Đã bán\\nChina  "
      ]
     },
     "execution_count": 14,
     "metadata": {},
     "output_type": "execute_result"
    }
   ],
   "source": [
    "df['discount_percent_list'] = df['discount_percent_list'].str[:-5]\n",
    "df['discount_percent_list'] = df['discount_percent_list'].astype(float) / 100\n",
    "df.head()"
   ]
  },
  {
   "cell_type": "code",
   "execution_count": 15,
   "id": "caaeb7e4562826c8",
   "metadata": {
    "ExecuteTime": {
     "end_time": "2024-05-24T14:14:52.103184Z",
     "start_time": "2024-05-24T14:14:52.047084Z"
    }
   },
   "outputs": [
    {
     "data": {
      "text/html": [
       "<div>\n",
       "<style scoped>\n",
       "    .dataframe tbody tr th:only-of-type {\n",
       "        vertical-align: middle;\n",
       "    }\n",
       "\n",
       "    .dataframe tbody tr th {\n",
       "        vertical-align: top;\n",
       "    }\n",
       "\n",
       "    .dataframe thead th {\n",
       "        text-align: right;\n",
       "    }\n",
       "</style>\n",
       "<table border=\"1\" class=\"dataframe\">\n",
       "  <thead>\n",
       "    <tr style=\"text-align: right;\">\n",
       "      <th></th>\n",
       "      <th>title</th>\n",
       "      <th>price</th>\n",
       "      <th>link_item</th>\n",
       "      <th>discount_percent_list</th>\n",
       "      <th>countReviews</th>\n",
       "      <th>location_of_product</th>\n",
       "      <th>quantity_sold</th>\n",
       "      <th>review_count</th>\n",
       "    </tr>\n",
       "  </thead>\n",
       "  <tbody>\n",
       "    <tr>\n",
       "      <th>0</th>\n",
       "      <td>Bluetooth Earphone Bluetooth Headset Sports He...</td>\n",
       "      <td>414669</td>\n",
       "      <td>https://www.lazada.vn/products/bluetooth-earph...</td>\n",
       "      <td>NaN</td>\n",
       "      <td>China</td>\n",
       "      <td>China</td>\n",
       "      <td>NaN</td>\n",
       "      <td>NaN</td>\n",
       "    </tr>\n",
       "    <tr>\n",
       "      <th>1</th>\n",
       "      <td>Bnlight Tai nghe trẻ em khủng long dễ thương T...</td>\n",
       "      <td>161000</td>\n",
       "      <td>https://www.lazada.vn/products/bnlight-tai-ngh...</td>\n",
       "      <td>NaN</td>\n",
       "      <td>Nước ngoài</td>\n",
       "      <td>Nước ngoài</td>\n",
       "      <td>NaN</td>\n",
       "      <td>NaN</td>\n",
       "    </tr>\n",
       "    <tr>\n",
       "      <th>2</th>\n",
       "      <td>(MEBR) Replacement Gaming Headphone Omnidirect...</td>\n",
       "      <td>167000</td>\n",
       "      <td>https://www.lazada.vn/products/mebr-replacemen...</td>\n",
       "      <td>NaN</td>\n",
       "      <td>China</td>\n",
       "      <td>China</td>\n",
       "      <td>NaN</td>\n",
       "      <td>NaN</td>\n",
       "    </tr>\n",
       "    <tr>\n",
       "      <th>3</th>\n",
       "      <td>(MEBR) Replacement Gaming Headphone Omnidirect...</td>\n",
       "      <td>167000</td>\n",
       "      <td>https://www.lazada.vn/products/mebr-replacemen...</td>\n",
       "      <td>NaN</td>\n",
       "      <td>China</td>\n",
       "      <td>China</td>\n",
       "      <td>NaN</td>\n",
       "      <td>NaN</td>\n",
       "    </tr>\n",
       "    <tr>\n",
       "      <th>4</th>\n",
       "      <td>K75 Lavalier Bluetooth 5.4 Tai Nghe Kinh Doanh...</td>\n",
       "      <td>294700</td>\n",
       "      <td>https://www.lazada.vn/products/k75-lavalier-bl...</td>\n",
       "      <td>NaN</td>\n",
       "      <td>210 Đã bán\\nChina</td>\n",
       "      <td>China</td>\n",
       "      <td>210 Đã bán</td>\n",
       "      <td>NaN</td>\n",
       "    </tr>\n",
       "    <tr>\n",
       "      <th>...</th>\n",
       "      <td>...</td>\n",
       "      <td>...</td>\n",
       "      <td>...</td>\n",
       "      <td>...</td>\n",
       "      <td>...</td>\n",
       "      <td>...</td>\n",
       "      <td>...</td>\n",
       "      <td>...</td>\n",
       "    </tr>\n",
       "    <tr>\n",
       "      <th>475</th>\n",
       "      <td>Dây Đeo Đầu Bluetooth Không Dây Đàn Hồi Mặt Nạ...</td>\n",
       "      <td>136000</td>\n",
       "      <td>https://www.lazada.vn/products/day-deo-dau-blu...</td>\n",
       "      <td>NaN</td>\n",
       "      <td>China</td>\n",
       "      <td>China</td>\n",
       "      <td>NaN</td>\n",
       "      <td>NaN</td>\n",
       "    </tr>\n",
       "    <tr>\n",
       "      <th>476</th>\n",
       "      <td>Tai nghe mèo dễ thương có đèn LED Tai nghe Blu...</td>\n",
       "      <td>97000</td>\n",
       "      <td>https://www.lazada.vn/products/tai-nghe-meo-de...</td>\n",
       "      <td>NaN</td>\n",
       "      <td>China</td>\n",
       "      <td>China</td>\n",
       "      <td>NaN</td>\n",
       "      <td>NaN</td>\n",
       "    </tr>\n",
       "    <tr>\n",
       "      <th>477</th>\n",
       "      <td>Tai Nghe Nhét Tai Nghe Nhét Tai OWS Cao Cấp T3...</td>\n",
       "      <td>34000</td>\n",
       "      <td>https://www.lazada.vn/products/tai-nghe-nhet-t...</td>\n",
       "      <td>NaN</td>\n",
       "      <td>5 Đã bán\\n(2)\\nChina</td>\n",
       "      <td>China</td>\n",
       "      <td>5 Đã bán</td>\n",
       "      <td>2</td>\n",
       "    </tr>\n",
       "    <tr>\n",
       "      <th>478</th>\n",
       "      <td>WENSH Cho PC Có thể điều chỉnh Stereo HIFI Âm ...</td>\n",
       "      <td>98075</td>\n",
       "      <td>https://www.lazada.vn/products/wensh-cho-pc-co...</td>\n",
       "      <td>NaN</td>\n",
       "      <td>China</td>\n",
       "      <td>China</td>\n",
       "      <td>NaN</td>\n",
       "      <td>NaN</td>\n",
       "    </tr>\n",
       "    <tr>\n",
       "      <th>479</th>\n",
       "      <td>WENSH Có dây Supper Bass Trong tai Âm thanh nổ...</td>\n",
       "      <td>57000</td>\n",
       "      <td>https://www.lazada.vn/products/wensh-co-day-su...</td>\n",
       "      <td>NaN</td>\n",
       "      <td>China</td>\n",
       "      <td>China</td>\n",
       "      <td>NaN</td>\n",
       "      <td>NaN</td>\n",
       "    </tr>\n",
       "  </tbody>\n",
       "</table>\n",
       "<p>480 rows × 8 columns</p>\n",
       "</div>"
      ],
      "text/plain": [
       "                                                 title   price  \\\n",
       "0    Bluetooth Earphone Bluetooth Headset Sports He...  414669   \n",
       "1    Bnlight Tai nghe trẻ em khủng long dễ thương T...  161000   \n",
       "2    (MEBR) Replacement Gaming Headphone Omnidirect...  167000   \n",
       "3    (MEBR) Replacement Gaming Headphone Omnidirect...  167000   \n",
       "4    K75 Lavalier Bluetooth 5.4 Tai Nghe Kinh Doanh...  294700   \n",
       "..                                                 ...     ...   \n",
       "475  Dây Đeo Đầu Bluetooth Không Dây Đàn Hồi Mặt Nạ...  136000   \n",
       "476  Tai nghe mèo dễ thương có đèn LED Tai nghe Blu...   97000   \n",
       "477  Tai Nghe Nhét Tai Nghe Nhét Tai OWS Cao Cấp T3...   34000   \n",
       "478  WENSH Cho PC Có thể điều chỉnh Stereo HIFI Âm ...   98075   \n",
       "479  WENSH Có dây Supper Bass Trong tai Âm thanh nổ...   57000   \n",
       "\n",
       "                                             link_item  discount_percent_list  \\\n",
       "0    https://www.lazada.vn/products/bluetooth-earph...                    NaN   \n",
       "1    https://www.lazada.vn/products/bnlight-tai-ngh...                    NaN   \n",
       "2    https://www.lazada.vn/products/mebr-replacemen...                    NaN   \n",
       "3    https://www.lazada.vn/products/mebr-replacemen...                    NaN   \n",
       "4    https://www.lazada.vn/products/k75-lavalier-bl...                    NaN   \n",
       "..                                                 ...                    ...   \n",
       "475  https://www.lazada.vn/products/day-deo-dau-blu...                    NaN   \n",
       "476  https://www.lazada.vn/products/tai-nghe-meo-de...                    NaN   \n",
       "477  https://www.lazada.vn/products/tai-nghe-nhet-t...                    NaN   \n",
       "478  https://www.lazada.vn/products/wensh-cho-pc-co...                    NaN   \n",
       "479  https://www.lazada.vn/products/wensh-co-day-su...                    NaN   \n",
       "\n",
       "             countReviews location_of_product quantity_sold review_count  \n",
       "0                   China               China           NaN          NaN  \n",
       "1              Nước ngoài          Nước ngoài           NaN          NaN  \n",
       "2                   China               China           NaN          NaN  \n",
       "3                   China               China           NaN          NaN  \n",
       "4       210 Đã bán\\nChina               China    210 Đã bán          NaN  \n",
       "..                    ...                 ...           ...          ...  \n",
       "475                 China               China           NaN          NaN  \n",
       "476                 China               China           NaN          NaN  \n",
       "477  5 Đã bán\\n(2)\\nChina               China      5 Đã bán            2  \n",
       "478                 China               China           NaN          NaN  \n",
       "479                 China               China           NaN          NaN  \n",
       "\n",
       "[480 rows x 8 columns]"
      ]
     },
     "execution_count": 15,
     "metadata": {},
     "output_type": "execute_result"
    }
   ],
   "source": [
    "import re\n",
    "\n",
    "# Tạo cột \"location_of_product\"\n",
    "def extract_location(x):\n",
    "    if '\\n' in x:\n",
    "        return x.split('\\n')[-1]\n",
    "    elif re.match(\"^[a-zA-Z]*$\", x):\n",
    "        return x\n",
    "    elif 'Đã bán' in x or re.search(r'\\((.*?)\\)', x):\n",
    "        return np.nan\n",
    "    else:\n",
    "        return x\n",
    "\n",
    "df['location_of_product'] = df['countReviews'].apply(extract_location)\n",
    "\n",
    "# Tạo cột \"quantity_sold\"\n",
    "def extract_quantity(x):\n",
    "    if 'Đã bán' in x.split('\\n')[0]:\n",
    "        return x.split('\\n')[0]\n",
    "    elif 'Đã bán' in x and '\\n' not in x:\n",
    "        return x\n",
    "    else:\n",
    "        return np.nan\n",
    "\n",
    "df['quantity_sold'] = df['countReviews'].apply(extract_quantity)\n",
    "\n",
    "# Tạo cột \"review_count\"\n",
    "def extract_review(x):\n",
    "    if re.search(r'\\((.*?)\\)', x):\n",
    "        return re.search(r'\\((.*?)\\)', x).group(1)\n",
    "    elif re.search(r'\\((.*?)\\)', x) and '\\n' not in x:\n",
    "        return x\n",
    "    else:\n",
    "        return np.nan\n",
    "\n",
    "df['review_count'] = df['countReviews'].apply(extract_review)\n",
    "\n",
    "df"
   ]
  },
  {
   "cell_type": "code",
   "execution_count": 16,
   "id": "b4fb1692c54729e4",
   "metadata": {
    "ExecuteTime": {
     "end_time": "2024-05-24T14:22:04.453380Z",
     "start_time": "2024-05-24T14:22:04.435140Z"
    }
   },
   "outputs": [
    {
     "name": "stdout",
     "output_type": "stream",
     "text": [
      "<class 'pandas.core.frame.DataFrame'>\n",
      "RangeIndex: 480 entries, 0 to 479\n",
      "Data columns (total 8 columns):\n",
      " #   Column                 Non-Null Count  Dtype  \n",
      "---  ------                 --------------  -----  \n",
      " 0   title                  480 non-null    object \n",
      " 1   price                  480 non-null    int64  \n",
      " 2   link_item              480 non-null    object \n",
      " 3   discount_percent_list  0 non-null      float64\n",
      " 4   countReviews           480 non-null    object \n",
      " 5   location_of_product    480 non-null    object \n",
      " 6   quantity_sold          103 non-null    object \n",
      " 7   review_count           14 non-null     object \n",
      "dtypes: float64(1), int64(1), object(6)\n",
      "memory usage: 30.1+ KB\n"
     ]
    }
   ],
   "source": [
    "df.info()"
   ]
  },
  {
   "cell_type": "code",
   "execution_count": 18,
   "id": "8db79bcd",
   "metadata": {},
   "outputs": [
    {
     "name": "stdout",
     "output_type": "stream",
     "text": [
      "Collecting seaborn\n",
      "  Downloading seaborn-0.13.2-py3-none-any.whl.metadata (5.4 kB)\n",
      "Requirement already satisfied: numpy!=1.24.0,>=1.20 in /Library/Frameworks/Python.framework/Versions/3.12/lib/python3.12/site-packages (from seaborn) (2.2.0)\n",
      "Requirement already satisfied: pandas>=1.2 in /Library/Frameworks/Python.framework/Versions/3.12/lib/python3.12/site-packages (from seaborn) (2.2.3)\n",
      "Requirement already satisfied: matplotlib!=3.6.1,>=3.4 in /Library/Frameworks/Python.framework/Versions/3.12/lib/python3.12/site-packages (from seaborn) (3.9.3)\n",
      "Requirement already satisfied: contourpy>=1.0.1 in /Library/Frameworks/Python.framework/Versions/3.12/lib/python3.12/site-packages (from matplotlib!=3.6.1,>=3.4->seaborn) (1.3.1)\n",
      "Requirement already satisfied: cycler>=0.10 in /Library/Frameworks/Python.framework/Versions/3.12/lib/python3.12/site-packages (from matplotlib!=3.6.1,>=3.4->seaborn) (0.12.1)\n",
      "Requirement already satisfied: fonttools>=4.22.0 in /Library/Frameworks/Python.framework/Versions/3.12/lib/python3.12/site-packages (from matplotlib!=3.6.1,>=3.4->seaborn) (4.55.2)\n",
      "Requirement already satisfied: kiwisolver>=1.3.1 in /Library/Frameworks/Python.framework/Versions/3.12/lib/python3.12/site-packages (from matplotlib!=3.6.1,>=3.4->seaborn) (1.4.7)\n",
      "Requirement already satisfied: packaging>=20.0 in /Users/putan/Library/Python/3.12/lib/python/site-packages (from matplotlib!=3.6.1,>=3.4->seaborn) (24.2)\n",
      "Requirement already satisfied: pillow>=8 in /Library/Frameworks/Python.framework/Versions/3.12/lib/python3.12/site-packages (from matplotlib!=3.6.1,>=3.4->seaborn) (11.0.0)\n",
      "Requirement already satisfied: pyparsing>=2.3.1 in /Library/Frameworks/Python.framework/Versions/3.12/lib/python3.12/site-packages (from matplotlib!=3.6.1,>=3.4->seaborn) (3.2.0)\n",
      "Requirement already satisfied: python-dateutil>=2.7 in /Library/Frameworks/Python.framework/Versions/3.12/lib/python3.12/site-packages (from matplotlib!=3.6.1,>=3.4->seaborn) (2.9.0.post0)\n",
      "Requirement already satisfied: pytz>=2020.1 in /Library/Frameworks/Python.framework/Versions/3.12/lib/python3.12/site-packages (from pandas>=1.2->seaborn) (2024.2)\n",
      "Requirement already satisfied: tzdata>=2022.7 in /Library/Frameworks/Python.framework/Versions/3.12/lib/python3.12/site-packages (from pandas>=1.2->seaborn) (2024.2)\n",
      "Requirement already satisfied: six>=1.5 in /Library/Frameworks/Python.framework/Versions/3.12/lib/python3.12/site-packages (from python-dateutil>=2.7->matplotlib!=3.6.1,>=3.4->seaborn) (1.17.0)\n",
      "Downloading seaborn-0.13.2-py3-none-any.whl (294 kB)\n",
      "Installing collected packages: seaborn\n",
      "Successfully installed seaborn-0.13.2\n",
      "\n",
      "\u001b[1m[\u001b[0m\u001b[34;49mnotice\u001b[0m\u001b[1;39;49m]\u001b[0m\u001b[39;49m A new release of pip is available: \u001b[0m\u001b[31;49m24.2\u001b[0m\u001b[39;49m -> \u001b[0m\u001b[32;49m25.0.1\u001b[0m\n",
      "\u001b[1m[\u001b[0m\u001b[34;49mnotice\u001b[0m\u001b[1;39;49m]\u001b[0m\u001b[39;49m To update, run: \u001b[0m\u001b[32;49mpip3 install --upgrade pip\u001b[0m\n"
     ]
    }
   ],
   "source": [
    "!pip3 install seaborn"
   ]
  },
  {
   "cell_type": "code",
   "execution_count": null,
   "id": "7ce1021ee531406d",
   "metadata": {
    "ExecuteTime": {
     "end_time": "2024-05-24T15:30:23.311996Z",
     "start_time": "2024-05-24T15:30:22.866921Z"
    }
   },
   "outputs": [],
   "source": [
    "# Clean column discount_percent_list\n",
    "import seaborn as sns\n",
    "import matplotlib.pyplot as plt\n",
    "import warnings\n",
    "warnings.filterwarnings('ignore')\n",
    "%matplotlib inline \n",
    "sns.set_style('whitegrid')\n",
    "\n",
    "fig, ax = plt.subplots(2, 1, figsize = (10, 8))\n",
    "sns.boxplot(df['discount_percent_list'], ax = ax[0], color = 'green')\n",
    "sns.distplot(df['discount_percent_list'], ax = ax[1], color = 'green')"
   ]
  },
  {
   "cell_type": "markdown",
   "id": "62d5aa17d55ea890",
   "metadata": {},
   "source": [
    "From here, we have 4 ways to fill in the null values, which were filling with 0, with mean, with median and with mode. However, if we look at the web page, we can see that most products with `NaN` values in column `discount_percent_list` don't have any discounts. Thus, we can replace all the null values in column `discount_percent_list` with 0."
   ]
  },
  {
   "cell_type": "code",
   "execution_count": 20,
   "id": "7614329a0766f36c",
   "metadata": {
    "ExecuteTime": {
     "end_time": "2024-05-25T00:55:22.188261Z",
     "start_time": "2024-05-25T00:55:22.165185Z"
    }
   },
   "outputs": [],
   "source": [
    "# Fill the null values with 0.0\n",
    "df['discount_percent_list'] = df['discount_percent_list'].fillna(0.0)"
   ]
  },
  {
   "cell_type": "markdown",
   "id": "5692b1263efcc843",
   "metadata": {},
   "source": [
    "Next up, we will deal with column `quantity_sold`"
   ]
  },
  {
   "cell_type": "code",
   "execution_count": 21,
   "id": "91db1abcdb5e7e58",
   "metadata": {
    "ExecuteTime": {
     "end_time": "2024-05-25T00:56:21.771492Z",
     "start_time": "2024-05-25T00:56:21.752494Z"
    }
   },
   "outputs": [
    {
     "data": {
      "text/plain": [
       "array([nan, '210 Đã bán', '1.5K Đã bán', '26 Đã bán', '133 Đã bán',\n",
       "       '391 Đã bán', '60 Đã bán', '18 Đã bán', '50 Đã bán', '5 Đã bán',\n",
       "       '76 Đã bán', '53 Đã bán', '25 Đã bán', '442 Đã bán', '49 Đã bán',\n",
       "       '126 Đã bán', '370 Đã bán', '1.0K Đã bán', '735 Đã bán',\n",
       "       '301 Đã bán', '200 Đã bán', '10 Đã bán', '101 Đã bán',\n",
       "       '107 Đã bán', '125 Đã bán', '63 Đã bán', '29 Đã bán', '45 Đã bán',\n",
       "       '56 Đã bán', '499 Đã bán', '78 Đã bán', '47 Đã bán', '11 Đã bán',\n",
       "       '23 Đã bán', '48 Đã bán', '7 Đã bán', '104 Đã bán', '28 Đã bán',\n",
       "       '175 Đã bán', '6 Đã bán', '818 Đã bán', '225 Đã bán', '174 Đã bán',\n",
       "       '27 Đã bán', '74 Đã bán', '515 Đã bán', '21 Đã bán', '80 Đã bán',\n",
       "       '12 Đã bán', '118 Đã bán', '96 Đã bán', '20 Đã bán', '82 Đã bán',\n",
       "       '120 Đã bán', '147 Đã bán', '533 Đã bán', '223 Đã bán',\n",
       "       '241 Đã bán', '91 Đã bán', '90 Đã bán', '38 Đã bán', '17 Đã bán',\n",
       "       '2.8K Đã bán', '426 Đã bán', '58 Đã bán', '64 Đã bán',\n",
       "       '850 Đã bán', '321 Đã bán', '1.8K Đã bán'], dtype=object)"
      ]
     },
     "execution_count": 21,
     "metadata": {},
     "output_type": "execute_result"
    }
   ],
   "source": [
    "df['quantity_sold'].unique()"
   ]
  },
  {
   "cell_type": "markdown",
   "id": "613484ff0bc029e4",
   "metadata": {},
   "source": [
    "So, there are two issues with this column to be dealt:\n",
    "- First, remove the phrase `' Đã bán'` out of this, and then change values with `'K'` into thousands. Make sure the data are in integer type. \n",
    "- Second, eliminate or fill the null values with something else?\n",
    "\n",
    "Let's deal problem 1 first."
   ]
  },
  {
   "cell_type": "code",
   "execution_count": 22,
   "id": "dab2d234b03cb45d",
   "metadata": {
    "ExecuteTime": {
     "end_time": "2024-05-25T01:19:03.625733Z",
     "start_time": "2024-05-25T01:19:03.591867Z"
    }
   },
   "outputs": [
    {
     "data": {
      "text/html": [
       "<div>\n",
       "<style scoped>\n",
       "    .dataframe tbody tr th:only-of-type {\n",
       "        vertical-align: middle;\n",
       "    }\n",
       "\n",
       "    .dataframe tbody tr th {\n",
       "        vertical-align: top;\n",
       "    }\n",
       "\n",
       "    .dataframe thead th {\n",
       "        text-align: right;\n",
       "    }\n",
       "</style>\n",
       "<table border=\"1\" class=\"dataframe\">\n",
       "  <thead>\n",
       "    <tr style=\"text-align: right;\">\n",
       "      <th></th>\n",
       "      <th>title</th>\n",
       "      <th>price</th>\n",
       "      <th>link_item</th>\n",
       "      <th>discount_percent_list</th>\n",
       "      <th>countReviews</th>\n",
       "      <th>location_of_product</th>\n",
       "      <th>quantity_sold</th>\n",
       "      <th>review_count</th>\n",
       "    </tr>\n",
       "  </thead>\n",
       "  <tbody>\n",
       "    <tr>\n",
       "      <th>0</th>\n",
       "      <td>Bluetooth Earphone Bluetooth Headset Sports He...</td>\n",
       "      <td>414669</td>\n",
       "      <td>https://www.lazada.vn/products/bluetooth-earph...</td>\n",
       "      <td>0.0</td>\n",
       "      <td>China</td>\n",
       "      <td>China</td>\n",
       "      <td>NaN</td>\n",
       "      <td>NaN</td>\n",
       "    </tr>\n",
       "    <tr>\n",
       "      <th>1</th>\n",
       "      <td>Bnlight Tai nghe trẻ em khủng long dễ thương T...</td>\n",
       "      <td>161000</td>\n",
       "      <td>https://www.lazada.vn/products/bnlight-tai-ngh...</td>\n",
       "      <td>0.0</td>\n",
       "      <td>Nước ngoài</td>\n",
       "      <td>Nước ngoài</td>\n",
       "      <td>NaN</td>\n",
       "      <td>NaN</td>\n",
       "    </tr>\n",
       "    <tr>\n",
       "      <th>2</th>\n",
       "      <td>(MEBR) Replacement Gaming Headphone Omnidirect...</td>\n",
       "      <td>167000</td>\n",
       "      <td>https://www.lazada.vn/products/mebr-replacemen...</td>\n",
       "      <td>0.0</td>\n",
       "      <td>China</td>\n",
       "      <td>China</td>\n",
       "      <td>NaN</td>\n",
       "      <td>NaN</td>\n",
       "    </tr>\n",
       "    <tr>\n",
       "      <th>3</th>\n",
       "      <td>(MEBR) Replacement Gaming Headphone Omnidirect...</td>\n",
       "      <td>167000</td>\n",
       "      <td>https://www.lazada.vn/products/mebr-replacemen...</td>\n",
       "      <td>0.0</td>\n",
       "      <td>China</td>\n",
       "      <td>China</td>\n",
       "      <td>NaN</td>\n",
       "      <td>NaN</td>\n",
       "    </tr>\n",
       "    <tr>\n",
       "      <th>4</th>\n",
       "      <td>K75 Lavalier Bluetooth 5.4 Tai Nghe Kinh Doanh...</td>\n",
       "      <td>294700</td>\n",
       "      <td>https://www.lazada.vn/products/k75-lavalier-bl...</td>\n",
       "      <td>0.0</td>\n",
       "      <td>210 Đã bán\\nChina</td>\n",
       "      <td>China</td>\n",
       "      <td>210</td>\n",
       "      <td>NaN</td>\n",
       "    </tr>\n",
       "  </tbody>\n",
       "</table>\n",
       "</div>"
      ],
      "text/plain": [
       "                                               title   price  \\\n",
       "0  Bluetooth Earphone Bluetooth Headset Sports He...  414669   \n",
       "1  Bnlight Tai nghe trẻ em khủng long dễ thương T...  161000   \n",
       "2  (MEBR) Replacement Gaming Headphone Omnidirect...  167000   \n",
       "3  (MEBR) Replacement Gaming Headphone Omnidirect...  167000   \n",
       "4  K75 Lavalier Bluetooth 5.4 Tai Nghe Kinh Doanh...  294700   \n",
       "\n",
       "                                           link_item  discount_percent_list  \\\n",
       "0  https://www.lazada.vn/products/bluetooth-earph...                    0.0   \n",
       "1  https://www.lazada.vn/products/bnlight-tai-ngh...                    0.0   \n",
       "2  https://www.lazada.vn/products/mebr-replacemen...                    0.0   \n",
       "3  https://www.lazada.vn/products/mebr-replacemen...                    0.0   \n",
       "4  https://www.lazada.vn/products/k75-lavalier-bl...                    0.0   \n",
       "\n",
       "        countReviews location_of_product quantity_sold review_count  \n",
       "0              China               China           NaN          NaN  \n",
       "1         Nước ngoài          Nước ngoài           NaN          NaN  \n",
       "2              China               China           NaN          NaN  \n",
       "3              China               China           NaN          NaN  \n",
       "4  210 Đã bán\\nChina               China           210          NaN  "
      ]
     },
     "execution_count": 22,
     "metadata": {},
     "output_type": "execute_result"
    }
   ],
   "source": [
    "# Delete ' Đã bán'\n",
    "df['quantity_sold'] = df['quantity_sold'].str.replace(' Đã bán', '', regex=False)\n",
    "\n",
    "# If any line has the letter K, multiply 1000 into that line's value\n",
    "df['quantity_sold'] = df['quantity_sold'].apply(lambda x: float(x.replace('K', '')) * 1000 if 'K' in str(x) else x)\n",
    "\n",
    "# View the results:\n",
    "df.head()"
   ]
  },
  {
   "cell_type": "markdown",
   "id": "5d0bbd9b71f00457",
   "metadata": {},
   "source": [
    "Now, since there are still missing values in column `quantity_sold`, we will have to examine it to figure out how to deal with them."
   ]
  },
  {
   "cell_type": "code",
   "execution_count": 23,
   "id": "bc71c5f068324a37",
   "metadata": {
    "ExecuteTime": {
     "end_time": "2024-05-25T01:25:47.712413Z",
     "start_time": "2024-05-25T01:25:47.240161Z"
    }
   },
   "outputs": [
    {
     "name": "stdout",
     "output_type": "stream",
     "text": [
      "Max value of column quantity sold: 2800\n",
      "Min value of column quantity sold: 5\n"
     ]
    },
    {
     "data": {
      "text/plain": [
       "<Axes: xlabel='quantity_sold', ylabel='Density'>"
      ]
     },
     "execution_count": 23,
     "metadata": {},
     "output_type": "execute_result"
    },
    {
     "data": {
      "image/png": "[encoded data removed]",
      "text/plain": [
       "<Figure size 1000x800 with 2 Axes>"
      ]
     },
     "metadata": {},
     "output_type": "display_data"
    }
   ],
   "source": [
    "print(f'Max value of column quantity sold: {df[\"quantity_sold\"].dropna().astype(int).max()}')\n",
    "print(f'Min value of column quantity sold: {df[\"quantity_sold\"].dropna().astype(int).min()}')\n",
    "# Box plot and histogram would help us in this case\n",
    "# For the sake of plotting, we would alter a bit of data by dropping null values out\n",
    "fig, ax = plt.subplots(2, 1, figsize = (10, 8))\n",
    "sns.boxplot(df['quantity_sold'].dropna().astype(int), ax = ax[0], color = 'green')\n",
    "sns.distplot(df['quantity_sold'].dropna().astype(int), ax = ax[1], color = 'green')"
   ]
  },
  {
   "cell_type": "markdown",
   "id": "7110f0dcc2a6a7f4",
   "metadata": {},
   "source": [
    "We can see that there are a huge amount of outliers in this case. Thus, to make it less right-skewed, we can fill the null values with mode or median - they have the same effect. In this case, we will fill the nulls with mode."
   ]
  },
  {
   "cell_type": "code",
   "execution_count": 24,
   "id": "fd769516d1dedcee",
   "metadata": {
    "ExecuteTime": {
     "end_time": "2024-05-25T08:49:26.834361Z",
     "start_time": "2024-05-25T08:49:26.791732Z"
    }
   },
   "outputs": [
    {
     "data": {
      "text/html": [
       "<div>\n",
       "<style scoped>\n",
       "    .dataframe tbody tr th:only-of-type {\n",
       "        vertical-align: middle;\n",
       "    }\n",
       "\n",
       "    .dataframe tbody tr th {\n",
       "        vertical-align: top;\n",
       "    }\n",
       "\n",
       "    .dataframe thead th {\n",
       "        text-align: right;\n",
       "    }\n",
       "</style>\n",
       "<table border=\"1\" class=\"dataframe\">\n",
       "  <thead>\n",
       "    <tr style=\"text-align: right;\">\n",
       "      <th></th>\n",
       "      <th>title</th>\n",
       "      <th>price</th>\n",
       "      <th>link_item</th>\n",
       "      <th>discount_percent_list</th>\n",
       "      <th>countReviews</th>\n",
       "      <th>location_of_product</th>\n",
       "      <th>quantity_sold</th>\n",
       "      <th>review_count</th>\n",
       "    </tr>\n",
       "  </thead>\n",
       "  <tbody>\n",
       "    <tr>\n",
       "      <th>43</th>\n",
       "      <td>(MEBR) Replacement Gaming Headphone Omnidirect...</td>\n",
       "      <td>167000</td>\n",
       "      <td>https://www.lazada.vn/products/mebr-replacemen...</td>\n",
       "      <td>0.0</td>\n",
       "      <td>China</td>\n",
       "      <td>China</td>\n",
       "      <td>5</td>\n",
       "      <td>NaN</td>\n",
       "    </tr>\n",
       "    <tr>\n",
       "      <th>446</th>\n",
       "      <td>[Fortitudes] Tai Nghe Cho Trẻ Em Có Dây Máy Tí...</td>\n",
       "      <td>73793</td>\n",
       "      <td>https://www.lazada.vn/products/fortitudes-tai-...</td>\n",
       "      <td>0.0</td>\n",
       "      <td>China</td>\n",
       "      <td>China</td>\n",
       "      <td>5</td>\n",
       "      <td>NaN</td>\n",
       "    </tr>\n",
       "    <tr>\n",
       "      <th>305</th>\n",
       "      <td>Tai Nghe Bluetooth Không Dây Thực Sự Air Pro Â...</td>\n",
       "      <td>138600</td>\n",
       "      <td>https://www.lazada.vn/products/tai-nghe-blueto...</td>\n",
       "      <td>0.0</td>\n",
       "      <td>120 Đã bán\\nChina</td>\n",
       "      <td>China</td>\n",
       "      <td>120</td>\n",
       "      <td>NaN</td>\n",
       "    </tr>\n",
       "    <tr>\n",
       "      <th>422</th>\n",
       "      <td>Tai Nghe Bluetooth 5.0 Âm Thanh Nổi Y08 Tai Ng...</td>\n",
       "      <td>109000</td>\n",
       "      <td>https://www.lazada.vn/products/tai-nghe-blueto...</td>\n",
       "      <td>0.0</td>\n",
       "      <td>China</td>\n",
       "      <td>China</td>\n",
       "      <td>5</td>\n",
       "      <td>NaN</td>\n",
       "    </tr>\n",
       "    <tr>\n",
       "      <th>260</th>\n",
       "      <td>[huguosheng] 1PC tai nghe 3.5mm cắm duy nhất b...</td>\n",
       "      <td>14618</td>\n",
       "      <td>https://www.lazada.vn/products/huguosheng-1pc-...</td>\n",
       "      <td>0.0</td>\n",
       "      <td>China</td>\n",
       "      <td>China</td>\n",
       "      <td>5</td>\n",
       "      <td>NaN</td>\n",
       "    </tr>\n",
       "  </tbody>\n",
       "</table>\n",
       "</div>"
      ],
      "text/plain": [
       "                                                 title   price  \\\n",
       "43   (MEBR) Replacement Gaming Headphone Omnidirect...  167000   \n",
       "446  [Fortitudes] Tai Nghe Cho Trẻ Em Có Dây Máy Tí...   73793   \n",
       "305  Tai Nghe Bluetooth Không Dây Thực Sự Air Pro Â...  138600   \n",
       "422  Tai Nghe Bluetooth 5.0 Âm Thanh Nổi Y08 Tai Ng...  109000   \n",
       "260  [huguosheng] 1PC tai nghe 3.5mm cắm duy nhất b...   14618   \n",
       "\n",
       "                                             link_item  discount_percent_list  \\\n",
       "43   https://www.lazada.vn/products/mebr-replacemen...                    0.0   \n",
       "446  https://www.lazada.vn/products/fortitudes-tai-...                    0.0   \n",
       "305  https://www.lazada.vn/products/tai-nghe-blueto...                    0.0   \n",
       "422  https://www.lazada.vn/products/tai-nghe-blueto...                    0.0   \n",
       "260  https://www.lazada.vn/products/huguosheng-1pc-...                    0.0   \n",
       "\n",
       "          countReviews location_of_product quantity_sold review_count  \n",
       "43               China               China             5          NaN  \n",
       "446              China               China             5          NaN  \n",
       "305  120 Đã bán\\nChina               China           120          NaN  \n",
       "422              China               China             5          NaN  \n",
       "260              China               China             5          NaN  "
      ]
     },
     "execution_count": 24,
     "metadata": {},
     "output_type": "execute_result"
    }
   ],
   "source": [
    "df['quantity_sold'] = df['quantity_sold'].fillna(df['quantity_sold'].mode()[0])\n",
    "df.sample(5)"
   ]
  },
  {
   "cell_type": "markdown",
   "id": "4eaedb3fc013ad9e",
   "metadata": {},
   "source": [
    "For the last column, which is `review_count`, we would also look at its distribution and IQR chart to see whether we can fill with anything special."
   ]
  },
  {
   "cell_type": "code",
   "execution_count": 25,
   "id": "95fecd335cb87a69",
   "metadata": {
    "ExecuteTime": {
     "end_time": "2024-05-25T08:51:42.631153Z",
     "start_time": "2024-05-25T08:51:42.042895Z"
    }
   },
   "outputs": [
    {
     "data": {
      "text/plain": [
       "<Axes: xlabel='review_count', ylabel='Density'>"
      ]
     },
     "execution_count": 25,
     "metadata": {},
     "output_type": "execute_result"
    },
    {
     "data": {
      "image/png": "[encoded data removed]",
      "text/plain": [
       "<Figure size 1000x800 with 2 Axes>"
      ]
     },
     "metadata": {},
     "output_type": "display_data"
    }
   ],
   "source": [
    "# For the sake of plotting, we would alter a bit of data by dropping null values out\n",
    "fig, ax = plt.subplots(2, 1, figsize = (10, 8))\n",
    "sns.boxplot(df['review_count'].dropna().astype(int), ax = ax[0], color = 'green')\n",
    "sns.distplot(df['review_count'].dropna().astype(int), ax = ax[1], color = 'green')"
   ]
  },
  {
   "cell_type": "markdown",
   "id": "85bf492c0af62b76",
   "metadata": {},
   "source": [
    "Just like `quantity_sold`, this column also has a lot of outliers. For this time, we would fill the null values with median because replacing null values with mean will create blunders as it contains outliers and mean is influenced with outliers."
   ]
  },
  {
   "cell_type": "code",
   "execution_count": null,
   "id": "98445a8890a58f02",
   "metadata": {
    "ExecuteTime": {
     "end_time": "2024-05-25T08:54:05.140950Z",
     "start_time": "2024-05-25T08:54:05.114027Z"
    }
   },
   "outputs": [],
   "source": [
    "df['review_count'] = df['review_count'].fillna(df['review_count'].median())\n",
    "df.info()"
   ]
  },
  {
   "cell_type": "markdown",
   "id": "cdc420d0436ce170",
   "metadata": {},
   "source": [
    "Perfect! We have done filling the datasets with null values. Now, let's check if there are any duplicated values."
   ]
  },
  {
   "cell_type": "code",
   "execution_count": 27,
   "id": "23c3aa7d2f79be4a",
   "metadata": {
    "ExecuteTime": {
     "end_time": "2024-05-25T08:55:01.828377Z",
     "start_time": "2024-05-25T08:55:01.783384Z"
    }
   },
   "outputs": [
    {
     "data": {
      "text/html": [
       "<div>\n",
       "<style scoped>\n",
       "    .dataframe tbody tr th:only-of-type {\n",
       "        vertical-align: middle;\n",
       "    }\n",
       "\n",
       "    .dataframe tbody tr th {\n",
       "        vertical-align: top;\n",
       "    }\n",
       "\n",
       "    .dataframe thead th {\n",
       "        text-align: right;\n",
       "    }\n",
       "</style>\n",
       "<table border=\"1\" class=\"dataframe\">\n",
       "  <thead>\n",
       "    <tr style=\"text-align: right;\">\n",
       "      <th></th>\n",
       "      <th>title</th>\n",
       "      <th>price</th>\n",
       "      <th>link_item</th>\n",
       "      <th>discount_percent_list</th>\n",
       "      <th>countReviews</th>\n",
       "      <th>location_of_product</th>\n",
       "      <th>quantity_sold</th>\n",
       "      <th>review_count</th>\n",
       "    </tr>\n",
       "  </thead>\n",
       "  <tbody>\n",
       "    <tr>\n",
       "      <th>40</th>\n",
       "      <td>Bluetooth Earphone Bluetooth Headset Sports He...</td>\n",
       "      <td>414669</td>\n",
       "      <td>https://www.lazada.vn/products/bluetooth-earph...</td>\n",
       "      <td>0.0</td>\n",
       "      <td>China</td>\n",
       "      <td>China</td>\n",
       "      <td>5</td>\n",
       "      <td>NaN</td>\n",
       "    </tr>\n",
       "    <tr>\n",
       "      <th>41</th>\n",
       "      <td>Bnlight Tai nghe trẻ em khủng long dễ thương T...</td>\n",
       "      <td>161000</td>\n",
       "      <td>https://www.lazada.vn/products/bnlight-tai-ngh...</td>\n",
       "      <td>0.0</td>\n",
       "      <td>Nước ngoài</td>\n",
       "      <td>Nước ngoài</td>\n",
       "      <td>5</td>\n",
       "      <td>NaN</td>\n",
       "    </tr>\n",
       "    <tr>\n",
       "      <th>42</th>\n",
       "      <td>(MEBR) Replacement Gaming Headphone Omnidirect...</td>\n",
       "      <td>167000</td>\n",
       "      <td>https://www.lazada.vn/products/mebr-replacemen...</td>\n",
       "      <td>0.0</td>\n",
       "      <td>China</td>\n",
       "      <td>China</td>\n",
       "      <td>5</td>\n",
       "      <td>NaN</td>\n",
       "    </tr>\n",
       "    <tr>\n",
       "      <th>43</th>\n",
       "      <td>(MEBR) Replacement Gaming Headphone Omnidirect...</td>\n",
       "      <td>167000</td>\n",
       "      <td>https://www.lazada.vn/products/mebr-replacemen...</td>\n",
       "      <td>0.0</td>\n",
       "      <td>China</td>\n",
       "      <td>China</td>\n",
       "      <td>5</td>\n",
       "      <td>NaN</td>\n",
       "    </tr>\n",
       "    <tr>\n",
       "      <th>44</th>\n",
       "      <td>K75 Lavalier Bluetooth 5.4 Tai Nghe Kinh Doanh...</td>\n",
       "      <td>294700</td>\n",
       "      <td>https://www.lazada.vn/products/k75-lavalier-bl...</td>\n",
       "      <td>0.0</td>\n",
       "      <td>210 Đã bán\\nChina</td>\n",
       "      <td>China</td>\n",
       "      <td>210</td>\n",
       "      <td>NaN</td>\n",
       "    </tr>\n",
       "    <tr>\n",
       "      <th>45</th>\n",
       "      <td>KESTRE MP3 Âm thanh HIFI Âm Nhạc Linh hoạt Ste...</td>\n",
       "      <td>83075</td>\n",
       "      <td>https://www.lazada.vn/products/kestre-mp3-am-t...</td>\n",
       "      <td>0.0</td>\n",
       "      <td>China</td>\n",
       "      <td>China</td>\n",
       "      <td>5</td>\n",
       "      <td>NaN</td>\n",
       "    </tr>\n",
       "    <tr>\n",
       "      <th>46</th>\n",
       "      <td>Tai Nghe Disney Minnie MickeyTWS Bluetooth 5.3...</td>\n",
       "      <td>195500</td>\n",
       "      <td>https://www.lazada.vn/products/tai-nghe-disney...</td>\n",
       "      <td>0.0</td>\n",
       "      <td>China</td>\n",
       "      <td>China</td>\n",
       "      <td>5</td>\n",
       "      <td>NaN</td>\n",
       "    </tr>\n",
       "    <tr>\n",
       "      <th>47</th>\n",
       "      <td>Tai Nghe Không Dây Dẫn Truyền Xương Bluetooth ...</td>\n",
       "      <td>198900</td>\n",
       "      <td>https://www.lazada.vn/products/tai-nghe-khong-...</td>\n",
       "      <td>0.0</td>\n",
       "      <td>1.5K Đã bán\\nChina</td>\n",
       "      <td>China</td>\n",
       "      <td>1500.0</td>\n",
       "      <td>NaN</td>\n",
       "    </tr>\n",
       "    <tr>\n",
       "      <th>49</th>\n",
       "      <td>Tai Nghe Đài FM Di Động AIBEN C201PRO Có Giắc ...</td>\n",
       "      <td>118300</td>\n",
       "      <td>https://www.lazada.vn/products/tai-nghe-dai-fm...</td>\n",
       "      <td>0.0</td>\n",
       "      <td>26 Đã bán\\nChina</td>\n",
       "      <td>China</td>\n",
       "      <td>26</td>\n",
       "      <td>NaN</td>\n",
       "    </tr>\n",
       "    <tr>\n",
       "      <th>50</th>\n",
       "      <td>RIUERSTONE Chất lượng Cầm tay Màu đen Điện tho...</td>\n",
       "      <td>32223</td>\n",
       "      <td>https://www.lazada.vn/products/riuerstone-chat...</td>\n",
       "      <td>0.0</td>\n",
       "      <td>China</td>\n",
       "      <td>China</td>\n",
       "      <td>5</td>\n",
       "      <td>NaN</td>\n",
       "    </tr>\n",
       "    <tr>\n",
       "      <th>51</th>\n",
       "      <td>Tai nghe ngủ Bluetooth 5.2 không dây với mặt n...</td>\n",
       "      <td>370108</td>\n",
       "      <td>https://www.lazada.vn/products/tai-nghe-ngu-bl...</td>\n",
       "      <td>0.0</td>\n",
       "      <td>China</td>\n",
       "      <td>China</td>\n",
       "      <td>5</td>\n",
       "      <td>NaN</td>\n",
       "    </tr>\n",
       "    <tr>\n",
       "      <th>52</th>\n",
       "      <td>Tai Nghe Bluetooth Xe Máy Không Dây Stereo Mũ ...</td>\n",
       "      <td>322200</td>\n",
       "      <td>https://www.lazada.vn/products/tai-nghe-blueto...</td>\n",
       "      <td>0.0</td>\n",
       "      <td>391 Đã bán\\nChina</td>\n",
       "      <td>China</td>\n",
       "      <td>391</td>\n",
       "      <td>NaN</td>\n",
       "    </tr>\n",
       "    <tr>\n",
       "      <th>53</th>\n",
       "      <td>Tai nghe Bluetooth trong tai bán chạy với thời...</td>\n",
       "      <td>234497</td>\n",
       "      <td>https://www.lazada.vn/products/tai-nghe-blueto...</td>\n",
       "      <td>0.0</td>\n",
       "      <td>China</td>\n",
       "      <td>China</td>\n",
       "      <td>5</td>\n",
       "      <td>NaN</td>\n",
       "    </tr>\n",
       "    <tr>\n",
       "      <th>54</th>\n",
       "      <td>PERSI Chống trầy xước Giá đựng tai nghe Hợp nh...</td>\n",
       "      <td>193344</td>\n",
       "      <td>https://www.lazada.vn/products/persi-chong-tra...</td>\n",
       "      <td>0.0</td>\n",
       "      <td>China</td>\n",
       "      <td>China</td>\n",
       "      <td>5</td>\n",
       "      <td>NaN</td>\n",
       "    </tr>\n",
       "    <tr>\n",
       "      <th>55</th>\n",
       "      <td>Lenovo Thinkplus TH10TWS Bluetooth 5.0 Tai Ngh...</td>\n",
       "      <td>277900</td>\n",
       "      <td>https://www.lazada.vn/products/lenovo-thinkplu...</td>\n",
       "      <td>0.0</td>\n",
       "      <td>60 Đã bán\\nChina</td>\n",
       "      <td>China</td>\n",
       "      <td>60</td>\n",
       "      <td>NaN</td>\n",
       "    </tr>\n",
       "    <tr>\n",
       "      <th>56</th>\n",
       "      <td>MINISO MS169 Bluetooth Dịch Tai Nghe Không Dây...</td>\n",
       "      <td>270900</td>\n",
       "      <td>https://www.lazada.vn/products/miniso-ms169-bl...</td>\n",
       "      <td>0.0</td>\n",
       "      <td>18 Đã bán\\nChina</td>\n",
       "      <td>China</td>\n",
       "      <td>18</td>\n",
       "      <td>NaN</td>\n",
       "    </tr>\n",
       "    <tr>\n",
       "      <th>57</th>\n",
       "      <td>EXTILE Có thể điều chỉnh MP3 3.5mm HIFI Âm Nhạ...</td>\n",
       "      <td>84880</td>\n",
       "      <td>https://www.lazada.vn/products/extile-co-the-d...</td>\n",
       "      <td>0.0</td>\n",
       "      <td>China</td>\n",
       "      <td>China</td>\n",
       "      <td>5</td>\n",
       "      <td>NaN</td>\n",
       "    </tr>\n",
       "    <tr>\n",
       "      <th>58</th>\n",
       "      <td>TIME Mì sợi Supper Bass Có micrô 3,5 mm Trong ...</td>\n",
       "      <td>49000</td>\n",
       "      <td>https://www.lazada.vn/products/time-mi-soi-sup...</td>\n",
       "      <td>0.0</td>\n",
       "      <td>China</td>\n",
       "      <td>China</td>\n",
       "      <td>5</td>\n",
       "      <td>NaN</td>\n",
       "    </tr>\n",
       "    <tr>\n",
       "      <th>59</th>\n",
       "      <td>YUYIN4 Không dây ai dịch tai móc tai nghe 144 ...</td>\n",
       "      <td>222830</td>\n",
       "      <td>https://www.lazada.vn/products/yuyin4-khong-da...</td>\n",
       "      <td>0.0</td>\n",
       "      <td>China</td>\n",
       "      <td>China</td>\n",
       "      <td>5</td>\n",
       "      <td>NaN</td>\n",
       "    </tr>\n",
       "    <tr>\n",
       "      <th>60</th>\n",
       "      <td>JORYA Cho PC MP3 Linh hoạt HIFI Âm Nhạc Âm Tha...</td>\n",
       "      <td>86000</td>\n",
       "      <td>https://www.lazada.vn/products/jorya-cho-pc-mp...</td>\n",
       "      <td>0.0</td>\n",
       "      <td>China</td>\n",
       "      <td>China</td>\n",
       "      <td>5</td>\n",
       "      <td>NaN</td>\n",
       "    </tr>\n",
       "    <tr>\n",
       "      <th>61</th>\n",
       "      <td>YUYIN4 Bluetooth Tai nghe Handfree LED dispay ...</td>\n",
       "      <td>64791</td>\n",
       "      <td>https://www.lazada.vn/products/yuyin4-bluetoot...</td>\n",
       "      <td>0.0</td>\n",
       "      <td>China</td>\n",
       "      <td>China</td>\n",
       "      <td>5</td>\n",
       "      <td>NaN</td>\n",
       "    </tr>\n",
       "    <tr>\n",
       "      <th>62</th>\n",
       "      <td>(YRKX) Headband Replacement WH-1000XM3 XM3 Wir...</td>\n",
       "      <td>325000</td>\n",
       "      <td>https://www.lazada.vn/products/yrkx-headband-r...</td>\n",
       "      <td>0.0</td>\n",
       "      <td>China</td>\n",
       "      <td>China</td>\n",
       "      <td>5</td>\n",
       "      <td>NaN</td>\n",
       "    </tr>\n",
       "    <tr>\n",
       "      <th>64</th>\n",
       "      <td>ZHEN BEAUTY Cho PC MP3 HIFI Âm Nhạc 3.5mm Linh...</td>\n",
       "      <td>92075</td>\n",
       "      <td>https://www.lazada.vn/products/zhen-beauty-cho...</td>\n",
       "      <td>0.0</td>\n",
       "      <td>China</td>\n",
       "      <td>China</td>\n",
       "      <td>5</td>\n",
       "      <td>NaN</td>\n",
       "    </tr>\n",
       "    <tr>\n",
       "      <th>66</th>\n",
       "      <td>JNBY Mini Màu đen Cầm tay Điện thoại Giọng nói...</td>\n",
       "      <td>33191</td>\n",
       "      <td>https://www.lazada.vn/products/jnby-mini-mau-d...</td>\n",
       "      <td>0.0</td>\n",
       "      <td>China</td>\n",
       "      <td>China</td>\n",
       "      <td>5</td>\n",
       "      <td>NaN</td>\n",
       "    </tr>\n",
       "    <tr>\n",
       "      <th>67</th>\n",
       "      <td>JINGUITANG Mini Cầm tay Màu đen Điện thoại Mic...</td>\n",
       "      <td>32000</td>\n",
       "      <td>https://www.lazada.vn/products/jinguitang-mini...</td>\n",
       "      <td>0.0</td>\n",
       "      <td>China</td>\n",
       "      <td>China</td>\n",
       "      <td>5</td>\n",
       "      <td>NaN</td>\n",
       "    </tr>\n",
       "    <tr>\n",
       "      <th>69</th>\n",
       "      <td>(XDQG) Headband Replacement WH-1000XM3 XM3 Wir...</td>\n",
       "      <td>273000</td>\n",
       "      <td>https://www.lazada.vn/products/xdqg-headband-r...</td>\n",
       "      <td>0.0</td>\n",
       "      <td>China</td>\n",
       "      <td>China</td>\n",
       "      <td>5</td>\n",
       "      <td>NaN</td>\n",
       "    </tr>\n",
       "    <tr>\n",
       "      <th>70</th>\n",
       "      <td>(FNMT) Replacement Gaming Headphone Omnidirect...</td>\n",
       "      <td>139000</td>\n",
       "      <td>https://www.lazada.vn/products/fnmt-replacemen...</td>\n",
       "      <td>0.0</td>\n",
       "      <td>China</td>\n",
       "      <td>China</td>\n",
       "      <td>5</td>\n",
       "      <td>NaN</td>\n",
       "    </tr>\n",
       "    <tr>\n",
       "      <th>71</th>\n",
       "      <td>Tai Nghe Bluetooth 5.0 Không Dây Một Tai Bee M...</td>\n",
       "      <td>405600</td>\n",
       "      <td>https://www.lazada.vn/products/tai-nghe-blueto...</td>\n",
       "      <td>0.0</td>\n",
       "      <td>442 Đã bán\\nChina</td>\n",
       "      <td>China</td>\n",
       "      <td>442</td>\n",
       "      <td>NaN</td>\n",
       "    </tr>\n",
       "    <tr>\n",
       "      <th>72</th>\n",
       "      <td>MMEXPANSION Mini Máy tính xách tay Cầm tay Điệ...</td>\n",
       "      <td>32000</td>\n",
       "      <td>https://www.lazada.vn/products/mmexpansion-min...</td>\n",
       "      <td>0.0</td>\n",
       "      <td>China</td>\n",
       "      <td>China</td>\n",
       "      <td>5</td>\n",
       "      <td>NaN</td>\n",
       "    </tr>\n",
       "    <tr>\n",
       "      <th>73</th>\n",
       "      <td>SERINA Chất lượng Cầm tay Máy tính xách tay Mà...</td>\n",
       "      <td>32000</td>\n",
       "      <td>https://www.lazada.vn/products/serina-chat-luo...</td>\n",
       "      <td>0.0</td>\n",
       "      <td>China</td>\n",
       "      <td>China</td>\n",
       "      <td>5</td>\n",
       "      <td>NaN</td>\n",
       "    </tr>\n",
       "    <tr>\n",
       "      <th>74</th>\n",
       "      <td>Tai Nghe Disney Marvel ANC Bluetooth 5.4 42dB ...</td>\n",
       "      <td>373600</td>\n",
       "      <td>https://www.lazada.vn/products/tai-nghe-disney...</td>\n",
       "      <td>0.0</td>\n",
       "      <td>53 Đã bán\\nChina</td>\n",
       "      <td>China</td>\n",
       "      <td>53</td>\n",
       "      <td>NaN</td>\n",
       "    </tr>\n",
       "    <tr>\n",
       "      <th>75</th>\n",
       "      <td>QINDALLE Mini Máy tính xách tay Điện thoại Cầm...</td>\n",
       "      <td>32300</td>\n",
       "      <td>https://www.lazada.vn/products/qindalle-mini-m...</td>\n",
       "      <td>0.0</td>\n",
       "      <td>China</td>\n",
       "      <td>China</td>\n",
       "      <td>5</td>\n",
       "      <td>NaN</td>\n",
       "    </tr>\n",
       "    <tr>\n",
       "      <th>77</th>\n",
       "      <td>Tai Nghe P47 Stereo Bluetooth 5.0 Tai Nghe Chơ...</td>\n",
       "      <td>68800</td>\n",
       "      <td>https://www.lazada.vn/products/tai-nghe-p47-st...</td>\n",
       "      <td>0.0</td>\n",
       "      <td>49 Đã bán\\nChina</td>\n",
       "      <td>China</td>\n",
       "      <td>49</td>\n",
       "      <td>NaN</td>\n",
       "    </tr>\n",
       "    <tr>\n",
       "      <th>120</th>\n",
       "      <td>Tai Nghe Bluetooth Arikasen Có Micro Boom Khử ...</td>\n",
       "      <td>364800</td>\n",
       "      <td>https://www.lazada.vn/products/tai-nghe-blueto...</td>\n",
       "      <td>0.0</td>\n",
       "      <td>133 Đã bán\\nChina</td>\n",
       "      <td>China</td>\n",
       "      <td>133</td>\n",
       "      <td>NaN</td>\n",
       "    </tr>\n",
       "    <tr>\n",
       "      <th>121</th>\n",
       "      <td>Tai Nghe Bluetooth Xe Máy Không Dây Stereo Mũ ...</td>\n",
       "      <td>322200</td>\n",
       "      <td>https://www.lazada.vn/products/tai-nghe-blueto...</td>\n",
       "      <td>0.0</td>\n",
       "      <td>391 Đã bán\\nChina</td>\n",
       "      <td>China</td>\n",
       "      <td>391</td>\n",
       "      <td>NaN</td>\n",
       "    </tr>\n",
       "    <tr>\n",
       "      <th>122</th>\n",
       "      <td>Q86 Retro Camera Phong Cách Tai Nghe Bán Tai Đ...</td>\n",
       "      <td>117600</td>\n",
       "      <td>https://www.lazada.vn/products/q86-retro-camer...</td>\n",
       "      <td>0.0</td>\n",
       "      <td>50 Đã bán\\nChina</td>\n",
       "      <td>China</td>\n",
       "      <td>50</td>\n",
       "      <td>NaN</td>\n",
       "    </tr>\n",
       "    <tr>\n",
       "      <th>123</th>\n",
       "      <td>Retro Tai Nghe Đa Năng Âm Nhạc MP3 Di Động Có ...</td>\n",
       "      <td>31500</td>\n",
       "      <td>https://www.lazada.vn/products/retro-tai-nghe-...</td>\n",
       "      <td>0.0</td>\n",
       "      <td>5 Đã bán\\nChina</td>\n",
       "      <td>China</td>\n",
       "      <td>5</td>\n",
       "      <td>NaN</td>\n",
       "    </tr>\n",
       "    <tr>\n",
       "      <th>124</th>\n",
       "      <td>Tai nghe trò chơi thể thao không dây gấp P Ser...</td>\n",
       "      <td>70000</td>\n",
       "      <td>https://www.lazada.vn/products/tai-nghe-tro-ch...</td>\n",
       "      <td>0.0</td>\n",
       "      <td>76 Đã bán\\nChina</td>\n",
       "      <td>China</td>\n",
       "      <td>76</td>\n",
       "      <td>NaN</td>\n",
       "    </tr>\n",
       "    <tr>\n",
       "      <th>125</th>\n",
       "      <td>Tai Nghe Chơi Game Không Dây Onikuma B2 Cho PS...</td>\n",
       "      <td>539200</td>\n",
       "      <td>https://www.lazada.vn/products/tai-nghe-choi-g...</td>\n",
       "      <td>0.0</td>\n",
       "      <td>53 Đã bán\\nChina</td>\n",
       "      <td>China</td>\n",
       "      <td>53</td>\n",
       "      <td>NaN</td>\n",
       "    </tr>\n",
       "    <tr>\n",
       "      <th>126</th>\n",
       "      <td>Tai Nghe Không Dây Bluetooth 5.4 Monster XKT29...</td>\n",
       "      <td>226800</td>\n",
       "      <td>https://www.lazada.vn/products/tai-nghe-khong-...</td>\n",
       "      <td>0.0</td>\n",
       "      <td>25 Đã bán\\nChina</td>\n",
       "      <td>China</td>\n",
       "      <td>25</td>\n",
       "      <td>NaN</td>\n",
       "    </tr>\n",
       "  </tbody>\n",
       "</table>\n",
       "</div>"
      ],
      "text/plain": [
       "                                                 title   price  \\\n",
       "40   Bluetooth Earphone Bluetooth Headset Sports He...  414669   \n",
       "41   Bnlight Tai nghe trẻ em khủng long dễ thương T...  161000   \n",
       "42   (MEBR) Replacement Gaming Headphone Omnidirect...  167000   \n",
       "43   (MEBR) Replacement Gaming Headphone Omnidirect...  167000   \n",
       "44   K75 Lavalier Bluetooth 5.4 Tai Nghe Kinh Doanh...  294700   \n",
       "45   KESTRE MP3 Âm thanh HIFI Âm Nhạc Linh hoạt Ste...   83075   \n",
       "46   Tai Nghe Disney Minnie MickeyTWS Bluetooth 5.3...  195500   \n",
       "47   Tai Nghe Không Dây Dẫn Truyền Xương Bluetooth ...  198900   \n",
       "49   Tai Nghe Đài FM Di Động AIBEN C201PRO Có Giắc ...  118300   \n",
       "50   RIUERSTONE Chất lượng Cầm tay Màu đen Điện tho...   32223   \n",
       "51   Tai nghe ngủ Bluetooth 5.2 không dây với mặt n...  370108   \n",
       "52   Tai Nghe Bluetooth Xe Máy Không Dây Stereo Mũ ...  322200   \n",
       "53   Tai nghe Bluetooth trong tai bán chạy với thời...  234497   \n",
       "54   PERSI Chống trầy xước Giá đựng tai nghe Hợp nh...  193344   \n",
       "55   Lenovo Thinkplus TH10TWS Bluetooth 5.0 Tai Ngh...  277900   \n",
       "56   MINISO MS169 Bluetooth Dịch Tai Nghe Không Dây...  270900   \n",
       "57   EXTILE Có thể điều chỉnh MP3 3.5mm HIFI Âm Nhạ...   84880   \n",
       "58   TIME Mì sợi Supper Bass Có micrô 3,5 mm Trong ...   49000   \n",
       "59   YUYIN4 Không dây ai dịch tai móc tai nghe 144 ...  222830   \n",
       "60   JORYA Cho PC MP3 Linh hoạt HIFI Âm Nhạc Âm Tha...   86000   \n",
       "61   YUYIN4 Bluetooth Tai nghe Handfree LED dispay ...   64791   \n",
       "62   (YRKX) Headband Replacement WH-1000XM3 XM3 Wir...  325000   \n",
       "64   ZHEN BEAUTY Cho PC MP3 HIFI Âm Nhạc 3.5mm Linh...   92075   \n",
       "66   JNBY Mini Màu đen Cầm tay Điện thoại Giọng nói...   33191   \n",
       "67   JINGUITANG Mini Cầm tay Màu đen Điện thoại Mic...   32000   \n",
       "69   (XDQG) Headband Replacement WH-1000XM3 XM3 Wir...  273000   \n",
       "70   (FNMT) Replacement Gaming Headphone Omnidirect...  139000   \n",
       "71   Tai Nghe Bluetooth 5.0 Không Dây Một Tai Bee M...  405600   \n",
       "72   MMEXPANSION Mini Máy tính xách tay Cầm tay Điệ...   32000   \n",
       "73   SERINA Chất lượng Cầm tay Máy tính xách tay Mà...   32000   \n",
       "74   Tai Nghe Disney Marvel ANC Bluetooth 5.4 42dB ...  373600   \n",
       "75   QINDALLE Mini Máy tính xách tay Điện thoại Cầm...   32300   \n",
       "77   Tai Nghe P47 Stereo Bluetooth 5.0 Tai Nghe Chơ...   68800   \n",
       "120  Tai Nghe Bluetooth Arikasen Có Micro Boom Khử ...  364800   \n",
       "121  Tai Nghe Bluetooth Xe Máy Không Dây Stereo Mũ ...  322200   \n",
       "122  Q86 Retro Camera Phong Cách Tai Nghe Bán Tai Đ...  117600   \n",
       "123  Retro Tai Nghe Đa Năng Âm Nhạc MP3 Di Động Có ...   31500   \n",
       "124  Tai nghe trò chơi thể thao không dây gấp P Ser...   70000   \n",
       "125  Tai Nghe Chơi Game Không Dây Onikuma B2 Cho PS...  539200   \n",
       "126  Tai Nghe Không Dây Bluetooth 5.4 Monster XKT29...  226800   \n",
       "\n",
       "                                             link_item  discount_percent_list  \\\n",
       "40   https://www.lazada.vn/products/bluetooth-earph...                    0.0   \n",
       "41   https://www.lazada.vn/products/bnlight-tai-ngh...                    0.0   \n",
       "42   https://www.lazada.vn/products/mebr-replacemen...                    0.0   \n",
       "43   https://www.lazada.vn/products/mebr-replacemen...                    0.0   \n",
       "44   https://www.lazada.vn/products/k75-lavalier-bl...                    0.0   \n",
       "45   https://www.lazada.vn/products/kestre-mp3-am-t...                    0.0   \n",
       "46   https://www.lazada.vn/products/tai-nghe-disney...                    0.0   \n",
       "47   https://www.lazada.vn/products/tai-nghe-khong-...                    0.0   \n",
       "49   https://www.lazada.vn/products/tai-nghe-dai-fm...                    0.0   \n",
       "50   https://www.lazada.vn/products/riuerstone-chat...                    0.0   \n",
       "51   https://www.lazada.vn/products/tai-nghe-ngu-bl...                    0.0   \n",
       "52   https://www.lazada.vn/products/tai-nghe-blueto...                    0.0   \n",
       "53   https://www.lazada.vn/products/tai-nghe-blueto...                    0.0   \n",
       "54   https://www.lazada.vn/products/persi-chong-tra...                    0.0   \n",
       "55   https://www.lazada.vn/products/lenovo-thinkplu...                    0.0   \n",
       "56   https://www.lazada.vn/products/miniso-ms169-bl...                    0.0   \n",
       "57   https://www.lazada.vn/products/extile-co-the-d...                    0.0   \n",
       "58   https://www.lazada.vn/products/time-mi-soi-sup...                    0.0   \n",
       "59   https://www.lazada.vn/products/yuyin4-khong-da...                    0.0   \n",
       "60   https://www.lazada.vn/products/jorya-cho-pc-mp...                    0.0   \n",
       "61   https://www.lazada.vn/products/yuyin4-bluetoot...                    0.0   \n",
       "62   https://www.lazada.vn/products/yrkx-headband-r...                    0.0   \n",
       "64   https://www.lazada.vn/products/zhen-beauty-cho...                    0.0   \n",
       "66   https://www.lazada.vn/products/jnby-mini-mau-d...                    0.0   \n",
       "67   https://www.lazada.vn/products/jinguitang-mini...                    0.0   \n",
       "69   https://www.lazada.vn/products/xdqg-headband-r...                    0.0   \n",
       "70   https://www.lazada.vn/products/fnmt-replacemen...                    0.0   \n",
       "71   https://www.lazada.vn/products/tai-nghe-blueto...                    0.0   \n",
       "72   https://www.lazada.vn/products/mmexpansion-min...                    0.0   \n",
       "73   https://www.lazada.vn/products/serina-chat-luo...                    0.0   \n",
       "74   https://www.lazada.vn/products/tai-nghe-disney...                    0.0   \n",
       "75   https://www.lazada.vn/products/qindalle-mini-m...                    0.0   \n",
       "77   https://www.lazada.vn/products/tai-nghe-p47-st...                    0.0   \n",
       "120  https://www.lazada.vn/products/tai-nghe-blueto...                    0.0   \n",
       "121  https://www.lazada.vn/products/tai-nghe-blueto...                    0.0   \n",
       "122  https://www.lazada.vn/products/q86-retro-camer...                    0.0   \n",
       "123  https://www.lazada.vn/products/retro-tai-nghe-...                    0.0   \n",
       "124  https://www.lazada.vn/products/tai-nghe-tro-ch...                    0.0   \n",
       "125  https://www.lazada.vn/products/tai-nghe-choi-g...                    0.0   \n",
       "126  https://www.lazada.vn/products/tai-nghe-khong-...                    0.0   \n",
       "\n",
       "           countReviews location_of_product quantity_sold review_count  \n",
       "40                China               China             5          NaN  \n",
       "41           Nước ngoài          Nước ngoài             5          NaN  \n",
       "42                China               China             5          NaN  \n",
       "43                China               China             5          NaN  \n",
       "44    210 Đã bán\\nChina               China           210          NaN  \n",
       "45                China               China             5          NaN  \n",
       "46                China               China             5          NaN  \n",
       "47   1.5K Đã bán\\nChina               China        1500.0          NaN  \n",
       "49     26 Đã bán\\nChina               China            26          NaN  \n",
       "50                China               China             5          NaN  \n",
       "51                China               China             5          NaN  \n",
       "52    391 Đã bán\\nChina               China           391          NaN  \n",
       "53                China               China             5          NaN  \n",
       "54                China               China             5          NaN  \n",
       "55     60 Đã bán\\nChina               China            60          NaN  \n",
       "56     18 Đã bán\\nChina               China            18          NaN  \n",
       "57                China               China             5          NaN  \n",
       "58                China               China             5          NaN  \n",
       "59                China               China             5          NaN  \n",
       "60                China               China             5          NaN  \n",
       "61                China               China             5          NaN  \n",
       "62                China               China             5          NaN  \n",
       "64                China               China             5          NaN  \n",
       "66                China               China             5          NaN  \n",
       "67                China               China             5          NaN  \n",
       "69                China               China             5          NaN  \n",
       "70                China               China             5          NaN  \n",
       "71    442 Đã bán\\nChina               China           442          NaN  \n",
       "72                China               China             5          NaN  \n",
       "73                China               China             5          NaN  \n",
       "74     53 Đã bán\\nChina               China            53          NaN  \n",
       "75                China               China             5          NaN  \n",
       "77     49 Đã bán\\nChina               China            49          NaN  \n",
       "120   133 Đã bán\\nChina               China           133          NaN  \n",
       "121   391 Đã bán\\nChina               China           391          NaN  \n",
       "122    50 Đã bán\\nChina               China            50          NaN  \n",
       "123     5 Đã bán\\nChina               China             5          NaN  \n",
       "124    76 Đã bán\\nChina               China            76          NaN  \n",
       "125    53 Đã bán\\nChina               China            53          NaN  \n",
       "126    25 Đã bán\\nChina               China            25          NaN  "
      ]
     },
     "execution_count": 27,
     "metadata": {},
     "output_type": "execute_result"
    }
   ],
   "source": [
    "df[df.duplicated()]"
   ]
  },
  {
   "cell_type": "markdown",
   "id": "19d62e98eca47059",
   "metadata": {},
   "source": [
    "Luckily, there are no duplicates for our datasets. So, it's good enough for some exploratory data analysis."
   ]
  },
  {
   "cell_type": "markdown",
   "id": "955d8b93893653db",
   "metadata": {},
   "source": [
    "# EDAS"
   ]
  },
  {
   "cell_type": "markdown",
   "id": "d7f54c0a3b67b860",
   "metadata": {},
   "source": [
    "## *Univariate analysis*"
   ]
  },
  {
   "cell_type": "markdown",
   "id": "2a7984f6f9a9c4d0",
   "metadata": {},
   "source": [
    "### Price"
   ]
  },
  {
   "cell_type": "markdown",
   "id": "eb13717ad197325b",
   "metadata": {},
   "source": [
    "For visualizing the price of each item, it's best to use histogram or box plot to serve this purpose."
   ]
  },
  {
   "cell_type": "code",
   "execution_count": 28,
   "id": "c707f0cf3cc094cc",
   "metadata": {
    "ExecuteTime": {
     "end_time": "2024-05-25T10:47:02.426Z",
     "start_time": "2024-05-25T10:47:01.574927Z"
    }
   },
   "outputs": [
    {
     "data": {
      "image/png": "[encoded data removed]",
      "text/plain": [
       "<Figure size 1200x800 with 2 Axes>"
      ]
     },
     "metadata": {},
     "output_type": "display_data"
    }
   ],
   "source": [
    "fig, axs = plt.subplots(2, 1, figsize = (12, 8))\n",
    "sns.boxplot(df['price'], ax = axs[0], color = 'green')\n",
    "axs[0].set_title('IQR Chart for product\\'s price')\n",
    "sns.distplot(df['price'], ax = axs[1], color = 'green', kde = True, bins = 50)\n",
    "axs[1].set_title('Distribution of product\\'s price')\n",
    "plt.tight_layout()"
   ]
  },
  {
   "cell_type": "markdown",
   "id": "429c4e8a8beb27d",
   "metadata": {},
   "source": [
    "For the box plot:\n",
    "- The majority of the earphone prices are clustered near the lower end of the price range, indicating that most earphones on Lazada are relatively cheap.\n",
    "- There are some earphones with prices significantly higher than the majority, as shown by the long whisker extending to the right.\n",
    "- There are a few outliers represented by individual points along this whisker, indicating that there are a few earphones that are priced much higher than the rest.\n",
    "\n",
    "For the histogram:\n",
    "- Most earphone prices are concentrated at the lower end, with a peak just before 0.25 on the x-axis labeled ‘price’. This again suggests that most earphones on Lazada are relatively cheap.\n",
    "- The tail of the distribution extends towards higher prices but drops off quickly, suggesting that high-priced earphones are much less common.\n",
    "\n",
    "This indicates that there is a wide range of earphone prices on Lazada, but most of them are at the lower end of the spectrum."
   ]
  },
  {
   "cell_type": "markdown",
   "id": "f0543ef5025159d3",
   "metadata": {},
   "source": [
    "### Discount percent"
   ]
  },
  {
   "cell_type": "code",
   "execution_count": 29,
   "id": "bc861049bf91ed1f",
   "metadata": {
    "ExecuteTime": {
     "end_time": "2024-05-25T12:27:00.114854Z",
     "start_time": "2024-05-25T12:26:59.282959Z"
    }
   },
   "outputs": [
    {
     "data": {
      "image/png": "[encoded data removed]",
      "text/plain": [
       "<Figure size 1200x800 with 2 Axes>"
      ]
     },
     "metadata": {},
     "output_type": "display_data"
    }
   ],
   "source": [
    "fig, axs = plt.subplots(2, 1, figsize = (12, 8))\n",
    "sns.boxplot(df['discount_percent_list'], ax = axs[0], color = 'green')\n",
    "axs[0].set_title('IQR Chart for product\\'s discounts')\n",
    "sns.distplot(df['discount_percent_list'], ax = axs[1], color = 'green', kde = True, bins = 50)\n",
    "axs[1].set_title('Distribution of product\\'s discounts')\n",
    "plt.tight_layout()"
   ]
  },
  {
   "cell_type": "markdown",
   "id": "b67038ec95f3230c",
   "metadata": {},
   "source": [
    "For the box plot:\n",
    "- The majority of the discounts are concentrated in a relatively narrow range, indicating that most earphones on Lazada have similar discount percentages.\n",
    "- The median discount percentage is around 0.2 or 20%, indicated by the line within the green box.\n",
    "- There are several data points beyond the upper whisker that could be considered outliers, indicating that there are a few earphones that have much higher discounts than the rest.\n",
    "\n",
    "For the density plot:\n",
    "- There is a high frequency of products with very low discounts (close to 0%), and then there’s a gradual increase in frequency peaking around 20% before tapering off again.\n",
    "- This suggests that while most products have modest discounts, there are quite a few with very low or no discounts at all.\n",
    "\n",
    "Both graphs provide insights into how earphone discounts vary on Lazada, highlighting that while there is a wide range of discounts available, most products fall within a similar discount percentage with fewer options offering high discounts."
   ]
  },
  {
   "cell_type": "markdown",
   "id": "f7ba89ef13c294fb",
   "metadata": {},
   "source": [
    "### Quantity sold"
   ]
  },
  {
   "cell_type": "code",
   "execution_count": 30,
   "id": "3459bb24a30fdf41",
   "metadata": {
    "ExecuteTime": {
     "end_time": "2024-05-25T16:12:15.227727Z",
     "start_time": "2024-05-25T16:12:14.298547Z"
    }
   },
   "outputs": [
    {
     "data": {
      "image/png": "[encoded data removed]",
      "text/plain": [
       "<Figure size 1200x800 with 2 Axes>"
      ]
     },
     "metadata": {},
     "output_type": "display_data"
    }
   ],
   "source": [
    "# Cast type\n",
    "df['quantity_sold'] = df['quantity_sold'].astype(int)\n",
    "\n",
    "fig, axs = plt.subplots(2, 1, figsize = (12, 8))\n",
    "sns.boxplot(df['quantity_sold'], ax = axs[0], color = 'green')\n",
    "axs[0].set_title('IQR Chart for product\\'s quantity sold')\n",
    "sns.distplot(df['quantity_sold'], ax = axs[1], color = 'green', kde = True, bins = 50)\n",
    "axs[1].set_title('Distribution of product\\'s quantity sold')\n",
    "plt.tight_layout()"
   ]
  },
  {
   "cell_type": "markdown",
   "id": "988e91d2e9ff6835",
   "metadata": {},
   "source": [
    "For the box plot:\n",
    "- The majority of the earphones on Lazada have similar sales quantities, as indicated by the main box of the plot.\n",
    "- There are numerous data points beyond the whiskers, which are considered outliers. This indicates that there are a few earphones that have much higher sales quantities than the rest.\n",
    "\n",
    "For the density plot:\n",
    "- The distribution curve peaks close to zero with a long right tail, indicating that most of the earphones have low sales quantities.\n",
    "- However, there are some instances with very high sales, as indicated by the long tail of the distribution.\n",
    "\n",
    "Both graphs provide insights into how earphone sales on Lazada are distributed, highlighting that while most products sell in smaller quantities, there are exceptions with significantly higher sales. This information could be relevant for analyzing sales performance or inventory management."
   ]
  },
  {
   "cell_type": "markdown",
   "id": "65079e0c7a0bf34b",
   "metadata": {},
   "source": [
    "### Reviews count"
   ]
  },
  {
   "cell_type": "code",
   "execution_count": null,
   "id": "8cc9ed94f1ccf522",
   "metadata": {
    "ExecuteTime": {
     "end_time": "2024-05-25T16:46:14.392995Z",
     "start_time": "2024-05-25T16:46:13.244399Z"
    }
   },
   "outputs": [],
   "source": [
    "# Cast type\n",
    "df['review_count'] = df['review_count'].astype(int)\n",
    "\n",
    "fig, axs = plt.subplots(2, 1, figsize = (12, 8))\n",
    "sns.boxplot(df['review_count'], ax = axs[0], color = 'green')\n",
    "axs[0].set_title('IQR Chart for product\\'s review count')\n",
    "sns.distplot(df['review_count'], ax = axs[1], color = 'green', kde = True, bins = 50)\n",
    "axs[1].set_title('Distribution of product\\'s review count')\n",
    "plt.tight_layout()"
   ]
  },
  {
   "cell_type": "markdown",
   "id": "56b3ca44d4259b40",
   "metadata": {},
   "source": [
    "For the box plot:\n",
    "- The majority of the earphones on Lazada have similar counts of reviews, as indicated by the main box of the plot.\n",
    "- There are numerous data points beyond the whiskers, which are considered outliers. This indicates that there are a few earphones that have much higher counts of reviews than the rest.\n",
    "\n",
    "For the density plot:\n",
    "- The distribution curve peaks sharply near the lower end, indicating that most of the earphones have a low count of reviews.\n",
    "- However, there are some instances with very high counts of reviews, as indicated by the long tail of the distribution.\n",
    "\n",
    "Both graphs provide insights into how the count of reviews for earphones on Lazada are distributed, highlighting that while most products have fewer reviews, there are exceptions with significantly higher counts of reviews. This information could be relevant for analyzing customer feedback or product popularity."
   ]
  },
  {
   "cell_type": "markdown",
   "id": "263412a8af0b94a2",
   "metadata": {},
   "source": [
    "### Location of products"
   ]
  },
  {
   "cell_type": "code",
   "execution_count": 32,
   "id": "51f025822db4a191",
   "metadata": {
    "ExecuteTime": {
     "end_time": "2024-05-25T16:52:19.972932Z",
     "start_time": "2024-05-25T16:52:19.143678Z"
    }
   },
   "outputs": [
    {
     "data": {
      "image/png": "[encoded data removed]",
      "text/plain": [
       "<Figure size 3000x1200 with 1 Axes>"
      ]
     },
     "metadata": {},
     "output_type": "display_data"
    }
   ],
   "source": [
    "plt.figure(figsize = (30, 12))\n",
    "ax = sns.countplot(df['location_of_product'], palette = 'coolwarm')\n",
    "for p in ax.patches:\n",
    "    ax.annotate(format(p.get_height(), '.0f'),\n",
    "                (p.get_x() + p.get_width() / 2,\n",
    "                 p.get_height()), ha = 'center', va = 'center',\n",
    "                size = 10, xytext = (0, 3),\n",
    "                textcoords = 'offset points')\n",
    "plt.title('Frequency distribution of product\\'s location')\n",
    "plt.xlabel('Location')\n",
    "plt.ylabel('Frequency')\n",
    "plt.tight_layout()"
   ]
  },
  {
   "cell_type": "markdown",
   "id": "fb359c524ec455b6",
   "metadata": {},
   "source": [
    "From this graph, we can clearly see that most earphones on platform are not located within the territory of Vietnam. There might be a significant number of international sellers on Lazada Vietnam who are selling their products in the country. This could be due to the global nature of e-commerce platforms which allows sellers from around the world to list their products. \n",
    "\n",
    "Second in the list is Ho Chi Minh city, which indicates that most earphones are stocked in Ho Chi Minh city. This is due to the fact that Ho Chi Minh city is Vietnam's leading economic and technological city. "
   ]
  },
  {
   "cell_type": "markdown",
   "id": "75d158fff2f04e3f",
   "metadata": {},
   "source": [
    "## *Bivariate analysis*"
   ]
  },
  {
   "cell_type": "code",
   "execution_count": 33,
   "id": "235e3021a5f7226f",
   "metadata": {
    "ExecuteTime": {
     "end_time": "2024-05-25T17:18:00.549260Z",
     "start_time": "2024-05-25T17:17:59.188887Z"
    }
   },
   "outputs": [
    {
     "data": {
      "image/png": "[encoded data removed]",
      "text/plain": [
       "<Figure size 1500x500 with 3 Axes>"
      ]
     },
     "metadata": {},
     "output_type": "display_data"
    }
   ],
   "source": [
    "cols = ['discount_percent_list', 'quantity_sold', 'review_count']\n",
    "fig, axs = plt.subplots(1, 3, figsize = (15, 5))\n",
    "for i, col in enumerate(cols):\n",
    "    sns.scatterplot(data = df, x = 'price', y = col, ax = axs[i])\n",
    "    axs[i].set_title(f'Scatterplot between price and {col}')\n",
    "    axs[i].set_xlabel('Price')\n",
    "    axs[i].set_ylabel(col)\n",
    "plt.tight_layout()"
   ]
  },
  {
   "cell_type": "markdown",
   "id": "4f75de5ebd848c27",
   "metadata": {},
   "source": [
    "The first graph is a scatter plot between **Price** and **Discount Percent**. Here are some observations:\n",
    "- The data points are concentrated mostly at the lower end of both axes, indicating that earphones with lower prices tend to have a higher percentage of discounts.\n",
    "- There is a visible decrease in discount percentage as the price increases, suggesting that more expensive earphones may have smaller relative discounts.\n",
    "\n",
    "The second graph is a scatter plot between **Price** and **Quantity Sold**. Here are some observations:\n",
    "- The majority of data points are clustered near the origin, showing that earphones with lower prices have higher sales quantities.\n",
    "- There is a sharp decline in quantity sold as price increases, which could imply that customers prefer more affordable options when it comes to purchasing earphones.\n",
    "\n",
    "The third graph is a scatter plot between **Price** and **Review Count**. Here are some observations:\n",
    "- There is a high concentration of data points near the bottom left corner, indicating that cheaper earphones receive more reviews.\n",
    "- As with quantity sold, review count also decreases as price increases.\n",
    "\n",
    "Each plot provides insights into consumer behavior related to earphone purchases on Lazada: customers tend to favor affordability as indicated by higher discount percentages, greater quantities sold, and more reviews for less expensive options. This suggests that price is a significant factor influencing purchase decisions for earphones in this marketplace."
   ]
  },
  {
   "cell_type": "code",
   "execution_count": 34,
   "id": "c3c9f2ff41a7c8dd",
   "metadata": {
    "ExecuteTime": {
     "end_time": "2024-05-25T17:21:37.384712Z",
     "start_time": "2024-05-25T17:21:36.499607Z"
    }
   },
   "outputs": [
    {
     "data": {
      "text/plain": [
       "Text(0, 0.5, 'Price')"
      ]
     },
     "execution_count": 34,
     "metadata": {},
     "output_type": "execute_result"
    },
    {
     "data": {
      "image/png": "[encoded data removed]",
      "text/plain": [
       "<Figure size 3000x1200 with 1 Axes>"
      ]
     },
     "metadata": {},
     "output_type": "display_data"
    }
   ],
   "source": [
    "temp = df.groupby('location_of_product')['price'].mean().sort_index().reset_index()\n",
    "plt.figure(figsize = (30, 12))\n",
    "sns.barplot(data = temp,\n",
    "            x = 'location_of_product', y = 'price', palette = 'coolwarm')\n",
    "plt.title('Average price of product\\'s location', fontweight = 'bold', fontsize = 30)\n",
    "plt.xlabel('Location')\n",
    "plt.ylabel('Price')"
   ]
  },
  {
   "cell_type": "markdown",
   "id": "68cfd42553581b45",
   "metadata": {},
   "source": [
    "From this bar plot, we can clearly see Binh Dinh, Hai Phong and Thai Binh have the highest average price for earphone products on Lazada. This comes from the fact that warehouses are located here, but since the demand is higher elsewhere, thus leading to prices higher due to the distance travelled between warehouses and customers' homes. Whereas, Khanh Hoa, Vinh Phuc and Ba Ria - Vung Tau have the lowest average price for earphone products. This can be explained by the low demand for this kind of product in those three provinces."
   ]
  },
  {
   "cell_type": "code",
   "execution_count": 35,
   "id": "e2f8e5ea1a423df1",
   "metadata": {
    "ExecuteTime": {
     "end_time": "2024-05-25T17:22:21.155048Z",
     "start_time": "2024-05-25T17:22:20.326169Z"
    }
   },
   "outputs": [
    {
     "data": {
      "text/plain": [
       "Text(0, 0.5, 'Price')"
      ]
     },
     "execution_count": 35,
     "metadata": {},
     "output_type": "execute_result"
    },
    {
     "data": {
      "image/png": "[encoded data removed]",
      "text/plain": [
       "<Figure size 3000x1200 with 1 Axes>"
      ]
     },
     "metadata": {},
     "output_type": "display_data"
    }
   ],
   "source": [
    "temp = df.groupby('location_of_product')['quantity_sold'].mean().sort_index().reset_index()\n",
    "plt.figure(figsize = (30, 12))\n",
    "sns.barplot(data = temp,\n",
    "            x = 'location_of_product', y = 'quantity_sold', palette = 'coolwarm')\n",
    "plt.title('Average quantity sold of product\\'s location', fontweight = 'bold', fontsize = 30)\n",
    "plt.xlabel('Location')\n",
    "plt.ylabel('Price')"
   ]
  },
  {
   "cell_type": "markdown",
   "id": "eacbca1370b37987",
   "metadata": {},
   "source": [
    "It's clear to see that Hai Duong had way more earphones being sold on Lazada than any other provinces combined. This may come from the fact that many retailers in Hai Duong chose Lazada as the platform for selling their earphone products rather than other provinces."
   ]
  },
  {
   "cell_type": "code",
   "execution_count": null,
   "id": "58351b3001b6fa6d",
   "metadata": {
    "ExecuteTime": {
     "end_time": "2024-05-25T17:22:57.213514Z",
     "start_time": "2024-05-25T17:22:56.311609Z"
    }
   },
   "outputs": [],
   "source": [
    "temp = df.groupby('location_of_product')['review_count'].mean().sort_index().reset_index()\n",
    "plt.figure(figsize = (30, 12))\n",
    "sns.barplot(data = temp,\n",
    "            x = 'location_of_product', y = 'review_count', palette = 'coolwarm')\n",
    "plt.title('Average review count by product\\'s location', fontweight = 'bold', fontsize = 30)\n",
    "plt.xlabel('Location')\n",
    "plt.ylabel('Price')"
   ]
  },
  {
   "cell_type": "markdown",
   "id": "a3f47ce5ded4638f",
   "metadata": {},
   "source": [
    "Again, Hai Duong had way more reviews on earphone products than any other locations combined. Thus, we can clearly see that Hai Duong had dominated the earphone market by being able to sell a lot of this product, thus leading to the fact that there were a lot of reviews on the earphone products from Hai Duong "
   ]
  },
  {
   "cell_type": "markdown",
   "id": "f491ce426a311744",
   "metadata": {},
   "source": [
    "## *Multivariate analysis*"
   ]
  },
  {
   "cell_type": "markdown",
   "id": "667a44c927bf7161",
   "metadata": {},
   "source": [
    "Speaking of correlations, it's best to view it using heatmaps."
   ]
  },
  {
   "cell_type": "code",
   "execution_count": 37,
   "id": "7e12c638b5c0f52f",
   "metadata": {
    "ExecuteTime": {
     "end_time": "2024-05-25T17:24:43.442095Z",
     "start_time": "2024-05-25T17:24:43.037193Z"
    }
   },
   "outputs": [
    {
     "data": {
      "text/plain": [
       "<Axes: >"
      ]
     },
     "execution_count": 37,
     "metadata": {},
     "output_type": "execute_result"
    },
    {
     "data": {
      "image/png": "[encoded data removed]",
      "text/plain": [
       "<Figure size 640x480 with 2 Axes>"
      ]
     },
     "metadata": {},
     "output_type": "display_data"
    }
   ],
   "source": [
    "sns.heatmap(df.drop(columns = ['title', 'link_item', 'countReviews', 'location_of_product']).corr(), annot = True, cmap = 'coolwarm', linewidth = 1, linecolor = 'white')"
   ]
  },
  {
   "cell_type": "markdown",
   "id": "3904772075120973",
   "metadata": {},
   "source": [
    "Here are some insights:\n",
    "\n",
    "1. **Strong Positive Correlation between Quantity Sold and Review Count (0.94)**: This suggests that as more earphones are sold, the number of reviews increases correspondingly. This could be because customers are more likely to leave a review after purchasing a product.\n",
    "\n",
    "2. **Negative Correlation between Price and Discount Percent List (-0.29)**: This indicates that higher prices might be associated with lower discounts. This could be because sellers are less likely to offer large discounts on expensive items.\n",
    "\n",
    "3. **Negative Correlation between Price and Quantity Sold (-0.087)**: This suggests that higher prices could potentially lead to fewer sales. This is a common trend in retail where customers are more likely to purchase items that are priced lower.\n",
    "\n",
    "4. **Almost No Correlation between Discount Percent List and Quantity Sold (0.0099)**: This implies that the amount of discount doesn't significantly affect how many units are sold. This could be because other factors, such as product quality or brand reputation, may be more important to customers than the discount amount."
   ]
  },
  {
   "cell_type": "markdown",
   "id": "575e5368e5875ec3",
   "metadata": {},
   "source": [
    "# Feature engineering and Data preprocessing"
   ]
  },
  {
   "cell_type": "markdown",
   "id": "d2d85354ca6b8405",
   "metadata": {},
   "source": [
    "## *Feature engineering*\n",
    "\n",
    "We can additionally extract from products' title \n",
    "- If the earphones/headphones have bluetooth connection or not. To do so, we can check from the products' title if it does mention the 'Bluetooth' phrase or not.\n",
    "- If the earphones/headphones belong to gaming lines or not. To do so, we can check from the products' title if it contains the phrase 'gaming' or 'chơi game' or not.\n",
    "- If the earphones/headphones are wireless or not. To do so, we can check from the products' title if it contains the phrase 'có dây' or not.\n",
    "- If the earphones/headphones have microphone or not. To do so, we can check from the products' title if it contains the phrase 'mic' or not."
   ]
  },
  {
   "cell_type": "code",
   "execution_count": null,
   "id": "aa61414b796041d9",
   "metadata": {
    "ExecuteTime": {
     "end_time": "2024-05-26T01:12:49.093883Z",
     "start_time": "2024-05-26T01:12:49.025803Z"
    }
   },
   "outputs": [
    {
     "data": {
      "text/html": [
       "<div>\n",
       "<style scoped>\n",
       "    .dataframe tbody tr th:only-of-type {\n",
       "        vertical-align: middle;\n",
       "    }\n",
       "\n",
       "    .dataframe tbody tr th {\n",
       "        vertical-align: top;\n",
       "    }\n",
       "\n",
       "    .dataframe thead th {\n",
       "        text-align: right;\n",
       "    }\n",
       "</style>\n",
       "<table border=\"1\" class=\"dataframe\">\n",
       "  <thead>\n",
       "    <tr style=\"text-align: right;\">\n",
       "      <th></th>\n",
       "      <th>title</th>\n",
       "      <th>price</th>\n",
       "      <th>link_item</th>\n",
       "      <th>discount_percent_list</th>\n",
       "      <th>countReviews</th>\n",
       "      <th>quantity_sold</th>\n",
       "      <th>review_count</th>\n",
       "      <th>location_of_product</th>\n",
       "      <th>isBluetooth</th>\n",
       "      <th>isGaming</th>\n",
       "      <th>isNotWireless</th>\n",
       "      <th>hasMic</th>\n",
       "    </tr>\n",
       "  </thead>\n",
       "  <tbody>\n",
       "    <tr>\n",
       "      <th>0</th>\n",
       "      <td>1-10PCS Tai Nghe Tai Nghe 2 Chấu MIC PTT Cho B...</td>\n",
       "      <td>151000</td>\n",
       "      <td>https://www.lazada.vn/products/1-10pcs-tai-ngh...</td>\n",
       "      <td>0.33</td>\n",
       "      <td>528 Đã bán\\n(12)\\nNước ngoài</td>\n",
       "      <td>528</td>\n",
       "      <td>12</td>\n",
       "      <td>Nước ngoài</td>\n",
       "      <td>False</td>\n",
       "      <td>False</td>\n",
       "      <td>False</td>\n",
       "      <td>True</td>\n",
       "    </tr>\n",
       "    <tr>\n",
       "      <th>1</th>\n",
       "      <td>Tai nghe có dây nhét tai cho điện thoại có mic...</td>\n",
       "      <td>39000</td>\n",
       "      <td>https://www.lazada.vn/products/tai-nghe-co-day...</td>\n",
       "      <td>0.35</td>\n",
       "      <td>948 Đã bán\\n(275)\\nHà Nội</td>\n",
       "      <td>948</td>\n",
       "      <td>275</td>\n",
       "      <td>Hà Nội</td>\n",
       "      <td>False</td>\n",
       "      <td>False</td>\n",
       "      <td>True</td>\n",
       "      <td>True</td>\n",
       "    </tr>\n",
       "    <tr>\n",
       "      <th>2</th>\n",
       "      <td>Tai nghe chụp tai bluetooth 5.0 không dây có â...</td>\n",
       "      <td>81000</td>\n",
       "      <td>https://www.lazada.vn/products/tai-nghe-chup-t...</td>\n",
       "      <td>0.23</td>\n",
       "      <td>926 Đã bán\\n(280)\\nHồ Chí Minh</td>\n",
       "      <td>926</td>\n",
       "      <td>280</td>\n",
       "      <td>Hồ Chí Minh</td>\n",
       "      <td>True</td>\n",
       "      <td>False</td>\n",
       "      <td>False</td>\n",
       "      <td>False</td>\n",
       "    </tr>\n",
       "    <tr>\n",
       "      <th>3</th>\n",
       "      <td>Tai Nghe Gaming Nhét Tai Plextone G25 Micro Lọ...</td>\n",
       "      <td>219000</td>\n",
       "      <td>https://www.lazada.vn/products/tai-nghe-gaming...</td>\n",
       "      <td>0.37</td>\n",
       "      <td>122 Đã bán\\n(33)\\nHồ Chí Minh</td>\n",
       "      <td>122</td>\n",
       "      <td>33</td>\n",
       "      <td>Hồ Chí Minh</td>\n",
       "      <td>False</td>\n",
       "      <td>True</td>\n",
       "      <td>False</td>\n",
       "      <td>True</td>\n",
       "    </tr>\n",
       "    <tr>\n",
       "      <th>4</th>\n",
       "      <td>Tai nghe Cho Samsung Galaxy ACE, A3, A5, A6, A...</td>\n",
       "      <td>14500</td>\n",
       "      <td>https://www.lazada.vn/products/tai-nghe-cho-sa...</td>\n",
       "      <td>0.28</td>\n",
       "      <td>1.9K Đã bán\\n(260)\\nHồ Chí Minh</td>\n",
       "      <td>1900</td>\n",
       "      <td>260</td>\n",
       "      <td>Hồ Chí Minh</td>\n",
       "      <td>False</td>\n",
       "      <td>False</td>\n",
       "      <td>False</td>\n",
       "      <td>False</td>\n",
       "    </tr>\n",
       "  </tbody>\n",
       "</table>\n",
       "</div>"
      ],
      "text/plain": [
       "                                               title   price  \\\n",
       "0  1-10PCS Tai Nghe Tai Nghe 2 Chấu MIC PTT Cho B...  151000   \n",
       "1  Tai nghe có dây nhét tai cho điện thoại có mic...   39000   \n",
       "2  Tai nghe chụp tai bluetooth 5.0 không dây có â...   81000   \n",
       "3  Tai Nghe Gaming Nhét Tai Plextone G25 Micro Lọ...  219000   \n",
       "4  Tai nghe Cho Samsung Galaxy ACE, A3, A5, A6, A...   14500   \n",
       "\n",
       "                                           link_item  discount_percent_list  \\\n",
       "0  https://www.lazada.vn/products/1-10pcs-tai-ngh...                   0.33   \n",
       "1  https://www.lazada.vn/products/tai-nghe-co-day...                   0.35   \n",
       "2  https://www.lazada.vn/products/tai-nghe-chup-t...                   0.23   \n",
       "3  https://www.lazada.vn/products/tai-nghe-gaming...                   0.37   \n",
       "4  https://www.lazada.vn/products/tai-nghe-cho-sa...                   0.28   \n",
       "\n",
       "                      countReviews  quantity_sold  review_count  \\\n",
       "0     528 Đã bán\\n(12)\\nNước ngoài            528            12   \n",
       "1        948 Đã bán\\n(275)\\nHà Nội            948           275   \n",
       "2   926 Đã bán\\n(280)\\nHồ Chí Minh            926           280   \n",
       "3    122 Đã bán\\n(33)\\nHồ Chí Minh            122            33   \n",
       "4  1.9K Đã bán\\n(260)\\nHồ Chí Minh           1900           260   \n",
       "\n",
       "  location_of_product  isBluetooth  isGaming  isNotWireless  hasMic  \n",
       "0          Nước ngoài        False     False          False    True  \n",
       "1              Hà Nội        False     False           True    True  \n",
       "2         Hồ Chí Minh         True     False          False   False  \n",
       "3         Hồ Chí Minh        False      True          False    True  \n",
       "4         Hồ Chí Minh        False     False          False   False  "
      ]
     },
     "execution_count": 96,
     "metadata": {},
     "output_type": "execute_result"
    }
   ],
   "source": [
    "df['isBluetooth'] = df['title'].str.contains('Bluetooth', case = False, na = False)\n",
    "df['isGaming'] = df['title'].str.contains('gaming|chơi game', case = False, na = False)\n",
    "df['isNotWireless'] = df['title'].str.contains('có dây', case = False, na = False)\n",
    "df['hasMic'] = df['title'].str.contains('mic', case = False, na = False)\n",
    "df.head()"
   ]
  },
  {
   "cell_type": "markdown",
   "id": "142e400dd56f6dc0",
   "metadata": {},
   "source": [
    "And since we cannot extract any information more than that, we can drop these rows out from the dataset."
   ]
  },
  {
   "cell_type": "code",
   "execution_count": null,
   "id": "9dc3418edfaf2684",
   "metadata": {
    "ExecuteTime": {
     "end_time": "2024-05-26T01:14:40.656718Z",
     "start_time": "2024-05-26T01:14:40.612528Z"
    }
   },
   "outputs": [
    {
     "data": {
      "text/html": [
       "<div>\n",
       "<style scoped>\n",
       "    .dataframe tbody tr th:only-of-type {\n",
       "        vertical-align: middle;\n",
       "    }\n",
       "\n",
       "    .dataframe tbody tr th {\n",
       "        vertical-align: top;\n",
       "    }\n",
       "\n",
       "    .dataframe thead th {\n",
       "        text-align: right;\n",
       "    }\n",
       "</style>\n",
       "<table border=\"1\" class=\"dataframe\">\n",
       "  <thead>\n",
       "    <tr style=\"text-align: right;\">\n",
       "      <th></th>\n",
       "      <th>price</th>\n",
       "      <th>link_item</th>\n",
       "      <th>discount_percent_list</th>\n",
       "      <th>quantity_sold</th>\n",
       "      <th>review_count</th>\n",
       "      <th>location_of_product</th>\n",
       "      <th>isBluetooth</th>\n",
       "      <th>isGaming</th>\n",
       "      <th>isNotWireless</th>\n",
       "      <th>hasMic</th>\n",
       "    </tr>\n",
       "  </thead>\n",
       "  <tbody>\n",
       "    <tr>\n",
       "      <th>0</th>\n",
       "      <td>151000</td>\n",
       "      <td>https://www.lazada.vn/products/1-10pcs-tai-ngh...</td>\n",
       "      <td>0.33</td>\n",
       "      <td>528</td>\n",
       "      <td>12</td>\n",
       "      <td>Nước ngoài</td>\n",
       "      <td>False</td>\n",
       "      <td>False</td>\n",
       "      <td>False</td>\n",
       "      <td>True</td>\n",
       "    </tr>\n",
       "    <tr>\n",
       "      <th>1</th>\n",
       "      <td>39000</td>\n",
       "      <td>https://www.lazada.vn/products/tai-nghe-co-day...</td>\n",
       "      <td>0.35</td>\n",
       "      <td>948</td>\n",
       "      <td>275</td>\n",
       "      <td>Hà Nội</td>\n",
       "      <td>False</td>\n",
       "      <td>False</td>\n",
       "      <td>True</td>\n",
       "      <td>True</td>\n",
       "    </tr>\n",
       "    <tr>\n",
       "      <th>2</th>\n",
       "      <td>81000</td>\n",
       "      <td>https://www.lazada.vn/products/tai-nghe-chup-t...</td>\n",
       "      <td>0.23</td>\n",
       "      <td>926</td>\n",
       "      <td>280</td>\n",
       "      <td>Hồ Chí Minh</td>\n",
       "      <td>True</td>\n",
       "      <td>False</td>\n",
       "      <td>False</td>\n",
       "      <td>False</td>\n",
       "    </tr>\n",
       "    <tr>\n",
       "      <th>3</th>\n",
       "      <td>219000</td>\n",
       "      <td>https://www.lazada.vn/products/tai-nghe-gaming...</td>\n",
       "      <td>0.37</td>\n",
       "      <td>122</td>\n",
       "      <td>33</td>\n",
       "      <td>Hồ Chí Minh</td>\n",
       "      <td>False</td>\n",
       "      <td>True</td>\n",
       "      <td>False</td>\n",
       "      <td>True</td>\n",
       "    </tr>\n",
       "    <tr>\n",
       "      <th>4</th>\n",
       "      <td>14500</td>\n",
       "      <td>https://www.lazada.vn/products/tai-nghe-cho-sa...</td>\n",
       "      <td>0.28</td>\n",
       "      <td>1900</td>\n",
       "      <td>260</td>\n",
       "      <td>Hồ Chí Minh</td>\n",
       "      <td>False</td>\n",
       "      <td>False</td>\n",
       "      <td>False</td>\n",
       "      <td>False</td>\n",
       "    </tr>\n",
       "  </tbody>\n",
       "</table>\n",
       "</div>"
      ],
      "text/plain": [
       "    price                                          link_item  \\\n",
       "0  151000  https://www.lazada.vn/products/1-10pcs-tai-ngh...   \n",
       "1   39000  https://www.lazada.vn/products/tai-nghe-co-day...   \n",
       "2   81000  https://www.lazada.vn/products/tai-nghe-chup-t...   \n",
       "3  219000  https://www.lazada.vn/products/tai-nghe-gaming...   \n",
       "4   14500  https://www.lazada.vn/products/tai-nghe-cho-sa...   \n",
       "\n",
       "   discount_percent_list  quantity_sold  review_count location_of_product  \\\n",
       "0                   0.33            528            12          Nước ngoài   \n",
       "1                   0.35            948           275              Hà Nội   \n",
       "2                   0.23            926           280         Hồ Chí Minh   \n",
       "3                   0.37            122            33         Hồ Chí Minh   \n",
       "4                   0.28           1900           260         Hồ Chí Minh   \n",
       "\n",
       "   isBluetooth  isGaming  isNotWireless  hasMic  \n",
       "0        False     False          False    True  \n",
       "1        False     False           True    True  \n",
       "2         True     False          False   False  \n",
       "3        False      True          False    True  \n",
       "4        False     False          False   False  "
      ]
     },
     "execution_count": 97,
     "metadata": {},
     "output_type": "execute_result"
    }
   ],
   "source": [
    "df = df.drop(columns = ['title', 'countReviews'])\n",
    "df.head()"
   ]
  },
  {
   "cell_type": "markdown",
   "id": "5906f326baa3d824",
   "metadata": {},
   "source": [
    "Length of products' name is also one factor worth considering. To extract it, we can use the information from the `link_item`.\n",
    "\n",
    "Another factor that can be considered is length of URL, or length of `link_item`"
   ]
  },
  {
   "cell_type": "code",
   "execution_count": null,
   "id": "bc73858802e009d8",
   "metadata": {
    "ExecuteTime": {
     "end_time": "2024-05-26T01:21:39.556408Z",
     "start_time": "2024-05-26T01:21:39.500873Z"
    }
   },
   "outputs": [
    {
     "data": {
      "text/html": [
       "<div>\n",
       "<style scoped>\n",
       "    .dataframe tbody tr th:only-of-type {\n",
       "        vertical-align: middle;\n",
       "    }\n",
       "\n",
       "    .dataframe tbody tr th {\n",
       "        vertical-align: top;\n",
       "    }\n",
       "\n",
       "    .dataframe thead th {\n",
       "        text-align: right;\n",
       "    }\n",
       "</style>\n",
       "<table border=\"1\" class=\"dataframe\">\n",
       "  <thead>\n",
       "    <tr style=\"text-align: right;\">\n",
       "      <th></th>\n",
       "      <th>price</th>\n",
       "      <th>discount_percent_list</th>\n",
       "      <th>quantity_sold</th>\n",
       "      <th>review_count</th>\n",
       "      <th>location_of_product</th>\n",
       "      <th>isBluetooth</th>\n",
       "      <th>isGaming</th>\n",
       "      <th>isNotWireless</th>\n",
       "      <th>hasMic</th>\n",
       "      <th>length_URL</th>\n",
       "      <th>name_length</th>\n",
       "    </tr>\n",
       "  </thead>\n",
       "  <tbody>\n",
       "    <tr>\n",
       "      <th>0</th>\n",
       "      <td>151000</td>\n",
       "      <td>0.33</td>\n",
       "      <td>528</td>\n",
       "      <td>12</td>\n",
       "      <td>Nước ngoài</td>\n",
       "      <td>False</td>\n",
       "      <td>False</td>\n",
       "      <td>False</td>\n",
       "      <td>True</td>\n",
       "      <td>117</td>\n",
       "      <td>81</td>\n",
       "    </tr>\n",
       "    <tr>\n",
       "      <th>1</th>\n",
       "      <td>39000</td>\n",
       "      <td>0.35</td>\n",
       "      <td>948</td>\n",
       "      <td>275</td>\n",
       "      <td>Hà Nội</td>\n",
       "      <td>False</td>\n",
       "      <td>False</td>\n",
       "      <td>True</td>\n",
       "      <td>True</td>\n",
       "      <td>154</td>\n",
       "      <td>118</td>\n",
       "    </tr>\n",
       "    <tr>\n",
       "      <th>2</th>\n",
       "      <td>81000</td>\n",
       "      <td>0.23</td>\n",
       "      <td>926</td>\n",
       "      <td>280</td>\n",
       "      <td>Hồ Chí Minh</td>\n",
       "      <td>True</td>\n",
       "      <td>False</td>\n",
       "      <td>False</td>\n",
       "      <td>False</td>\n",
       "      <td>125</td>\n",
       "      <td>89</td>\n",
       "    </tr>\n",
       "    <tr>\n",
       "      <th>3</th>\n",
       "      <td>219000</td>\n",
       "      <td>0.37</td>\n",
       "      <td>122</td>\n",
       "      <td>33</td>\n",
       "      <td>Hồ Chí Minh</td>\n",
       "      <td>False</td>\n",
       "      <td>True</td>\n",
       "      <td>False</td>\n",
       "      <td>True</td>\n",
       "      <td>142</td>\n",
       "      <td>106</td>\n",
       "    </tr>\n",
       "    <tr>\n",
       "      <th>4</th>\n",
       "      <td>14500</td>\n",
       "      <td>0.28</td>\n",
       "      <td>1900</td>\n",
       "      <td>260</td>\n",
       "      <td>Hồ Chí Minh</td>\n",
       "      <td>False</td>\n",
       "      <td>False</td>\n",
       "      <td>False</td>\n",
       "      <td>False</td>\n",
       "      <td>140</td>\n",
       "      <td>104</td>\n",
       "    </tr>\n",
       "  </tbody>\n",
       "</table>\n",
       "</div>"
      ],
      "text/plain": [
       "    price  discount_percent_list  quantity_sold  review_count  \\\n",
       "0  151000                   0.33            528            12   \n",
       "1   39000                   0.35            948           275   \n",
       "2   81000                   0.23            926           280   \n",
       "3  219000                   0.37            122            33   \n",
       "4   14500                   0.28           1900           260   \n",
       "\n",
       "  location_of_product  isBluetooth  isGaming  isNotWireless  hasMic  \\\n",
       "0          Nước ngoài        False     False          False    True   \n",
       "1              Hà Nội        False     False           True    True   \n",
       "2         Hồ Chí Minh         True     False          False   False   \n",
       "3         Hồ Chí Minh        False      True          False    True   \n",
       "4         Hồ Chí Minh        False     False          False   False   \n",
       "\n",
       "   length_URL  name_length  \n",
       "0         117           81  \n",
       "1         154          118  \n",
       "2         125           89  \n",
       "3         142          106  \n",
       "4         140          104  "
      ]
     },
     "execution_count": 98,
     "metadata": {},
     "output_type": "execute_result"
    }
   ],
   "source": [
    "df['length_URL'] = df['link_item'].str.len()\n",
    "df['product_name'] = df['link_item'].str.extract('products/(.*)\\.html')[0]\n",
    "df['name_length'] = df['product_name'].str.len()\n",
    "# Drop link_item\n",
    "df = df.drop(columns = ['product_name', 'link_item'])\n",
    "df.head()"
   ]
  },
  {
   "cell_type": "markdown",
   "id": "4e1aab5c9345ffce",
   "metadata": {},
   "source": [
    "## *Data Preprocessing*"
   ]
  },
  {
   "cell_type": "code",
   "execution_count": null,
   "id": "e738611429dc66c0",
   "metadata": {
    "ExecuteTime": {
     "end_time": "2024-05-26T01:25:55.195637Z",
     "start_time": "2024-05-26T01:25:54.152527Z"
    }
   },
   "outputs": [
    {
     "data": {
      "text/html": [
       "<div>\n",
       "<style scoped>\n",
       "    .dataframe tbody tr th:only-of-type {\n",
       "        vertical-align: middle;\n",
       "    }\n",
       "\n",
       "    .dataframe tbody tr th {\n",
       "        vertical-align: top;\n",
       "    }\n",
       "\n",
       "    .dataframe thead th {\n",
       "        text-align: right;\n",
       "    }\n",
       "</style>\n",
       "<table border=\"1\" class=\"dataframe\">\n",
       "  <thead>\n",
       "    <tr style=\"text-align: right;\">\n",
       "      <th></th>\n",
       "      <th>price</th>\n",
       "      <th>discount_percent_list</th>\n",
       "      <th>quantity_sold</th>\n",
       "      <th>review_count</th>\n",
       "      <th>location_of_product</th>\n",
       "      <th>isBluetooth</th>\n",
       "      <th>isGaming</th>\n",
       "      <th>isNotWireless</th>\n",
       "      <th>hasMic</th>\n",
       "      <th>length_URL</th>\n",
       "      <th>name_length</th>\n",
       "    </tr>\n",
       "  </thead>\n",
       "  <tbody>\n",
       "    <tr>\n",
       "      <th>0</th>\n",
       "      <td>151000</td>\n",
       "      <td>0.33</td>\n",
       "      <td>528</td>\n",
       "      <td>12</td>\n",
       "      <td>14</td>\n",
       "      <td>False</td>\n",
       "      <td>False</td>\n",
       "      <td>False</td>\n",
       "      <td>True</td>\n",
       "      <td>117</td>\n",
       "      <td>81</td>\n",
       "    </tr>\n",
       "    <tr>\n",
       "      <th>1</th>\n",
       "      <td>39000</td>\n",
       "      <td>0.35</td>\n",
       "      <td>948</td>\n",
       "      <td>275</td>\n",
       "      <td>7</td>\n",
       "      <td>False</td>\n",
       "      <td>False</td>\n",
       "      <td>True</td>\n",
       "      <td>True</td>\n",
       "      <td>154</td>\n",
       "      <td>118</td>\n",
       "    </tr>\n",
       "    <tr>\n",
       "      <th>2</th>\n",
       "      <td>81000</td>\n",
       "      <td>0.23</td>\n",
       "      <td>926</td>\n",
       "      <td>280</td>\n",
       "      <td>10</td>\n",
       "      <td>True</td>\n",
       "      <td>False</td>\n",
       "      <td>False</td>\n",
       "      <td>False</td>\n",
       "      <td>125</td>\n",
       "      <td>89</td>\n",
       "    </tr>\n",
       "    <tr>\n",
       "      <th>3</th>\n",
       "      <td>219000</td>\n",
       "      <td>0.37</td>\n",
       "      <td>122</td>\n",
       "      <td>33</td>\n",
       "      <td>10</td>\n",
       "      <td>False</td>\n",
       "      <td>True</td>\n",
       "      <td>False</td>\n",
       "      <td>True</td>\n",
       "      <td>142</td>\n",
       "      <td>106</td>\n",
       "    </tr>\n",
       "    <tr>\n",
       "      <th>4</th>\n",
       "      <td>14500</td>\n",
       "      <td>0.28</td>\n",
       "      <td>1900</td>\n",
       "      <td>260</td>\n",
       "      <td>10</td>\n",
       "      <td>False</td>\n",
       "      <td>False</td>\n",
       "      <td>False</td>\n",
       "      <td>False</td>\n",
       "      <td>140</td>\n",
       "      <td>104</td>\n",
       "    </tr>\n",
       "  </tbody>\n",
       "</table>\n",
       "</div>"
      ],
      "text/plain": [
       "    price  discount_percent_list  quantity_sold  review_count  \\\n",
       "0  151000                   0.33            528            12   \n",
       "1   39000                   0.35            948           275   \n",
       "2   81000                   0.23            926           280   \n",
       "3  219000                   0.37            122            33   \n",
       "4   14500                   0.28           1900           260   \n",
       "\n",
       "   location_of_product  isBluetooth  isGaming  isNotWireless  hasMic  \\\n",
       "0                   14        False     False          False    True   \n",
       "1                    7        False     False           True    True   \n",
       "2                   10         True     False          False   False   \n",
       "3                   10        False      True          False    True   \n",
       "4                   10        False     False          False   False   \n",
       "\n",
       "   length_URL  name_length  \n",
       "0         117           81  \n",
       "1         154          118  \n",
       "2         125           89  \n",
       "3         142          106  \n",
       "4         140          104  "
      ]
     },
     "execution_count": 99,
     "metadata": {},
     "output_type": "execute_result"
    }
   ],
   "source": [
    "# Use label encoder to encode categorical variables like location_of_product\n",
    "from sklearn.preprocessing import LabelEncoder\n",
    "le = LabelEncoder()\n",
    "df['location_of_product'] = le.fit_transform(df['location_of_product'].values.reshape(-1, 1))\n",
    "df.head()"
   ]
  },
  {
   "cell_type": "markdown",
   "id": "af3f6d1c5cf24529",
   "metadata": {},
   "source": [
    "After changing categorical variables into numerical variables, we need to scale all of them down to minimize errors when training models."
   ]
  },
  {
   "cell_type": "code",
   "execution_count": null,
   "id": "5d9011d3214ff0a6",
   "metadata": {
    "ExecuteTime": {
     "end_time": "2024-05-26T05:31:42.848861Z",
     "start_time": "2024-05-26T05:31:42.735071Z"
    }
   },
   "outputs": [
    {
     "data": {
      "text/html": [
       "<div>\n",
       "<style scoped>\n",
       "    .dataframe tbody tr th:only-of-type {\n",
       "        vertical-align: middle;\n",
       "    }\n",
       "\n",
       "    .dataframe tbody tr th {\n",
       "        vertical-align: top;\n",
       "    }\n",
       "\n",
       "    .dataframe thead th {\n",
       "        text-align: right;\n",
       "    }\n",
       "</style>\n",
       "<table border=\"1\" class=\"dataframe\">\n",
       "  <thead>\n",
       "    <tr style=\"text-align: right;\">\n",
       "      <th></th>\n",
       "      <th>price</th>\n",
       "      <th>discount_percent_list</th>\n",
       "      <th>quantity_sold</th>\n",
       "      <th>review_count</th>\n",
       "      <th>location_of_product</th>\n",
       "      <th>isBluetooth</th>\n",
       "      <th>isGaming</th>\n",
       "      <th>isNotWireless</th>\n",
       "      <th>hasMic</th>\n",
       "      <th>length_URL</th>\n",
       "      <th>name_length</th>\n",
       "    </tr>\n",
       "  </thead>\n",
       "  <tbody>\n",
       "    <tr>\n",
       "      <th>0</th>\n",
       "      <td>-0.291951</td>\n",
       "      <td>-0.059991</td>\n",
       "      <td>0.033451</td>\n",
       "      <td>-0.296339</td>\n",
       "      <td>0.923970</td>\n",
       "      <td>-0.808863</td>\n",
       "      <td>-0.470900</td>\n",
       "      <td>-0.528763</td>\n",
       "      <td>1.203321</td>\n",
       "      <td>-0.989952</td>\n",
       "      <td>-0.989952</td>\n",
       "    </tr>\n",
       "    <tr>\n",
       "      <th>1</th>\n",
       "      <td>-0.391118</td>\n",
       "      <td>0.058159</td>\n",
       "      <td>0.276999</td>\n",
       "      <td>0.596668</td>\n",
       "      <td>-1.237364</td>\n",
       "      <td>-0.808863</td>\n",
       "      <td>-0.470900</td>\n",
       "      <td>1.891206</td>\n",
       "      <td>1.203321</td>\n",
       "      <td>-0.253566</td>\n",
       "      <td>-0.253566</td>\n",
       "    </tr>\n",
       "    <tr>\n",
       "      <th>2</th>\n",
       "      <td>-0.353931</td>\n",
       "      <td>-0.650739</td>\n",
       "      <td>0.264241</td>\n",
       "      <td>0.613645</td>\n",
       "      <td>-0.311078</td>\n",
       "      <td>1.236303</td>\n",
       "      <td>-0.470900</td>\n",
       "      <td>-0.528763</td>\n",
       "      <td>-0.831034</td>\n",
       "      <td>-0.830733</td>\n",
       "      <td>-0.830733</td>\n",
       "    </tr>\n",
       "    <tr>\n",
       "      <th>3</th>\n",
       "      <td>-0.231742</td>\n",
       "      <td>0.176309</td>\n",
       "      <td>-0.201978</td>\n",
       "      <td>-0.225034</td>\n",
       "      <td>-0.311078</td>\n",
       "      <td>-0.808863</td>\n",
       "      <td>2.123592</td>\n",
       "      <td>-0.528763</td>\n",
       "      <td>1.203321</td>\n",
       "      <td>-0.492394</td>\n",
       "      <td>-0.492394</td>\n",
       "    </tr>\n",
       "    <tr>\n",
       "      <th>4</th>\n",
       "      <td>-0.412811</td>\n",
       "      <td>-0.355365</td>\n",
       "      <td>0.829040</td>\n",
       "      <td>0.545736</td>\n",
       "      <td>-0.311078</td>\n",
       "      <td>-0.808863</td>\n",
       "      <td>-0.470900</td>\n",
       "      <td>-0.528763</td>\n",
       "      <td>-0.831034</td>\n",
       "      <td>-0.532198</td>\n",
       "      <td>-0.532198</td>\n",
       "    </tr>\n",
       "  </tbody>\n",
       "</table>\n",
       "</div>"
      ],
      "text/plain": [
       "      price  discount_percent_list  quantity_sold  review_count  \\\n",
       "0 -0.291951              -0.059991       0.033451     -0.296339   \n",
       "1 -0.391118               0.058159       0.276999      0.596668   \n",
       "2 -0.353931              -0.650739       0.264241      0.613645   \n",
       "3 -0.231742               0.176309      -0.201978     -0.225034   \n",
       "4 -0.412811              -0.355365       0.829040      0.545736   \n",
       "\n",
       "   location_of_product  isBluetooth  isGaming  isNotWireless    hasMic  \\\n",
       "0             0.923970    -0.808863 -0.470900      -0.528763  1.203321   \n",
       "1            -1.237364    -0.808863 -0.470900       1.891206  1.203321   \n",
       "2            -0.311078     1.236303 -0.470900      -0.528763 -0.831034   \n",
       "3            -0.311078    -0.808863  2.123592      -0.528763  1.203321   \n",
       "4            -0.311078    -0.808863 -0.470900      -0.528763 -0.831034   \n",
       "\n",
       "   length_URL  name_length  \n",
       "0   -0.989952    -0.989952  \n",
       "1   -0.253566    -0.253566  \n",
       "2   -0.830733    -0.830733  \n",
       "3   -0.492394    -0.492394  \n",
       "4   -0.532198    -0.532198  "
      ]
     },
     "execution_count": 100,
     "metadata": {},
     "output_type": "execute_result"
    }
   ],
   "source": [
    "from sklearn.preprocessing import StandardScaler\n",
    "scaler = StandardScaler()\n",
    "for col in df.columns:\n",
    "    df[col] = scaler.fit_transform(df[col].values.reshape(-1, 1))\n",
    "df.head()"
   ]
  },
  {
   "cell_type": "markdown",
   "id": "bcbc8a60dfa1ba66",
   "metadata": {},
   "source": [
    "Then, we have to split the dataset into two sets - which are train set and test set. The perfect ratio would be 80% for the train set and 20% for the test set."
   ]
  },
  {
   "cell_type": "code",
   "execution_count": null,
   "id": "9104c4f74234c8dd",
   "metadata": {
    "ExecuteTime": {
     "end_time": "2024-05-26T05:45:28.724501Z",
     "start_time": "2024-05-26T05:45:28.699729Z"
    }
   },
   "outputs": [],
   "source": [
    "# This is similar to the method \"train_test_split\" from \"sklearn.model_selection\"\n",
    "def split_data(X,y,test_size=0.2,random_state=0):\n",
    "    np.random.seed(random_state)                  #set the seed for reproducible results\n",
    "    indices = np.random.permutation(len(X))       #shuffling the indices\n",
    "    data_test_size = int(X.shape[0] * test_size)  #Get the test size\n",
    "\n",
    "    #Separating the Independent and Dependent features into the Train and Test Set\n",
    "    train_indices = indices[data_test_size:]\n",
    "    test_indices = indices[:data_test_size]\n",
    "    X_train = X.iloc[train_indices]\n",
    "    y_train = y.iloc[train_indices]\n",
    "    X_test = X.iloc[test_indices]\n",
    "    y_test = y.iloc[test_indices]\n",
    "    return X_train, y_train, X_test, y_test\n",
    "\n",
    "# Define X and Y\n",
    "y = df['quantity_sold']\n",
    "X = df.drop(['quantity_sold'], axis = 1)\n",
    "# Now split the dataset into train and test set\n",
    "X_train, y_train, X_test, y_test = split_data(X, y, test_size = 0.2, random_state = 0)"
   ]
  },
  {
   "cell_type": "code",
   "execution_count": null,
   "id": "c1786fc901fc975",
   "metadata": {
    "ExecuteTime": {
     "end_time": "2024-05-26T05:45:48.039119Z",
     "start_time": "2024-05-26T05:45:48.026289Z"
    }
   },
   "outputs": [
    {
     "data": {
      "text/plain": [
       "((1600, 10), (400, 10))"
      ]
     },
     "execution_count": 104,
     "metadata": {},
     "output_type": "execute_result"
    }
   ],
   "source": [
    "# Validate the results\n",
    "X_train.shape, X_test.shape"
   ]
  },
  {
   "cell_type": "markdown",
   "id": "5f49693cf4b599b0",
   "metadata": {},
   "source": [
    "# Standard econometric method"
   ]
  },
  {
   "cell_type": "markdown",
   "id": "57f3c0e4b5dc9beb",
   "metadata": {},
   "source": [
    "For this segment, we will use all the features that have been created/engineered to predict the quantity sold for each product, using standard econometric method - or, in other words - Multiple Linear Regression. Let's create the class for linear regression algorithm."
   ]
  },
  {
   "cell_type": "code",
   "execution_count": null,
   "id": "4c12a987048cbc14",
   "metadata": {
    "ExecuteTime": {
     "end_time": "2024-05-26T06:25:38.014840Z",
     "start_time": "2024-05-26T06:25:37.993642Z"
    }
   },
   "outputs": [],
   "source": [
    "class Multiple_Linear_Regression():\n",
    "    def __init__ (self):\n",
    "        self.theta=np.zeros(int(np.random.random()),float)[:,np.newaxis];\n",
    "\n",
    "    def fit(self, X_train, y_train):\n",
    "        '''\n",
    "        Fit data to the model based on the matrix approach to Linear Regression. Actual magic happens here!  \n",
    "        \n",
    "        PARAMETERS:\n",
    "        X_train (numpy.ndarray): Independent variables train data.\n",
    "        y_train (numpy.ndarray): Dependent variable of train data.\n",
    "\n",
    "        RETURNS:\n",
    "        None\n",
    "        '''\n",
    "        X_b = np.c_[np.ones(len(X_train)), X_train]\n",
    "        theta_bst = np.linalg.pinv(X_b.T.dot(X_b)).dot(X_b.T).dot(y_train)\n",
    "        self.theta = theta_bst\n",
    "\n",
    "    def predict(self, X_test):\n",
    "        '''\n",
    "        Fucntion to predict on new data.\n",
    "        \n",
    "        PARAMETERS:\n",
    "        X_test (numpy.ndarray): Independent variables data.\n",
    "\n",
    "        RETURNS:\n",
    "        y_predict (numpy.ndarray): Predicted dependent variable.\n",
    "        '''\n",
    "        X_test = np.c_[np.ones((len(X_test), 1)), X_test]\n",
    "        y_predict = np.dot(X_test, self.theta)\n",
    "\n",
    "        return y_predict"
   ]
  },
  {
   "cell_type": "markdown",
   "id": "9f49e9b0e8ba1a8d",
   "metadata": {},
   "source": [
    "Now, let's jump to the training part."
   ]
  },
  {
   "cell_type": "code",
   "execution_count": null,
   "id": "de9f6c45facc276f",
   "metadata": {
    "ExecuteTime": {
     "end_time": "2024-05-26T06:26:18.910536Z",
     "start_time": "2024-05-26T06:26:18.875327Z"
    }
   },
   "outputs": [],
   "source": [
    "#declaring the \"regressor\" as an object of the class LinearRegression\n",
    "regressor = Multiple_Linear_Regression()\n",
    "\n",
    "#Training \n",
    "regressor.fit(X_train, y_train)"
   ]
  },
  {
   "cell_type": "code",
   "execution_count": null,
   "id": "2ea1a34966922468",
   "metadata": {
    "ExecuteTime": {
     "end_time": "2024-05-26T06:26:50.522599Z",
     "start_time": "2024-05-26T06:26:50.504827Z"
    }
   },
   "outputs": [
    {
     "data": {
      "text/plain": [
       "array([ 0.25046853, -0.16933424, -0.31417907, -0.17791853, -0.31224404,\n",
       "       -0.26688982, -0.17193367, -0.24040212, -0.2857182 , -0.19060769])"
      ]
     },
     "execution_count": 110,
     "metadata": {},
     "output_type": "execute_result"
    }
   ],
   "source": [
    "# Predict the results\n",
    "y_pred = regressor.predict(X_test)\n",
    "y_pred[:10]"
   ]
  },
  {
   "cell_type": "markdown",
   "id": "9f7c53a8fbffb967",
   "metadata": {},
   "source": [
    "### Evaluation metrics:"
   ]
  },
  {
   "cell_type": "code",
   "execution_count": null,
   "id": "20838dd259805c3a",
   "metadata": {
    "ExecuteTime": {
     "end_time": "2024-05-26T06:27:23.594635Z",
     "start_time": "2024-05-26T06:27:23.573535Z"
    }
   },
   "outputs": [],
   "source": [
    "def mse(y_preds, y):\n",
    "    '''\n",
    "    Mean squared error.\n",
    "    \n",
    "    PARAMETERS:\n",
    "    y_preds (numpy.ndarray): Predictions.\n",
    "    y (numpy.ndarray): Original dependent variable values.\n",
    "    \n",
    "    RETURNS:\n",
    "    mse (float): Mean squared error.\n",
    "    '''\n",
    "    mse = ((y - y_preds)**2).mean()\n",
    "    return mse\n",
    "\n",
    "def rmse(y_preds, y):\n",
    "    '''\n",
    "    Root Mean squared error.\n",
    "    \n",
    "    PARAMETERS:\n",
    "    y_preds (numpy.ndarray): Predictions.\n",
    "    y (numpy.ndarray): Original dependent variable values.\n",
    "    \n",
    "    RETURNS:\n",
    "    rmse (float): Root Mean Squared Error.\n",
    "    '''\n",
    "    rmse = (((y - y_preds)**2).mean())**(1/2)\n",
    "    return rmse\n",
    "\n",
    "def r2(y_preds, y):\n",
    "    '''\n",
    "    R square score.\n",
    "    \n",
    "    PARAMETERS:\n",
    "    y_preds (numpy.ndarray): Predictions.\n",
    "    y (numpy.ndarray): Original dependent variable values.\n",
    "    \n",
    "    RETURNS:\n",
    "    r2 (float): R-Squared score.\n",
    "    '''\n",
    "    ssr = sum((y - y_preds) ** 2)\n",
    "    sst = sum((y - y.mean()) ** 2)\n",
    "    return 1 - ssr/sst"
   ]
  },
  {
   "cell_type": "code",
   "execution_count": null,
   "id": "409d4178d8a6dd82",
   "metadata": {
    "ExecuteTime": {
     "end_time": "2024-05-26T06:27:37.996941Z",
     "start_time": "2024-05-26T06:27:37.966709Z"
    }
   },
   "outputs": [
    {
     "data": {
      "text/plain": [
       "(0.15236117110446523, 0.390334691136293, 0.8683054203912304)"
      ]
     },
     "execution_count": 112,
     "metadata": {},
     "output_type": "execute_result"
    }
   ],
   "source": [
    "mse(y_pred, y_test), rmse(y_pred, y_test), r2(y_pred ,y_test)"
   ]
  },
  {
   "cell_type": "markdown",
   "id": "478400f75e4dd67b",
   "metadata": {},
   "source": [
    "### True vs Fitted values"
   ]
  },
  {
   "cell_type": "code",
   "execution_count": null,
   "id": "f6299e393b7c22f8",
   "metadata": {
    "ExecuteTime": {
     "end_time": "2024-05-26T06:28:11.542643Z",
     "start_time": "2024-05-26T06:28:11.038686Z"
    }
   },
   "outputs": [
    {
     "data": {
      "image/png": "[encoded data removed]",
      "text/plain": [
       "<Figure size 640x480 with 1 Axes>"
      ]
     },
     "metadata": {},
     "output_type": "display_data"
    }
   ],
   "source": [
    "fig, ax = plt.subplots()\n",
    "\n",
    "ax.scatter(y_test, y_pred)\n",
    "ax.set_xlabel('True Values')\n",
    "ax.set_ylabel('Fitted Values')\n",
    "ax.set_title('True Value vs. Fitted Values');"
   ]
  },
  {
   "cell_type": "markdown",
   "id": "7050919e8c1df7e",
   "metadata": {},
   "source": [
    "The scatter plot titled \"True Value vs. Fitted Values\" suggests a positive relationship between the True Values (on the x-axis) and the Fitted Values (on the y-axis). This is inferred from the general trend of the data points increasing along both axes.\n",
    "\n",
    "Here are some specific observations:\n",
    "1. **Positive Correlation**: As the True Values increase, the Fitted Values also tend to increase. This indicates a positive correlation.\n",
    "2. **Variability in Predictions**: The spread of points suggests that there may be variability in how well the fitted values predict the true values, especially as true values increase.\n",
    "3. **Accuracy at Lower Values**: The concentration of points near the origin (where both True Values and Fitted Values are low) indicates that for lower true values, fitted values tend to be more accurate or consistent."
   ]
  },
  {
   "cell_type": "markdown",
   "id": "b0a06fd3581d3a3",
   "metadata": {},
   "source": [
    "### Coefficient analysis"
   ]
  },
  {
   "cell_type": "code",
   "execution_count": null,
   "id": "18722e33bc2132fa",
   "metadata": {
    "ExecuteTime": {
     "end_time": "2024-05-26T06:28:39.937925Z",
     "start_time": "2024-05-26T06:28:39.926608Z"
    }
   },
   "outputs": [
    {
     "data": {
      "text/plain": [
       "array([-0.00668304, -0.00897168, -0.03128013,  0.91711045, -0.0016899 ,\n",
       "       -0.03301765, -0.00858114,  0.01546348, -0.01432814,  0.01399626,\n",
       "        0.01399626])"
      ]
     },
     "execution_count": 114,
     "metadata": {},
     "output_type": "execute_result"
    }
   ],
   "source": [
    "regressor.theta"
   ]
  },
  {
   "cell_type": "markdown",
   "id": "e4dd9c8f37b0aad9",
   "metadata": {},
   "source": [
    "From this, we can see that location of products really affect products' quantity sold. It's because the demand for certain products can vary based on geographical location. For earphones/headphones - which are technical gadgets - locating in or near the most modern metropolitan is a plus for customers living there/near there as they have a large demand for technical products.."
   ]
  },
  {
   "cell_type": "markdown",
   "id": "2ad2998f2fa0c15d",
   "metadata": {},
   "source": [
    "# Using Random Forest Algorithm"
   ]
  },
  {
   "cell_type": "markdown",
   "id": "83b710c263875754",
   "metadata": {},
   "source": [
    "## *Implementing Random Forest Regressor*"
   ]
  },
  {
   "cell_type": "code",
   "execution_count": null,
   "id": "3da566c06bbe109a",
   "metadata": {
    "ExecuteTime": {
     "end_time": "2024-05-26T07:17:17.174195Z",
     "start_time": "2024-05-26T07:17:15.042203Z"
    }
   },
   "outputs": [
    {
     "data": {
      "text/plain": [
       "array([ 0.38204884, -0.12705272, -0.2597224 , -0.20789894, -0.26866407,\n",
       "       -0.26649534, -0.23873091, -0.26842053, -0.26866407, -0.22719139])"
      ]
     },
     "execution_count": 136,
     "metadata": {},
     "output_type": "execute_result"
    }
   ],
   "source": [
    "from sklearn.ensemble import RandomForestRegressor\n",
    "reg = RandomForestRegressor()\n",
    "reg.fit(X_train, y_train)\n",
    "y_pred = reg.predict(X_test)\n",
    "y_pred[:10]"
   ]
  },
  {
   "cell_type": "markdown",
   "id": "14d6303f69f82f07",
   "metadata": {},
   "source": [
    "Now, let's check whether the model is good or not"
   ]
  },
  {
   "cell_type": "code",
   "execution_count": null,
   "id": "52392eb81a67e7c",
   "metadata": {
    "ExecuteTime": {
     "end_time": "2024-05-26T07:49:57.249685Z",
     "start_time": "2024-05-26T07:49:57.199686Z"
    }
   },
   "outputs": [
    {
     "name": "stdout",
     "output_type": "stream",
     "text": [
      "MAE:  0.08410295959285131\n",
      "MSE:  0.09080846748358506\n",
      "MAPE:  0.6199845496878943\n",
      "RMSE:  0.3013444333044582\n",
      "R^2:  0.9215089851077098\n"
     ]
    }
   ],
   "source": [
    "from sklearn.metrics import mean_absolute_error, mean_squared_error, mean_absolute_percentage_error, r2_score\n",
    "mae = mean_absolute_error(y_test, y_pred)\n",
    "mse = mean_squared_error(y_test, y_pred)\n",
    "r2 = r2_score(y_test, y_pred)\n",
    "mape = mean_absolute_percentage_error(y_test, y_pred)\n",
    "rmse = np.sqrt(mse)\n",
    "print('MAE: ', mae)\n",
    "print('MSE: ', mse)\n",
    "print('MAPE: ', mape)\n",
    "print('RMSE: ', rmse)\n",
    "print('R^2: ', r2)"
   ]
  },
  {
   "cell_type": "code",
   "execution_count": null,
   "id": "ffc20c6c448e7568",
   "metadata": {
    "ExecuteTime": {
     "end_time": "2024-05-26T07:50:25.121Z",
     "start_time": "2024-05-26T07:50:24.778936Z"
    }
   },
   "outputs": [
    {
     "data": {
      "image/png": "[encoded data removed]",
      "text/plain": [
       "<Figure size 640x480 with 1 Axes>"
      ]
     },
     "metadata": {},
     "output_type": "display_data"
    }
   ],
   "source": [
    "fig, ax = plt.subplots()\n",
    "\n",
    "ax.scatter(y_test, y_pred)\n",
    "ax.set_xlabel('True Values')\n",
    "ax.set_ylabel('Fitted Values')\n",
    "ax.set_title('True Value vs. Fitted Values');"
   ]
  },
  {
   "cell_type": "markdown",
   "id": "4b0be9773d6d9815",
   "metadata": {},
   "source": [
    "## *Hyperparameter tuning*"
   ]
  },
  {
   "cell_type": "markdown",
   "id": "1534611cc522acc4",
   "metadata": {},
   "source": [
    "Hyperparameter tuning is the process of finding the optimal set of hyperparameters for a machine learning model. It is important to tune the hyperparameters of a model to get the best performance on the task at hand.\n",
    "\n",
    "There are several methods that you can use to tune the hyperparameters of a random forest regressor. Some common methods include:\n",
    "\n",
    "1. Grid search: In grid search, you specify a grid of hyperparameter values, and the model is trained and evaluated using all possible combinations of these values. Grid search can be time-consuming, as it requires training and evaluating the model multiple times.\n",
    "\n",
    "2. Random search: In random search, you specify a distribution of hyperparameter values, and a set of random combinations of these values are sampled and used to train and evaluate the model. Random search is often faster than grid search, as it does not evaluate all possible combinations of hyperparameters.\n",
    "\n",
    "3. Bayesian optimization: In Bayesian optimization, a probabilistic model is used to model the unknown function that maps hyperparameters to the model's performance. The model is then used to guide the search for the optimal hyperparameters.\n",
    "\n",
    "In general, you should always tune your model as it must help to enhance the algorithm's performance. As you might know, tuning is a really expensive process time-wise. When tuning a Random Forest model it gets even worse as you must train hundreds of trees multiple times for each parameter grid subset.\n",
    "\n",
    "In this section, we will use `GridSearchCV` from `sklearn.model_selection` package for hyperparameter tuning and compare the results of each one."
   ]
  },
  {
   "cell_type": "code",
   "execution_count": null,
   "id": "592ae43d98b17ce8",
   "metadata": {
    "ExecuteTime": {
     "end_time": "2024-05-26T07:56:20.411538Z",
     "start_time": "2024-05-26T07:53:25.930959Z"
    }
   },
   "outputs": [
    {
     "data": {
      "text/html": [
       "<style>#sk-container-id-1 {color: black;}#sk-container-id-1 pre{padding: 0;}#sk-container-id-1 div.sk-toggleable {background-color: white;}#sk-container-id-1 label.sk-toggleable__label {cursor: pointer;display: block;width: 100%;margin-bottom: 0;padding: 0.3em;box-sizing: border-box;text-align: center;}#sk-container-id-1 label.sk-toggleable__label-arrow:before {content: \"▸\";float: left;margin-right: 0.25em;color: #696969;}#sk-container-id-1 label.sk-toggleable__label-arrow:hover:before {color: black;}#sk-container-id-1 div.sk-estimator:hover label.sk-toggleable__label-arrow:before {color: black;}#sk-container-id-1 div.sk-toggleable__content {max-height: 0;max-width: 0;overflow: hidden;text-align: left;background-color: #f0f8ff;}#sk-container-id-1 div.sk-toggleable__content pre {margin: 0.2em;color: black;border-radius: 0.25em;background-color: #f0f8ff;}#sk-container-id-1 input.sk-toggleable__control:checked~div.sk-toggleable__content {max-height: 200px;max-width: 100%;overflow: auto;}#sk-container-id-1 input.sk-toggleable__control:checked~label.sk-toggleable__label-arrow:before {content: \"▾\";}#sk-container-id-1 div.sk-estimator input.sk-toggleable__control:checked~label.sk-toggleable__label {background-color: #d4ebff;}#sk-container-id-1 div.sk-label input.sk-toggleable__control:checked~label.sk-toggleable__label {background-color: #d4ebff;}#sk-container-id-1 input.sk-hidden--visually {border: 0;clip: rect(1px 1px 1px 1px);clip: rect(1px, 1px, 1px, 1px);height: 1px;margin: -1px;overflow: hidden;padding: 0;position: absolute;width: 1px;}#sk-container-id-1 div.sk-estimator {font-family: monospace;background-color: #f0f8ff;border: 1px dotted black;border-radius: 0.25em;box-sizing: border-box;margin-bottom: 0.5em;}#sk-container-id-1 div.sk-estimator:hover {background-color: #d4ebff;}#sk-container-id-1 div.sk-parallel-item::after {content: \"\";width: 100%;border-bottom: 1px solid gray;flex-grow: 1;}#sk-container-id-1 div.sk-label:hover label.sk-toggleable__label {background-color: #d4ebff;}#sk-container-id-1 div.sk-serial::before {content: \"\";position: absolute;border-left: 1px solid gray;box-sizing: border-box;top: 0;bottom: 0;left: 50%;z-index: 0;}#sk-container-id-1 div.sk-serial {display: flex;flex-direction: column;align-items: center;background-color: white;padding-right: 0.2em;padding-left: 0.2em;position: relative;}#sk-container-id-1 div.sk-item {position: relative;z-index: 1;}#sk-container-id-1 div.sk-parallel {display: flex;align-items: stretch;justify-content: center;background-color: white;position: relative;}#sk-container-id-1 div.sk-item::before, #sk-container-id-1 div.sk-parallel-item::before {content: \"\";position: absolute;border-left: 1px solid gray;box-sizing: border-box;top: 0;bottom: 0;left: 50%;z-index: -1;}#sk-container-id-1 div.sk-parallel-item {display: flex;flex-direction: column;z-index: 1;position: relative;background-color: white;}#sk-container-id-1 div.sk-parallel-item:first-child::after {align-self: flex-end;width: 50%;}#sk-container-id-1 div.sk-parallel-item:last-child::after {align-self: flex-start;width: 50%;}#sk-container-id-1 div.sk-parallel-item:only-child::after {width: 0;}#sk-container-id-1 div.sk-dashed-wrapped {border: 1px dashed gray;margin: 0 0.4em 0.5em 0.4em;box-sizing: border-box;padding-bottom: 0.4em;background-color: white;}#sk-container-id-1 div.sk-label label {font-family: monospace;font-weight: bold;display: inline-block;line-height: 1.2em;}#sk-container-id-1 div.sk-label-container {text-align: center;}#sk-container-id-1 div.sk-container {/* jupyter's `normalize.less` sets `[hidden] { display: none; }` but bootstrap.min.css set `[hidden] { display: none !important; }` so we also need the `!important` here to be able to override the default hidden behavior on the sphinx rendered scikit-learn.org. See: https://github.com/scikit-learn/scikit-learn/issues/21755 */display: inline-block !important;position: relative;}#sk-container-id-1 div.sk-text-repr-fallback {display: none;}</style><div id=\"sk-container-id-1\" class=\"sk-top-container\"><div class=\"sk-text-repr-fallback\"><pre>GridSearchCV(cv=5, estimator=RandomForestRegressor(random_state=1502),\n",
       "             param_grid={&#x27;max_depth&#x27;: [None, 5, 10],\n",
       "                         &#x27;min_samples_leaf&#x27;: [1, 2, 4],\n",
       "                         &#x27;min_samples_split&#x27;: [2, 5, 10],\n",
       "                         &#x27;n_estimators&#x27;: [10, 50, 100]})</pre><b>In a Jupyter environment, please rerun this cell to show the HTML representation or trust the notebook. <br />On GitHub, the HTML representation is unable to render, please try loading this page with nbviewer.org.</b></div><div class=\"sk-container\" hidden><div class=\"sk-item sk-dashed-wrapped\"><div class=\"sk-label-container\"><div class=\"sk-label sk-toggleable\"><input class=\"sk-toggleable__control sk-hidden--visually\" id=\"sk-estimator-id-1\" type=\"checkbox\" ><label for=\"sk-estimator-id-1\" class=\"sk-toggleable__label sk-toggleable__label-arrow\">GridSearchCV</label><div class=\"sk-toggleable__content\"><pre>GridSearchCV(cv=5, estimator=RandomForestRegressor(random_state=1502),\n",
       "             param_grid={&#x27;max_depth&#x27;: [None, 5, 10],\n",
       "                         &#x27;min_samples_leaf&#x27;: [1, 2, 4],\n",
       "                         &#x27;min_samples_split&#x27;: [2, 5, 10],\n",
       "                         &#x27;n_estimators&#x27;: [10, 50, 100]})</pre></div></div></div><div class=\"sk-parallel\"><div class=\"sk-parallel-item\"><div class=\"sk-item\"><div class=\"sk-label-container\"><div class=\"sk-label sk-toggleable\"><input class=\"sk-toggleable__control sk-hidden--visually\" id=\"sk-estimator-id-2\" type=\"checkbox\" ><label for=\"sk-estimator-id-2\" class=\"sk-toggleable__label sk-toggleable__label-arrow\">estimator: RandomForestRegressor</label><div class=\"sk-toggleable__content\"><pre>RandomForestRegressor(random_state=1502)</pre></div></div></div><div class=\"sk-serial\"><div class=\"sk-item\"><div class=\"sk-estimator sk-toggleable\"><input class=\"sk-toggleable__control sk-hidden--visually\" id=\"sk-estimator-id-3\" type=\"checkbox\" ><label for=\"sk-estimator-id-3\" class=\"sk-toggleable__label sk-toggleable__label-arrow\">RandomForestRegressor</label><div class=\"sk-toggleable__content\"><pre>RandomForestRegressor(random_state=1502)</pre></div></div></div></div></div></div></div></div></div></div>"
      ],
      "text/plain": [
       "GridSearchCV(cv=5, estimator=RandomForestRegressor(random_state=1502),\n",
       "             param_grid={'max_depth': [None, 5, 10],\n",
       "                         'min_samples_leaf': [1, 2, 4],\n",
       "                         'min_samples_split': [2, 5, 10],\n",
       "                         'n_estimators': [10, 50, 100]})"
      ]
     },
     "execution_count": 140,
     "metadata": {},
     "output_type": "execute_result"
    }
   ],
   "source": [
    "from sklearn.model_selection import GridSearchCV\n",
    "# Create a RandomForestRegressor object for GridSearchCV tuning\n",
    "rdr_gridcv_tune = RandomForestRegressor(random_state = 1502)\n",
    "\n",
    "# Define the hyperparameter grid\n",
    "param_grid = {\n",
    "    \"n_estimators\": [10, 50, 100],\n",
    "    \"max_depth\": [None, 5, 10],\n",
    "    \"min_samples_split\": [2, 5, 10],\n",
    "    \"min_samples_leaf\": [1, 2, 4]\n",
    "}\n",
    "\n",
    "# Create the grid search object\n",
    "grid_search = GridSearchCV(rdr_gridcv_tune, param_grid, cv = 5)\n",
    "\n",
    "# Then, fit into the train dataset\n",
    "grid_search.fit(X_train, y_train)"
   ]
  },
  {
   "cell_type": "markdown",
   "id": "79b7897392881c35",
   "metadata": {},
   "source": [
    "Here's a breakdown of the code:\n",
    "\n",
    "In the provided code, a RandomForestRegressor model is set up for hyperparameter tuning using GridSearchCV. The model instance, `rdr_gridcv_tune`, is created with a specified random state for reproducibility. A hyperparameter grid, `param_grid`, is defined to explore different values for `n_estimators`, `max_depth`, `min_samples_split`, and `min_samples_leaf`. The GridSearchCV object, `grid_search`, is instantiated with the model, hyperparameter grid, and 5-fold cross-validation. Finally, the `fit` method is called on the grid search object using the training dataset (`x_train` and `y_train`), allowing the algorithm to systematically search through the hyperparameter space and identify the best set of parameters. After fitting, the best hyperparameters and the corresponding model can be obtained using `grid_search.best_params_` and `grid_search.best_estimator_`, respectively.\n",
    "\n",
    "Get the best parameters from hyperparameter tuning"
   ]
  },
  {
   "cell_type": "code",
   "execution_count": null,
   "id": "6aca20a207d33914",
   "metadata": {
    "ExecuteTime": {
     "end_time": "2024-05-26T07:56:20.443416Z",
     "start_time": "2024-05-26T07:56:20.416343Z"
    }
   },
   "outputs": [
    {
     "data": {
      "text/plain": [
       "{'max_depth': 5,\n",
       " 'min_samples_leaf': 1,\n",
       " 'min_samples_split': 2,\n",
       " 'n_estimators': 10}"
      ]
     },
     "execution_count": 141,
     "metadata": {},
     "output_type": "execute_result"
    }
   ],
   "source": [
    "grid_search.best_params_"
   ]
  },
  {
   "cell_type": "markdown",
   "id": "42ddd8a1d7ace067",
   "metadata": {},
   "source": [
    "Having received the best parameters for tuning in, let's implement the new hypeparameter after tuning to predict the results and evaluate them using metrics and graphs."
   ]
  },
  {
   "cell_type": "code",
   "execution_count": null,
   "id": "2bd643a761fab8db",
   "metadata": {
    "ExecuteTime": {
     "end_time": "2024-05-26T08:02:04.947257Z",
     "start_time": "2024-05-26T08:02:04.875203Z"
    }
   },
   "outputs": [
    {
     "data": {
      "text/plain": [
       "array([ 0.16972036, -0.15256018, -0.25778206, -0.2464679 , -0.25778206,\n",
       "       -0.25778206, -0.2464679 , -0.25778206, -0.25778206, -0.2464679 ])"
      ]
     },
     "execution_count": 142,
     "metadata": {},
     "output_type": "execute_result"
    }
   ],
   "source": [
    "# Re-initialize RandomForestRegressor object with hyperparameters\n",
    "rf_gridtuned = RandomForestRegressor(\n",
    "    n_estimators = grid_search.best_params_['n_estimators'],\n",
    "    min_samples_leaf = grid_search.best_params_['min_samples_leaf'],\n",
    "    min_samples_split = grid_search.best_params_['min_samples_split'],\n",
    "    max_depth = grid_search.best_params_['max_depth'])\n",
    "\n",
    "# Fit to train the model\n",
    "rf_gridtuned.fit(X_train, y_train)\n",
    "\n",
    "# Predict on the test set\n",
    "y_pred = rf_gridtuned.predict(X_test)\n",
    "\n",
    "# Print a few predictions\n",
    "y_pred[:10]"
   ]
  },
  {
   "cell_type": "markdown",
   "id": "3e80bcf22da0793d",
   "metadata": {},
   "source": [
    "Next, the RandomForestRegressor model is re-initialized with the best hyperparameters obtained from the earlier GridSearchCV process. The `rf_gridtuned` model is created with the optimal values for `n_estimators`, `min_samples_leaf`, `min_samples_split`, and `max_depth` extracted from the `grid_search.best_params_` dictionary. The model is then fitted to the training data using the `fit` method. Subsequently, predictions are made on the test set (`x_test`), and the first 10 predictions are printed using `y_pred[:10]`. This final part demonstrates the application of the tuned model to make predictions on new data."
   ]
  },
  {
   "cell_type": "code",
   "execution_count": null,
   "id": "4f3b479dd1e9db9b",
   "metadata": {
    "ExecuteTime": {
     "end_time": "2024-05-26T08:02:32.842677Z",
     "start_time": "2024-05-26T08:02:32.801680Z"
    }
   },
   "outputs": [
    {
     "data": {
      "text/html": [
       "<div>\n",
       "<style scoped>\n",
       "    .dataframe tbody tr th:only-of-type {\n",
       "        vertical-align: middle;\n",
       "    }\n",
       "\n",
       "    .dataframe tbody tr th {\n",
       "        vertical-align: top;\n",
       "    }\n",
       "\n",
       "    .dataframe thead th {\n",
       "        text-align: right;\n",
       "    }\n",
       "</style>\n",
       "<table border=\"1\" class=\"dataframe\">\n",
       "  <thead>\n",
       "    <tr style=\"text-align: right;\">\n",
       "      <th></th>\n",
       "      <th>Values</th>\n",
       "    </tr>\n",
       "  </thead>\n",
       "  <tbody>\n",
       "    <tr>\n",
       "      <th>MAE</th>\n",
       "      <td>0.089426</td>\n",
       "    </tr>\n",
       "    <tr>\n",
       "      <th>MSE</th>\n",
       "      <td>0.090243</td>\n",
       "    </tr>\n",
       "    <tr>\n",
       "      <th>MAPE</th>\n",
       "      <td>0.678123</td>\n",
       "    </tr>\n",
       "    <tr>\n",
       "      <th>RMSE</th>\n",
       "      <td>0.300404</td>\n",
       "    </tr>\n",
       "    <tr>\n",
       "      <th>R^2</th>\n",
       "      <td>0.921998</td>\n",
       "    </tr>\n",
       "  </tbody>\n",
       "</table>\n",
       "</div>"
      ],
      "text/plain": [
       "        Values\n",
       "MAE   0.089426\n",
       "MSE   0.090243\n",
       "MAPE  0.678123\n",
       "RMSE  0.300404\n",
       "R^2   0.921998"
      ]
     },
     "execution_count": 143,
     "metadata": {},
     "output_type": "execute_result"
    }
   ],
   "source": [
    "mae = mean_absolute_error(y_test, y_pred)\n",
    "mse = mean_squared_error(y_test, y_pred)\n",
    "mape = mean_absolute_percentage_error(y_test, y_pred)\n",
    "rmse = np.sqrt(mean_squared_error(y_test, y_pred))\n",
    "r2 = r2_score(y_test, y_pred)\n",
    "# Create a table for better look\n",
    "metrics_df = pd.DataFrame([mae, mse, mape, rmse, r2],\n",
    "                          index = ['MAE', 'MSE', 'MAPE', 'RMSE', 'R^2'],\n",
    "                          columns = ['Values'])\n",
    "metrics_df"
   ]
  },
  {
   "cell_type": "markdown",
   "id": "96cfed2522b0af8b",
   "metadata": {},
   "source": [
    "As we can see, after tuning using `GridSearchCV`, the performance of predicting has enhanced quite significantly. The RMSE has decreased a bit to 30%, indicating that the prediction is less far off the actual values than without tuning. Moreover, $R^2$ has enhanced slightly to about 92.2%, which means that the independent variables can explain about 92.2% the meaning of the dependent variable. This optimistically means the model was doing an excellent job in predicting quantity sold."
   ]
  },
  {
   "cell_type": "code",
   "execution_count": null,
   "id": "ac8a2826289db11f",
   "metadata": {
    "ExecuteTime": {
     "end_time": "2024-05-26T08:05:01.187906Z",
     "start_time": "2024-05-26T08:05:00.901897Z"
    }
   },
   "outputs": [
    {
     "data": {
      "image/png": "[encoded data removed]",
      "text/plain": [
       "<Figure size 640x480 with 1 Axes>"
      ]
     },
     "metadata": {},
     "output_type": "display_data"
    }
   ],
   "source": [
    "fig, ax = plt.subplots()\n",
    "\n",
    "ax.scatter(y_test, y_pred)\n",
    "ax.set_xlabel('True Values')\n",
    "ax.set_ylabel('Fitted Values')\n",
    "ax.set_title('True Value vs. Fitted Values');"
   ]
  },
  {
   "cell_type": "markdown",
   "id": "87749dcdb0e5589b",
   "metadata": {},
   "source": [
    "Here are some observations:\n",
    "1. Concentration near Origin: The concentration of points near the origin (0,0) suggests that for lower true values of quantities sold, the model’s predictions are quite accurate. This indicates that the model is performing well for items with lower sales quantities.\n",
    "2. Spread towards Higher Values: As we move towards higher true values (towards 10,10), there is more variance in fitted values. This indicates less accuracy in predictions for items with higher sales quantities. The model might need to be improved to handle these cases better.\n",
    "3. Outlier Detection: There is one distinct outlier near (10,10). This could suggest an instance where both actual and predicted sales were high. However, it could also indicate potential overfitting or anomalies in either prediction or actual data.\n",
    "In summary, the model seems to perform well for lower sales quantities. "
   ]
  },
  {
   "cell_type": "markdown",
   "id": "96403566fd2db739",
   "metadata": {},
   "source": [
    "Since Random Forest Regressor is a tree-based algorithm, we cannot find the coefficients just like the Linear Regresion one. However, there's one way to see which feature affects quantity sold the most - that is - feature importance plot"
   ]
  },
  {
   "cell_type": "code",
   "execution_count": null,
   "id": "49e0c97a6b6375ca",
   "metadata": {
    "ExecuteTime": {
     "end_time": "2024-05-27T12:15:08.949351Z",
     "start_time": "2024-05-27T12:15:08.546250Z"
    }
   },
   "outputs": [
    {
     "data": {
      "text/plain": [
       "<Axes: title={'center': \"Features' importances based on Random Forest Regeressor\"}>"
      ]
     },
     "execution_count": 147,
     "metadata": {},
     "output_type": "execute_result"
    },
    {
     "data": {
      "image/png": "[encoded data removed]",
      "text/plain": [
       "<Figure size 640x480 with 1 Axes>"
      ]
     },
     "metadata": {},
     "output_type": "display_data"
    }
   ],
   "source": [
    "feat_importances = pd.Series(rf_gridtuned.feature_importances_, index=X_train.columns)\n",
    "feat_importances.nlargest(4).plot(kind = 'barh', title = 'Features\\' importances based on Random Forest Regeressor')"
   ]
  },
  {
   "cell_type": "markdown",
   "id": "c872505636578a3b",
   "metadata": {},
   "source": [
    "This graph illustrates the 4 most important features that affect quantity sold of earphone products using Random Forest Regressor algorithm. Here are some insights: \n",
    "\n",
    "1. We can clearly see that `review_count` affects the quantity sold of the product most. This suggests that the number of reviews a product has received is the most significant predictor of its sales volume according to the Random Forest Regressor model. Products with more reviews might be more visible or more trusted by customers, leading to higher sales.\n",
    "\n",
    "2. The ‘price’ feature is the second most important. This indicates that the price of the earphones significantly influences their sales volume. This could be because customers often consider price when deciding whether to purchase a product.\n",
    "\n",
    "3. The ‘length_URL’ feature has a lower importance score. While it does have some influence on the prediction, it is less significant than the number of reviews and the price. The length of the URL might be related to the product’s listing details or how the product is categorized on Lazada.\n",
    "\n",
    "4. The ‘isNotWireless’ feature has the lowest importance score among the 4. This suggests that whether the earphones are wireless or not does not significantly influence their sales volume according to this model.\n",
    "\n",
    "In summary, the model suggests that the number of reviews and the price of the earphones are the most important factors in predicting sales volume on Lazada, while the length of the URL and whether the earphones are wireless are less important. "
   ]
  },
  {
   "cell_type": "markdown",
   "id": "f52640552ba91ad9",
   "metadata": {},
   "source": [
    "# Comparison"
   ]
  },
  {
   "cell_type": "markdown",
   "id": "d14696b6e9f284d3",
   "metadata": {},
   "source": [
    "**Metrics comparison**\n",
    "\n",
    "Based on the provided metrics, we can compare the performance of the Linear Regression model and the Random Forest Regressor model as follows:\n",
    "\n",
    "- **Mean Squared Error (MSE)**: This is a measure of how close a fitted line is to data points. The smaller the MSE, the closer the fit is to the data. In this case, the MSE of the Random Forest Regressor (0.090243) is lower than the MSE of the Linear Regression model (0.15236117110446523), which means the Random Forest model has less error in the prediction.\n",
    "\n",
    "- **Root Mean Squared Error (RMSE)**: This is the square root of the mean square error. It measures the standard deviation of the residuals. Similar to MSE, a lower value of RMSE indicates a better fit to the data. Here, the RMSE of the Random Forest Regressor (0.300404) is lower than the RMSE of the Linear Regression model (0.390334691136293), suggesting that the Random Forest model has less prediction error.\n",
    "\n",
    "- **Coefficient of Determination (R^2)**: This is a statistical measure that represents the proportion of the variance for a dependent variable that's explained by an independent variable or variables in a regression model. The closer R^2 is to 1, the better the model fits the data. In this case, the R^2 of the Random Forest Regressor (0.921998) is higher than the R^2 of the Linear Regression model (0.8683054203912304), indicating that the Random Forest model explains the data better.\n",
    "\n",
    "In conclusion, based on these metrics, the **Random Forest Regressor** appears to perform better than the Linear Regression model for predicting the quantity sold of earphones on Lazada. \n",
    "\n",
    "**Actual vs fitted comparison**\n",
    "\n",
    "Based on the scatter plot of the Random Forest regressor and Multiple Linear Regression, here are some insights:\n",
    "\n",
    "- **Overall Fit**: The points in Random Forest regressor's plot are more tightly clustered around the line where true values equal fitted values compared to the Multiple Linear Regression model. This indicates that the Random Forest regressor has a better overall fit and is more accurate in predicting the quantity sold of earphones.\n",
    "\n",
    "- **Prediction Accuracy**: Similar to the Multiple Linear Regression model, the Random Forest regressor is more accurate in predicting smaller quantities sold. However, the spread of points for higher quantities sold is less in the Random Forest regressor plot, indicating that it is more accurate for higher sales figures compared to the Multiple Linear Regression model.\n",
    "\n",
    "- **Residuals**: The residuals (the difference between the actual and predicted values) are smaller in the Random Forest regressor compared to the Multiple Linear Regression model. This suggests that the Random Forest regressor has captured more information in the data and made more accurate predictions.\n",
    "\n",
    "Comparing these insights with the previous insights from the Multiple Linear Regression model, it appears that the Random Forest regressor provides a better fit and more accurate predictions for the quantity sold of earphones on Lazada. This could be due to the ability of the Random Forest regressor to capture more complex patterns in the data. \n",
    "\n",
    "**Features' importances comparison**\n",
    "\n",
    "Looking through the coefficients, Multiple Linear Regression suggests that location of products have way more impact on quantity sold than other factors. Whereas, Random Forest Regressor suggests that number of reviews on the products have way more impact on the quantity sold of earphone products. What's more, number of reviews tend to have negative impact if we use the coefficients from Multiple Linear Regression model."
   ]
  }
 ],
 "metadata": {
  "kernelspec": {
   "display_name": "Python 3",
   "language": "python",
   "name": "python3"
  },
  "language_info": {
   "codemirror_mode": {
    "name": "ipython",
    "version": 3
   },
   "file_extension": ".py",
   "mimetype": "text/x-python",
   "name": "python",
   "nbconvert_exporter": "python",
   "pygments_lexer": "ipython3",
   "version": "3.12.6"
  }
 },
 "nbformat": 4,
 "nbformat_minor": 5
}
